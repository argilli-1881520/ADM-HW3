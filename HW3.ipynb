{
 "cells": [
  {
   "cell_type": "code",
   "execution_count": 20,
   "id": "a069221c-b6aa-44d5-a33e-e43e554079fe",
   "metadata": {},
   "outputs": [],
   "source": [
    "import requests as rq\n",
    "import bs4 as bs\n",
    "import re\n",
    "import time"
   ]
  },
  {
   "cell_type": "code",
   "execution_count": 15,
   "id": "63d93aa8-13cf-4c9d-9d17-0eb2d45f097a",
   "metadata": {},
   "outputs": [],
   "source": [
    "url = f\"https://www.atlasobscura.com/places?page=202&sort=likes_count\"\n",
    "raw = rq.get(url)\n",
    "soup = bs.BeautifulSoup(raw.content)\n",
    "\n",
    "#ciao"
   ]
  },
  {
   "cell_type": "code",
   "execution_count": 18,
   "id": "3e9198d1-6b21-4f04-8b3d-f73ef280b8de",
   "metadata": {},
   "outputs": [
    {
     "data": {
      "text/plain": [
       "True"
      ]
     },
     "execution_count": 18,
     "metadata": {},
     "output_type": "execute_result"
    }
   ],
   "source": [
    "raw.status_code == 200"
   ]
  },
  {
   "cell_type": "code",
   "execution_count": 9,
   "id": "3f858e4e-060e-4ffd-8f99-049417819ce2",
   "metadata": {},
   "outputs": [
    {
     "data": {
      "text/plain": [
       "0"
      ]
     },
     "execution_count": 9,
     "metadata": {},
     "output_type": "execute_result"
    }
   ],
   "source": [
    "len(soup.find_all(\"a\",attrs={'data-place-id':re.compile(r\"\\d*\")}))"
   ]
  },
  {
   "cell_type": "code",
   "execution_count": null,
   "id": "32a26b00-8c57-4415-a748-e06c0c97275d",
   "metadata": {},
   "outputs": [],
   "source": [
    "cities_url = []\n",
    "headers = {'User-Agent': 'Mozilla/5.0 (Macintosh; Intel Mac OS X 10_10_1) AppleWebKit/537.36 (KHTML, like Gecko) Chrome/39.0.2171.95 Safari/537.36'}\n",
    "for page in range(1,401):\n",
    "    try:\n",
    "        url = f\"https://www.atlasobscura.com/places?page={page}&sort=likes_count\"\n",
    "        raw = rq.get(url,headers=headers)\n",
    "        if raw.status_code != 200:\n",
    "            print(\"Sleeping\")\n",
    "            time.sleep(120)\n",
    "            raw = rq.get(url,headers=headers)\n",
    "        \n",
    "        soup = bs.BeautifulSoup(raw.content)\n",
    "        \n",
    "        for d in soup.find_all(\"a\",attrs={'data-place-id':re.compile(r\"\\d+\")}):\n",
    "            cities_url.append(d[\"href\"])\n",
    "            \n",
    "    except Exception as e:\n",
    "        print(page)\n",
    "        print(e)\n",
    "        print(raw.status_code)"
   ]
  },
  {
   "cell_type": "code",
   "execution_count": 26,
   "id": "df76c741-d651-48b8-8ad1-c09a655d47fb",
   "metadata": {},
   "outputs": [
    {
     "data": {
      "text/plain": [
       "7200"
      ]
     },
     "execution_count": 26,
     "metadata": {},
     "output_type": "execute_result"
    }
   ],
   "source": [
    "len(cities_url)"
   ]
  },
  {
   "cell_type": "code",
   "execution_count": 28,
   "id": "f908991a-7829-42e4-b32e-160d421393e1",
   "metadata": {},
   "outputs": [],
   "source": [
    "with open(\"links.txt\",\"w\") as f:\n",
    "    for link in cities_url:\n",
    "        complete_url = \"https://www.atlasobscura.com\"+link+\"\\n\"\n",
    "        f.write(complete_url)"
   ]
  },
  {
   "cell_type": "code",
   "execution_count": 19,
   "id": "8808f76d-4f6b-4b14-9c21-63bc957d1436",
   "metadata": {},
   "outputs": [],
   "source": [
    "url = f\"https://www.atlasobscura.com/places?page=2&sort=likes_count\""
   ]
  },
  {
   "cell_type": "code",
   "execution_count": 20,
   "id": "138f6d28-ac5a-4d24-955a-744db0a5c41a",
   "metadata": {},
   "outputs": [],
   "source": [
    "raw = rq.get(url)\n",
    "soup = bs.BeautifulSoup(raw.content)"
   ]
  },
  {
   "cell_type": "code",
   "execution_count": 22,
   "id": "fc056e8b-dda9-4b92-812e-4427a2b3070d",
   "metadata": {},
   "outputs": [],
   "source": [
    "with open(\"pretty.txt\",\"w\") as f:\n",
    "    f.write(soup.prettify())"
   ]
  }
 ],
 "metadata": {
  "kernelspec": {
   "display_name": "conda_python3",
   "language": "python",
   "name": "conda_python3"
  },
  "language_info": {
   "codemirror_mode": {
    "name": "ipython",
    "version": 3
   },
   "file_extension": ".py",
   "mimetype": "text/x-python",
   "name": "python",
   "nbconvert_exporter": "python",
   "pygments_lexer": "ipython3",
   "version": "3.8.12"
  }
 },
 "nbformat": 4,
 "nbformat_minor": 5
}
