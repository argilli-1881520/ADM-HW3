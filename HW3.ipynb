{
 "cells": [
  {
   "cell_type": "code",
   "execution_count": 1,
   "id": "4a907dc3-d452-47f2-ae36-5e1f61cf58e2",
   "metadata": {},
   "outputs": [],
   "source": [
    "import requests as rq\n",
    "import bs4 as bs\n",
    "import re\n",
    "import time"
   ]
  },
  {
   "cell_type": "code",
   "execution_count": 71,
   "id": "675ec512-da73-4348-9147-f331644c4f44",
   "metadata": {},
   "outputs": [],
   "source": [
    "import pandas as pd\n",
    "from datetime import datetime\n",
    "from re import search\n",
    "import os\n",
    "import numpy as np\n",
    "from multiprocessing import  Pool, cpu_count\n",
    "\n",
    "from func import *"
   ]
  },
  {
   "cell_type": "markdown",
   "id": "3d02dd84-9ec0-4251-aa9e-fca49ea7abc3",
   "metadata": {
    "tags": []
   },
   "source": [
    "# 1. Data collection\n",
    "First get the 7200 links corresponding to the first 18 pages of popular places"
   ]
  },
  {
   "cell_type": "code",
   "execution_count": null,
   "id": "32a26b00-8c57-4415-a748-e06c0c97275d",
   "metadata": {},
   "outputs": [],
   "source": [
    "cities_url = []\n",
    "headers = {'User-Agent': 'Mozilla/5.0 (Macintosh; Intel Mac OS X 10_10_1) AppleWebKit/537.36 (KHTML, like Gecko) Chrome/39.0.2171.95 Safari/537.36'}\n",
    "for page in range(1,401):\n",
    "    try:\n",
    "        url = f\"https://www.atlasobscura.com/places?page={page}&sort=likes_count\"\n",
    "        raw = rq.get(url,headers=headers)\n",
    "        if raw.status_code != 200:\n",
    "            print(\"Sleeping\")\n",
    "            time.sleep(120)\n",
    "            raw = rq.get(url,headers=headers)\n",
    "        \n",
    "        soup = bs.BeautifulSoup(raw.content)\n",
    "        \n",
    "        for d in soup.find_all(\"a\",attrs={'data-place-id':re.compile(r\"\\d+\")}):\n",
    "            cities_url.append(d[\"href\"])\n",
    "            \n",
    "    except Exception as e:\n",
    "        print(page)\n",
    "        print(e)\n",
    "        print(raw.status_code)"
   ]
  },
  {
   "cell_type": "code",
   "execution_count": 26,
   "id": "df76c741-d651-48b8-8ad1-c09a655d47fb",
   "metadata": {},
   "outputs": [
    {
     "data": {
      "text/plain": [
       "7200"
      ]
     },
     "execution_count": 26,
     "metadata": {},
     "output_type": "execute_result"
    }
   ],
   "source": [
    "len(cities_url)"
   ]
  },
  {
   "cell_type": "markdown",
   "id": "2b613002-cf93-4583-971d-d36276351648",
   "metadata": {},
   "source": [
    "Save the links file"
   ]
  },
  {
   "cell_type": "code",
   "execution_count": 28,
   "id": "f908991a-7829-42e4-b32e-160d421393e1",
   "metadata": {},
   "outputs": [],
   "source": [
    "with open(\"links.txt\",\"w\") as f:\n",
    "    for link in cities_url:\n",
    "        complete_url = \"https://www.atlasobscura.com\"+link+\"\\n\"\n",
    "        f.write(complete_url)"
   ]
  },
  {
   "cell_type": "markdown",
   "id": "13a40a2b-b89e-4d25-8706-12fac4d97a41",
   "metadata": {
    "tags": []
   },
   "source": [
    "## 1.2 Crawl places"
   ]
  },
  {
   "cell_type": "code",
   "execution_count": null,
   "id": "6cfc05ed-c051-4551-b929-07e8b6ac79d1",
   "metadata": {},
   "outputs": [],
   "source": [
    "!pip install fake-useragent"
   ]
  },
  {
   "cell_type": "markdown",
   "id": "4b65b5d8-b209-48cc-8f5e-e12afd6099cb",
   "metadata": {},
   "source": [
    "using the _fake-useragent_ module to change the headers"
   ]
  },
  {
   "cell_type": "code",
   "execution_count": 2,
   "id": "08956134-469a-4d76-b707-2d717e302d57",
   "metadata": {},
   "outputs": [],
   "source": [
    "import os\n",
    "from concurrent.futures import ThreadPoolExecutor, wait\n",
    "from fake_useragent import UserAgent\n",
    "ua = UserAgent()\n",
    "import random"
   ]
  },
  {
   "cell_type": "code",
   "execution_count": 3,
   "id": "61561afe-0f7b-4b0f-8307-3541eb670a3d",
   "metadata": {},
   "outputs": [],
   "source": [
    "# create a list of fake headers\n",
    "headers = [ua.random for _ in range(1000)]"
   ]
  },
  {
   "cell_type": "code",
   "execution_count": 4,
   "id": "e01a60bc-6ca6-4730-b36c-12208acd72f7",
   "metadata": {},
   "outputs": [],
   "source": [
    "with open(\"links.txt\",\"r\") as f:\n",
    "    links = list(map(lambda x: x.rstrip(\"\\n\"), f.readlines()))"
   ]
  },
  {
   "cell_type": "markdown",
   "id": "85bb89a4-9c3a-4942-97ea-67163bfd57ec",
   "metadata": {},
   "source": [
    "We used multithreading to download in parallel the pages at the maximum speed achievable.\\\n",
    "The bottleneck then became the server \"_too many access_\" status respond"
   ]
  },
  {
   "cell_type": "code",
   "execution_count": 7,
   "id": "4315a395-6555-408d-a4df-6276e9e80838",
   "metadata": {},
   "outputs": [
    {
     "name": "stdout",
     "output_type": "stream",
     "text": [
      "CPU times: user 1min 37s, sys: 7.84 s, total: 1min 45s\n",
      "Wall time: 1h 56min 13s\n"
     ]
    }
   ],
   "source": [
    "%%time\n",
    "parallel_html_downloader(links)"
   ]
  },
  {
   "cell_type": "markdown",
   "id": "4ec888a3-c58c-49d7-9e7c-781e605dcb4d",
   "metadata": {
    "tags": []
   },
   "source": [
    "## 1.3 Parse downloaded pages"
   ]
  },
  {
   "cell_type": "code",
   "execution_count": null,
   "id": "2c983647-428f-48ba-a676-a6722e3d3904",
   "metadata": {},
   "outputs": [],
   "source": [
    "dir=\"downloads/\"\n",
    "    \n",
    "res = [] \n",
    "files = os.listdir(dir)\n",
    "files.remove(\".ipynb_checkpoints\")   # remove unwanted files\n",
    "\n",
    "# create first row of the file (with the index)\n",
    "pd.DataFrame(extract_single_place(f\"{dir}/{files[0]}\"),index=[0]).to_csv(\"res.tsv\",index=None,sep=\"\\t\")\n",
    "\n",
    "for file in files[1:]:\n",
    "    df = pd.DataFrame(extract_single_place(f\"{dir}/{file}\"),index=[0])  # append every row to the file creted before\n",
    "    if len(df)>1:\n",
    "         \n",
    "    df.to_csv(\"res.tsv\",index=None,mode=\"a\",sep=\"\\t\",header=None,encoding='utf-8')"
   ]
  },
  {
   "cell_type": "markdown",
   "id": "2056afc3-1cbd-4fc4-a40d-673c0f015b68",
   "metadata": {},
   "source": [
    "# 2 Search Engine"
   ]
  },
  {
   "cell_type": "markdown",
   "id": "1e924f8c-5270-47ca-973a-47595c1fdd56",
   "metadata": {},
   "source": [
    "We processed the data with the function *text_cleaner_2* defined in the _func.py_ file"
   ]
  },
  {
   "cell_type": "code",
   "execution_count": 7,
   "id": "e10cce9e-5251-433a-869a-9d77afcfd544",
   "metadata": {},
   "outputs": [],
   "source": [
    "df_res = pd.read_csv(\"res.tsv\", delimiter = '\\t')\n",
    "\n",
    "# create two separate columns in the dataframe with the cleaned and stemmed description\n",
    "df_res[\"cleanedDesc\"] = df_res.placeDesc.apply(text_cleaner_2)\n",
    "df_res[\"cleanedShortDesc\"] = df_res.placeShortDesc.apply(text_cleaner_2)\n",
    "\n",
    "# create the set of words contained in all the documents' description\n",
    "s = set()\n",
    "for desc in df_res.cleanedDesc:\n",
    "    if desc is not None:\n",
    "        for word in desc:\n",
    "            s.add(word)"
   ]
  },
  {
   "cell_type": "markdown",
   "id": "2d2dd24b-ac21-4782-97ff-8a285f71a477",
   "metadata": {},
   "source": [
    "Creating the _vocabulary_ file:"
   ]
  },
  {
   "cell_type": "code",
   "execution_count": null,
   "id": "6724a3df-602b-4ced-b508-4d403765e167",
   "metadata": {},
   "outputs": [],
   "source": [
    "vocabulary_maker(s, name=\"vocabulary.json\")"
   ]
  },
  {
   "cell_type": "markdown",
   "id": "7dbeb9cb-7833-4b83-99c6-1bf0f88f51bd",
   "metadata": {},
   "source": [
    "### 2.1.1 Creating the first index"
   ]
  },
  {
   "cell_type": "code",
   "execution_count": 15,
   "id": "275bfeb4-efd0-4a9a-ba36-be706a00db69",
   "metadata": {},
   "outputs": [],
   "source": [
    "with open(\"vocabulary.json\", \"r\") as f:\n",
    "    vocabulary = json.load(f)\n",
    "\n",
    "reverse_index = {}\n",
    "for w in s:\n",
    "    filtered = df_res.cleanedDesc.apply(lambda x: x != None and w in x)   # filter the documents that cointain the word\n",
    "    docs = df_res[filtered].index.tolist()                                # save the index of the filtered files\n",
    "    reverse_index[vocabulary[w]] = docs\n",
    "\n",
    "with open(\"reverse_index.json\", \"w\") as f:                                # save the index in a json file\n",
    "    f.write(json.dumps(reverse_index))"
   ]
  },
  {
   "cell_type": "markdown",
   "id": "bb2c6ab0-29dd-442d-ab61-8a18a4bc4379",
   "metadata": {},
   "source": [
    "## 2.1.2 Execute the query"
   ]
  },
  {
   "cell_type": "markdown",
   "id": "2f3ee15a-7c5e-4fb8-8a36-50e7cb737f5a",
   "metadata": {},
   "source": [
    "Using the *query_function* from _func.py_"
   ]
  },
  {
   "cell_type": "code",
   "execution_count": null,
   "id": "876b1d5a-4b20-4a0f-9dbc-c3478b7005b2",
   "metadata": {},
   "outputs": [],
   "source": [
    "result = query_function(\"system\")"
   ]
  },
  {
   "cell_type": "code",
   "execution_count": 14,
   "id": "a1bca308-90df-413f-be69-f2f53fbb4fd5",
   "metadata": {},
   "outputs": [
    {
     "data": {
      "text/html": [
       "<div>\n",
       "<style scoped>\n",
       "    .dataframe tbody tr th:only-of-type {\n",
       "        vertical-align: middle;\n",
       "    }\n",
       "\n",
       "    .dataframe tbody tr th {\n",
       "        vertical-align: top;\n",
       "    }\n",
       "\n",
       "    .dataframe thead th {\n",
       "        text-align: right;\n",
       "    }\n",
       "</style>\n",
       "<table border=\"1\" class=\"dataframe\">\n",
       "  <thead>\n",
       "    <tr style=\"text-align: right;\">\n",
       "      <th></th>\n",
       "      <th>placeName</th>\n",
       "      <th>placeDesc</th>\n",
       "      <th>placeURL</th>\n",
       "    </tr>\n",
       "  </thead>\n",
       "  <tbody>\n",
       "    <tr>\n",
       "      <th>1</th>\n",
       "      <td>The Snow Hole</td>\n",
       "      <td>In a rare geophysical phenomenon, snow  and ic...</td>\n",
       "      <td>https://www.atlasobscura.com/places/the-snow-h...</td>\n",
       "    </tr>\n",
       "    <tr>\n",
       "      <th>2049</th>\n",
       "      <td>Webster Place</td>\n",
       "      <td>Brooklyn has an abundance of  spectacular arch...</td>\n",
       "      <td>https://www.atlasobscura.com/places/webster-place</td>\n",
       "    </tr>\n",
       "    <tr>\n",
       "      <th>8</th>\n",
       "      <td>Eisbachwelle</td>\n",
       "      <td>When you think of wave  surfing you probably h...</td>\n",
       "      <td>https://www.atlasobscura.com/places/eisbachwelle</td>\n",
       "    </tr>\n",
       "    <tr>\n",
       "      <th>4108</th>\n",
       "      <td>Rothschild Patent Model Collection</td>\n",
       "      <td>From 1790 to 1880 the  United States  required...</td>\n",
       "      <td>https://www.atlasobscura.com/places/rothschild...</td>\n",
       "    </tr>\n",
       "    <tr>\n",
       "      <th>2062</th>\n",
       "      <td>Atlantic Avenue Tunnel</td>\n",
       "      <td>UPDATE: Currently closed by New  York departme...</td>\n",
       "      <td>https://www.atlasobscura.com/places/atlantic-a...</td>\n",
       "    </tr>\n",
       "  </tbody>\n",
       "</table>\n",
       "</div>"
      ],
      "text/plain": [
       "                               placeName  \\\n",
       "1                          The Snow Hole   \n",
       "2049                      Webster Place    \n",
       "8                           Eisbachwelle   \n",
       "4108  Rothschild Patent Model Collection   \n",
       "2062              Atlantic Avenue Tunnel   \n",
       "\n",
       "                                              placeDesc  \\\n",
       "1     In a rare geophysical phenomenon, snow  and ic...   \n",
       "2049  Brooklyn has an abundance of  spectacular arch...   \n",
       "8     When you think of wave  surfing you probably h...   \n",
       "4108  From 1790 to 1880 the  United States  required...   \n",
       "2062  UPDATE: Currently closed by New  York departme...   \n",
       "\n",
       "                                               placeURL  \n",
       "1     https://www.atlasobscura.com/places/the-snow-h...  \n",
       "2049  https://www.atlasobscura.com/places/webster-place  \n",
       "8      https://www.atlasobscura.com/places/eisbachwelle  \n",
       "4108  https://www.atlasobscura.com/places/rothschild...  \n",
       "2062  https://www.atlasobscura.com/places/atlantic-a...  "
      ]
     },
     "execution_count": 14,
     "metadata": {},
     "output_type": "execute_result"
    }
   ],
   "source": [
    "result.head()"
   ]
  },
  {
   "cell_type": "markdown",
   "id": "0635f9ac-69ec-488e-8d0c-c3311323b4de",
   "metadata": {},
   "source": [
    "## 2.2 Conjunctive query & Ranking score"
   ]
  },
  {
   "cell_type": "markdown",
   "id": "d6d492ef-bcbe-4a61-8cb4-e3fccb15e9bb",
   "metadata": {},
   "source": [
    "Creating the second version of the reverse index with _tf-idf_ scores"
   ]
  },
  {
   "cell_type": "code",
   "execution_count": null,
   "id": "d33dc0d2-dace-4bed-92e0-674b77942333",
   "metadata": {
    "tags": []
   },
   "outputs": [],
   "source": [
    "with open(\"vocabulary.json\", \"r\") as f:\n",
    "    vocabulary = json.load(f)\n",
    "\n",
    "reverse_index_v2 = {}\n",
    "\n",
    "for w in s:\n",
    "    # filter the documents that cointain the word\n",
    "    filtered = df_res.cleanedDesc.apply(lambda x: x != None and w in x)     \n",
    "    \n",
    "    # compute the tf-idf only for the files that contains the word\n",
    "    docs = df_res[filtered].cleanedDesc.apply(lambda x: x.count(w)/len(x) * np.log(len(df_res)/len(df_res[filtered])))  \n",
    "    tfidf= list(zip(docs.index.tolist(), docs.values.tolist()))\n",
    "    \n",
    "    # we decided to ignore saving zeros for efficency sake\n",
    "    #tfidf.append(list(zip(df_res[-filtered].index.tolist(), [0 for i in range(len(df_res[-filtered].index.tolist()))])))    # 0 for all the files that do not contain the word\n",
    "    \n",
    "    reverse_index_v2[vocabulary[w]] = tfidf\n",
    "    \n",
    "with open(\"reverse_index_v2.json\", \"w\") as f:     # save the file\n",
    "    f.write(json.dumps(reverse_index_v2))"
   ]
  },
  {
   "cell_type": "markdown",
   "id": "fdcef8d4-01a8-46f4-b865-d286b297afb7",
   "metadata": {},
   "source": [
    "### 2.2.2 Execute the query"
   ]
  },
  {
   "cell_type": "markdown",
   "id": "eeef3001-13ca-47fa-956a-3036ce2b1f75",
   "metadata": {},
   "source": [
    "Using the *query_function_v2* from _func.py_"
   ]
  },
  {
   "cell_type": "code",
   "execution_count": 9,
   "id": "305f4255-df58-44c7-90d5-b52a71614769",
   "metadata": {},
   "outputs": [
    {
     "data": {
      "text/html": [
       "<div>\n",
       "<style scoped>\n",
       "    .dataframe tbody tr th:only-of-type {\n",
       "        vertical-align: middle;\n",
       "    }\n",
       "\n",
       "    .dataframe tbody tr th {\n",
       "        vertical-align: top;\n",
       "    }\n",
       "\n",
       "    .dataframe thead th {\n",
       "        text-align: right;\n",
       "    }\n",
       "</style>\n",
       "<table border=\"1\" class=\"dataframe\">\n",
       "  <thead>\n",
       "    <tr style=\"text-align: right;\">\n",
       "      <th></th>\n",
       "      <th>placeName</th>\n",
       "      <th>placeDesc</th>\n",
       "      <th>placeURL</th>\n",
       "      <th>Cosine similarity</th>\n",
       "    </tr>\n",
       "  </thead>\n",
       "  <tbody>\n",
       "    <tr>\n",
       "      <th>5282</th>\n",
       "      <td>Islet of Vila Franca do Campo</td>\n",
       "      <td>If swimming pools and ponds  have become too m...</td>\n",
       "      <td>https://www.atlasobscura.com/places/islet-of-v...</td>\n",
       "      <td>1.0</td>\n",
       "    </tr>\n",
       "    <tr>\n",
       "      <th>5040</th>\n",
       "      <td>Ponte dei Pugni (Bridge of Fists)</td>\n",
       "      <td>For generations of Venetians epic  fist fights...</td>\n",
       "      <td>https://www.atlasobscura.com/places/ponte-dei-...</td>\n",
       "      <td>1.0</td>\n",
       "    </tr>\n",
       "    <tr>\n",
       "      <th>5872</th>\n",
       "      <td>Drowned Village of Vilarinho da Furna</td>\n",
       "      <td>In a rare occurrence, during  a particularly d...</td>\n",
       "      <td>https://www.atlasobscura.com/places/vilarinho-...</td>\n",
       "      <td>1.0</td>\n",
       "    </tr>\n",
       "    <tr>\n",
       "      <th>437</th>\n",
       "      <td>Campo de Fiori</td>\n",
       "      <td>Flower stalls, cafes, and throngs  of tourists...</td>\n",
       "      <td>https://www.atlasobscura.com/places/campo-de-f...</td>\n",
       "      <td>1.0</td>\n",
       "    </tr>\n",
       "    <tr>\n",
       "      <th>5943</th>\n",
       "      <td>Scuola Grande di San Marco</td>\n",
       "      <td>Once one of the six  “great schools” of  Venic...</td>\n",
       "      <td>https://www.atlasobscura.com/places/scuola-gra...</td>\n",
       "      <td>1.0</td>\n",
       "    </tr>\n",
       "    <tr>\n",
       "      <th>4248</th>\n",
       "      <td>Grand Hotel Campo dei Fiori</td>\n",
       "      <td>With all the charm of  the Grand Budapest Hote...</td>\n",
       "      <td>https://www.atlasobscura.com/places/grand-hote...</td>\n",
       "      <td>1.0</td>\n",
       "    </tr>\n",
       "    <tr>\n",
       "      <th>2841</th>\n",
       "      <td>Bordallo Pinheiro Garden</td>\n",
       "      <td>A beautiful small garden in  the Museum of the...</td>\n",
       "      <td>https://www.atlasobscura.com/places/bordallo-p...</td>\n",
       "      <td>1.0</td>\n",
       "    </tr>\n",
       "    <tr>\n",
       "      <th>6652</th>\n",
       "      <td>Scala Contarini del Bovolo</td>\n",
       "      <td>Hidden in the center of  Venice , unknown to m...</td>\n",
       "      <td>https://www.atlasobscura.com/places/scala-cont...</td>\n",
       "      <td>1.0</td>\n",
       "    </tr>\n",
       "  </tbody>\n",
       "</table>\n",
       "</div>"
      ],
      "text/plain": [
       "                                  placeName  \\\n",
       "5282          Islet of Vila Franca do Campo   \n",
       "5040      Ponte dei Pugni (Bridge of Fists)   \n",
       "5872  Drowned Village of Vilarinho da Furna   \n",
       "437                          Campo de Fiori   \n",
       "5943             Scuola Grande di San Marco   \n",
       "4248            Grand Hotel Campo dei Fiori   \n",
       "2841               Bordallo Pinheiro Garden   \n",
       "6652             Scala Contarini del Bovolo   \n",
       "\n",
       "                                              placeDesc  \\\n",
       "5282  If swimming pools and ponds  have become too m...   \n",
       "5040  For generations of Venetians epic  fist fights...   \n",
       "5872  In a rare occurrence, during  a particularly d...   \n",
       "437   Flower stalls, cafes, and throngs  of tourists...   \n",
       "5943  Once one of the six  “great schools” of  Venic...   \n",
       "4248  With all the charm of  the Grand Budapest Hote...   \n",
       "2841  A beautiful small garden in  the Museum of the...   \n",
       "6652  Hidden in the center of  Venice , unknown to m...   \n",
       "\n",
       "                                               placeURL  Cosine similarity  \n",
       "5282  https://www.atlasobscura.com/places/islet-of-v...                1.0  \n",
       "5040  https://www.atlasobscura.com/places/ponte-dei-...                1.0  \n",
       "5872  https://www.atlasobscura.com/places/vilarinho-...                1.0  \n",
       "437   https://www.atlasobscura.com/places/campo-de-f...                1.0  \n",
       "5943  https://www.atlasobscura.com/places/scuola-gra...                1.0  \n",
       "4248  https://www.atlasobscura.com/places/grand-hote...                1.0  \n",
       "2841  https://www.atlasobscura.com/places/bordallo-p...                1.0  \n",
       "6652  https://www.atlasobscura.com/places/scala-cont...                1.0  "
      ]
     },
     "execution_count": 9,
     "metadata": {},
     "output_type": "execute_result"
    }
   ],
   "source": [
    "query_function_v2(\"campo\")"
   ]
  },
  {
   "cell_type": "markdown",
   "id": "908a20c9-50ce-4a92-aba3-be28d66c5dce",
   "metadata": {},
   "source": [
    "# 3 Define the new score"
   ]
  },
  {
   "cell_type": "markdown",
   "id": "37eaed08-d09e-49b5-854e-6e30b16fe60f",
   "metadata": {},
   "source": [
    "For this point we decided to leverage the _cosine similarity_ score but with a twist.\\\n",
    "We introcuced the feature to remove documents containing specific words from the query by adding a minus sign \"-\".\n",
    "\n",
    "The words that must be removed will recieve a negative score in the component of the _tf-idf query vector_.\\\n",
    "This way, when the similarity is computed, documents that have a non-zero component in those components of the vector (which means they contain the words) will be penalized respect to documents that contains only the rest of the query.\n",
    "\n",
    "We also take into account the \"Name\" and \"Country\" fields in the creation of the inverted index"
   ]
  },
  {
   "cell_type": "code",
   "execution_count": null,
   "id": "4601ca8a-92ae-4394-abce-edda72a7600b",
   "metadata": {},
   "outputs": [],
   "source": [
    "df_res[\"country\"] = df_res.placeAddress.apply(lambda x: extract_country(x))\n",
    "df_res[\"stemmed_name\"] = df_res.placeName.apply(lambda x: text_cleaner_2(x))"
   ]
  },
  {
   "cell_type": "markdown",
   "id": "398ddef2-c42e-428c-96fe-24bd4e5e981b",
   "metadata": {},
   "source": [
    "Create the new et of words with city and names"
   ]
  },
  {
   "cell_type": "code",
   "execution_count": 13,
   "id": "8147a182-2342-4f7c-9a30-6fd80c69599e",
   "metadata": {
    "tags": []
   },
   "outputs": [],
   "source": [
    "# create the set of words contained in all the documents, including city and place name\n",
    "s = set()\n",
    "for desc in df_res.cleanedDesc:\n",
    "    if desc is not None:\n",
    "        for word in desc:\n",
    "            s.add(word)\n",
    "for desc in df_res.stemmed_name:\n",
    "    if desc is not None:\n",
    "        for word in desc:\n",
    "            s.add(word)\n",
    "for desc in df_res.country:\n",
    "    if desc is not None:\n",
    "        for word in desc:\n",
    "            s.add(word)"
   ]
  },
  {
   "cell_type": "markdown",
   "id": "55292dea-ca52-4548-9d37-0efedfcd41ae",
   "metadata": {},
   "source": [
    "create the vocabulary nad index files for our version of the query:"
   ]
  },
  {
   "cell_type": "code",
   "execution_count": 29,
   "id": "8fe3a6c6-728c-4f87-bda1-170f61e9b674",
   "metadata": {},
   "outputs": [],
   "source": [
    "vocabulary_maker(s,\"vocabulary_q3.json\")"
   ]
  },
  {
   "cell_type": "code",
   "execution_count": 43,
   "id": "452b3239-cc44-4ac9-b16e-08498b273959",
   "metadata": {},
   "outputs": [],
   "source": [
    "with open(\"vocabulary_q3.json\", \"r\") as f:\n",
    "    vocabulary = json.load(f)\n",
    "\n",
    "reverse_index_v3 = {}\n",
    "\n",
    "for w in s:\n",
    "    \n",
    "    filtered = (df_res[\"cleanedDesc\"].apply(lambda x: w in x) | df_res[\"country\"].apply(lambda x: w in x)  | df_res[\"stemmed_name\"].apply(lambda x: w in x) )\n",
    "    \n",
    "    docs = df_res[filtered].apply(lambda x: \\\n",
    "                                  (x.cleanedDesc.count(w) + x.stemmed_name.count(w) + x.country.count(w))/len(x.cleanedDesc + x.stemmed_name + x.country)\\\n",
    "                                  * np.log(len(df_res)/len(df_res[filtered])), axis=1)  # compute the idf only for the files that contains the word\n",
    "    tfidf= list(zip(docs.index.tolist(), docs.values.tolist()))\n",
    "\n",
    "    \n",
    "    reverse_index_v3[vocabulary[w]] = tfidf\n",
    "\n",
    "with open(\"reverse_index_v3.json\", \"w\") as f:\n",
    "    f.write(json.dumps(reverse_index_v3))"
   ]
  },
  {
   "cell_type": "markdown",
   "id": "00cfd915-afc2-4515-ab02-066e26d0204b",
   "metadata": {},
   "source": [
    "**Comparison:**"
   ]
  },
  {
   "cell_type": "code",
   "execution_count": 9,
   "id": "3279973b-0c5e-4897-8de5-8a3f5aeff1cd",
   "metadata": {},
   "outputs": [
    {
     "data": {
      "text/html": [
       "<div>\n",
       "<style scoped>\n",
       "    .dataframe tbody tr th:only-of-type {\n",
       "        vertical-align: middle;\n",
       "    }\n",
       "\n",
       "    .dataframe tbody tr th {\n",
       "        vertical-align: top;\n",
       "    }\n",
       "\n",
       "    .dataframe thead th {\n",
       "        text-align: right;\n",
       "    }\n",
       "</style>\n",
       "<table border=\"1\" class=\"dataframe\">\n",
       "  <thead>\n",
       "    <tr style=\"text-align: right;\">\n",
       "      <th></th>\n",
       "      <th>placeName</th>\n",
       "      <th>placeDesc</th>\n",
       "      <th>placeURL</th>\n",
       "      <th>Cosine similarity</th>\n",
       "    </tr>\n",
       "  </thead>\n",
       "  <tbody>\n",
       "    <tr>\n",
       "      <th>5282</th>\n",
       "      <td>Islet of Vila Franca do Campo</td>\n",
       "      <td>If swimming pools and ponds  have become too m...</td>\n",
       "      <td>https://www.atlasobscura.com/places/islet-of-v...</td>\n",
       "      <td>1.0</td>\n",
       "    </tr>\n",
       "    <tr>\n",
       "      <th>5040</th>\n",
       "      <td>Ponte dei Pugni (Bridge of Fists)</td>\n",
       "      <td>For generations of Venetians epic  fist fights...</td>\n",
       "      <td>https://www.atlasobscura.com/places/ponte-dei-...</td>\n",
       "      <td>1.0</td>\n",
       "    </tr>\n",
       "    <tr>\n",
       "      <th>5872</th>\n",
       "      <td>Drowned Village of Vilarinho da Furna</td>\n",
       "      <td>In a rare occurrence, during  a particularly d...</td>\n",
       "      <td>https://www.atlasobscura.com/places/vilarinho-...</td>\n",
       "      <td>1.0</td>\n",
       "    </tr>\n",
       "    <tr>\n",
       "      <th>437</th>\n",
       "      <td>Campo de Fiori</td>\n",
       "      <td>Flower stalls, cafes, and throngs  of tourists...</td>\n",
       "      <td>https://www.atlasobscura.com/places/campo-de-f...</td>\n",
       "      <td>1.0</td>\n",
       "    </tr>\n",
       "    <tr>\n",
       "      <th>5943</th>\n",
       "      <td>Scuola Grande di San Marco</td>\n",
       "      <td>Once one of the six  “great schools” of  Venic...</td>\n",
       "      <td>https://www.atlasobscura.com/places/scuola-gra...</td>\n",
       "      <td>1.0</td>\n",
       "    </tr>\n",
       "    <tr>\n",
       "      <th>4248</th>\n",
       "      <td>Grand Hotel Campo dei Fiori</td>\n",
       "      <td>With all the charm of  the Grand Budapest Hote...</td>\n",
       "      <td>https://www.atlasobscura.com/places/grand-hote...</td>\n",
       "      <td>1.0</td>\n",
       "    </tr>\n",
       "    <tr>\n",
       "      <th>2841</th>\n",
       "      <td>Bordallo Pinheiro Garden</td>\n",
       "      <td>A beautiful small garden in  the Museum of the...</td>\n",
       "      <td>https://www.atlasobscura.com/places/bordallo-p...</td>\n",
       "      <td>1.0</td>\n",
       "    </tr>\n",
       "    <tr>\n",
       "      <th>6652</th>\n",
       "      <td>Scala Contarini del Bovolo</td>\n",
       "      <td>Hidden in the center of  Venice , unknown to m...</td>\n",
       "      <td>https://www.atlasobscura.com/places/scala-cont...</td>\n",
       "      <td>1.0</td>\n",
       "    </tr>\n",
       "  </tbody>\n",
       "</table>\n",
       "</div>"
      ],
      "text/plain": [
       "                                  placeName  \\\n",
       "5282          Islet of Vila Franca do Campo   \n",
       "5040      Ponte dei Pugni (Bridge of Fists)   \n",
       "5872  Drowned Village of Vilarinho da Furna   \n",
       "437                          Campo de Fiori   \n",
       "5943             Scuola Grande di San Marco   \n",
       "4248            Grand Hotel Campo dei Fiori   \n",
       "2841               Bordallo Pinheiro Garden   \n",
       "6652             Scala Contarini del Bovolo   \n",
       "\n",
       "                                              placeDesc  \\\n",
       "5282  If swimming pools and ponds  have become too m...   \n",
       "5040  For generations of Venetians epic  fist fights...   \n",
       "5872  In a rare occurrence, during  a particularly d...   \n",
       "437   Flower stalls, cafes, and throngs  of tourists...   \n",
       "5943  Once one of the six  “great schools” of  Venic...   \n",
       "4248  With all the charm of  the Grand Budapest Hote...   \n",
       "2841  A beautiful small garden in  the Museum of the...   \n",
       "6652  Hidden in the center of  Venice , unknown to m...   \n",
       "\n",
       "                                               placeURL  Cosine similarity  \n",
       "5282  https://www.atlasobscura.com/places/islet-of-v...                1.0  \n",
       "5040  https://www.atlasobscura.com/places/ponte-dei-...                1.0  \n",
       "5872  https://www.atlasobscura.com/places/vilarinho-...                1.0  \n",
       "437   https://www.atlasobscura.com/places/campo-de-f...                1.0  \n",
       "5943  https://www.atlasobscura.com/places/scuola-gra...                1.0  \n",
       "4248  https://www.atlasobscura.com/places/grand-hote...                1.0  \n",
       "2841  https://www.atlasobscura.com/places/bordallo-p...                1.0  \n",
       "6652  https://www.atlasobscura.com/places/scala-cont...                1.0  "
      ]
     },
     "execution_count": 9,
     "metadata": {},
     "output_type": "execute_result"
    }
   ],
   "source": [
    "query_function_v2(\"campo\")"
   ]
  },
  {
   "cell_type": "code",
   "execution_count": 56,
   "id": "282fb6f2-3964-4d32-986b-261c4e1659f2",
   "metadata": {},
   "outputs": [
    {
     "data": {
      "text/html": [
       "<div>\n",
       "<style scoped>\n",
       "    .dataframe tbody tr th:only-of-type {\n",
       "        vertical-align: middle;\n",
       "    }\n",
       "\n",
       "    .dataframe tbody tr th {\n",
       "        vertical-align: top;\n",
       "    }\n",
       "\n",
       "    .dataframe thead th {\n",
       "        text-align: right;\n",
       "    }\n",
       "</style>\n",
       "<table border=\"1\" class=\"dataframe\">\n",
       "  <thead>\n",
       "    <tr style=\"text-align: right;\">\n",
       "      <th></th>\n",
       "      <th>placeName</th>\n",
       "      <th>placeDesc</th>\n",
       "      <th>placeURL</th>\n",
       "      <th>Cosine similarity</th>\n",
       "    </tr>\n",
       "  </thead>\n",
       "  <tbody>\n",
       "    <tr>\n",
       "      <th>6652</th>\n",
       "      <td>Scala Contarini del Bovolo</td>\n",
       "      <td>Hidden in the center of  Venice , unknown to m...</td>\n",
       "      <td>https://www.atlasobscura.com/places/scala-cont...</td>\n",
       "      <td>0.626336</td>\n",
       "    </tr>\n",
       "    <tr>\n",
       "      <th>2338</th>\n",
       "      <td>Casa Sperimentale</td>\n",
       "      <td>Casa Sperimentale has been crumbling  within a...</td>\n",
       "      <td>https://www.atlasobscura.com/places/casa-speri...</td>\n",
       "      <td>0.626336</td>\n",
       "    </tr>\n",
       "    <tr>\n",
       "      <th>5872</th>\n",
       "      <td>Drowned Village of Vilarinho da Furna</td>\n",
       "      <td>In a rare occurrence, during  a particularly d...</td>\n",
       "      <td>https://www.atlasobscura.com/places/vilarinho-...</td>\n",
       "      <td>0.626336</td>\n",
       "    </tr>\n",
       "    <tr>\n",
       "      <th>5943</th>\n",
       "      <td>Scuola Grande di San Marco</td>\n",
       "      <td>Once one of the six  “great schools” of  Venic...</td>\n",
       "      <td>https://www.atlasobscura.com/places/scuola-gra...</td>\n",
       "      <td>0.626336</td>\n",
       "    </tr>\n",
       "    <tr>\n",
       "      <th>5040</th>\n",
       "      <td>Ponte dei Pugni (Bridge of Fists)</td>\n",
       "      <td>For generations of Venetians epic  fist fights...</td>\n",
       "      <td>https://www.atlasobscura.com/places/ponte-dei-...</td>\n",
       "      <td>0.626336</td>\n",
       "    </tr>\n",
       "    <tr>\n",
       "      <th>787</th>\n",
       "      <td>Uyuni Salt Flat</td>\n",
       "      <td>Spreading out over 11,000-sq.-km, Salar  de Uy...</td>\n",
       "      <td>https://www.atlasobscura.com/places/salar-de-u...</td>\n",
       "      <td>0.626336</td>\n",
       "    </tr>\n",
       "    <tr>\n",
       "      <th>2841</th>\n",
       "      <td>Bordallo Pinheiro Garden</td>\n",
       "      <td>A beautiful small garden in  the Museum of the...</td>\n",
       "      <td>https://www.atlasobscura.com/places/bordallo-p...</td>\n",
       "      <td>0.626336</td>\n",
       "    </tr>\n",
       "    <tr>\n",
       "      <th>5282</th>\n",
       "      <td>Islet of Vila Franca do Campo</td>\n",
       "      <td>If swimming pools and ponds  have become too m...</td>\n",
       "      <td>https://www.atlasobscura.com/places/islet-of-v...</td>\n",
       "      <td>0.626336</td>\n",
       "    </tr>\n",
       "    <tr>\n",
       "      <th>437</th>\n",
       "      <td>Campo de Fiori</td>\n",
       "      <td>Flower stalls, cafes, and throngs  of tourists...</td>\n",
       "      <td>https://www.atlasobscura.com/places/campo-de-f...</td>\n",
       "      <td>-0.215405</td>\n",
       "    </tr>\n",
       "    <tr>\n",
       "      <th>4248</th>\n",
       "      <td>Grand Hotel Campo dei Fiori</td>\n",
       "      <td>With all the charm of  the Grand Budapest Hote...</td>\n",
       "      <td>https://www.atlasobscura.com/places/grand-hote...</td>\n",
       "      <td>-0.215405</td>\n",
       "    </tr>\n",
       "  </tbody>\n",
       "</table>\n",
       "</div>"
      ],
      "text/plain": [
       "                                  placeName  \\\n",
       "6652             Scala Contarini del Bovolo   \n",
       "2338                      Casa Sperimentale   \n",
       "5872  Drowned Village of Vilarinho da Furna   \n",
       "5943             Scuola Grande di San Marco   \n",
       "5040      Ponte dei Pugni (Bridge of Fists)   \n",
       "787                         Uyuni Salt Flat   \n",
       "2841               Bordallo Pinheiro Garden   \n",
       "5282          Islet of Vila Franca do Campo   \n",
       "437                          Campo de Fiori   \n",
       "4248            Grand Hotel Campo dei Fiori   \n",
       "\n",
       "                                              placeDesc  \\\n",
       "6652  Hidden in the center of  Venice , unknown to m...   \n",
       "2338  Casa Sperimentale has been crumbling  within a...   \n",
       "5872  In a rare occurrence, during  a particularly d...   \n",
       "5943  Once one of the six  “great schools” of  Venic...   \n",
       "5040  For generations of Venetians epic  fist fights...   \n",
       "787   Spreading out over 11,000-sq.-km, Salar  de Uy...   \n",
       "2841  A beautiful small garden in  the Museum of the...   \n",
       "5282  If swimming pools and ponds  have become too m...   \n",
       "437   Flower stalls, cafes, and throngs  of tourists...   \n",
       "4248  With all the charm of  the Grand Budapest Hote...   \n",
       "\n",
       "                                               placeURL  Cosine similarity  \n",
       "6652  https://www.atlasobscura.com/places/scala-cont...           0.626336  \n",
       "2338  https://www.atlasobscura.com/places/casa-speri...           0.626336  \n",
       "5872  https://www.atlasobscura.com/places/vilarinho-...           0.626336  \n",
       "5943  https://www.atlasobscura.com/places/scuola-gra...           0.626336  \n",
       "5040  https://www.atlasobscura.com/places/ponte-dei-...           0.626336  \n",
       "787   https://www.atlasobscura.com/places/salar-de-u...           0.626336  \n",
       "2841  https://www.atlasobscura.com/places/bordallo-p...           0.626336  \n",
       "5282  https://www.atlasobscura.com/places/islet-of-v...           0.626336  \n",
       "437   https://www.atlasobscura.com/places/campo-de-f...          -0.215405  \n",
       "4248  https://www.atlasobscura.com/places/grand-hote...          -0.215405  "
      ]
     },
     "execution_count": 56,
     "metadata": {},
     "output_type": "execute_result"
    }
   ],
   "source": [
    "query_function_v3(\"campo - fiori \")"
   ]
  }
 ],
 "metadata": {
  "kernelspec": {
   "display_name": "conda_python3",
   "language": "python",
   "name": "conda_python3"
  },
  "language_info": {
   "codemirror_mode": {
    "name": "ipython",
    "version": 3
   },
   "file_extension": ".py",
   "mimetype": "text/x-python",
   "name": "python",
   "nbconvert_exporter": "python",
   "pygments_lexer": "ipython3",
   "version": "3.8.12"
  }
 },
 "nbformat": 4,
 "nbformat_minor": 5
}
