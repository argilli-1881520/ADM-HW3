{
 "cells": [
  {
   "cell_type": "code",
   "execution_count": 21,
   "id": "a072b5f3-03cd-4d19-8bdb-6bffea66eef5",
   "metadata": {},
   "outputs": [],
   "source": [
    "import requests as rq\n",
    "import bs4 as bs\n",
    "import re\n",
    "from re import search\n",
    "import pandas as pd\n",
    "import time\n",
    "from datetime import datetime\n",
    "import os.path"
   ]
  },
  {
   "cell_type": "code",
   "execution_count": 6,
   "id": "cc455a2e-183b-489c-90a4-806e8be5d15c",
   "metadata": {},
   "outputs": [],
   "source": [
    "url = f\"https://www.atlasobscura.com/places?page=202&sort=likes_count\"\n",
    "raw = rq.get(url)\n",
    "soup = bs.BeautifulSoup(raw.content)"
   ]
  },
  {
   "cell_type": "code",
   "execution_count": null,
   "id": "c83d75d6-f689-48e9-a205-f871ebbbd2ae",
   "metadata": {},
   "outputs": [],
   "source": [
    "raw.status_code == 200"
   ]
  },
  {
   "cell_type": "code",
   "execution_count": 7,
   "id": "da8a3a7d-6815-4357-a402-b777f0a775a7",
   "metadata": {},
   "outputs": [
    {
     "data": {
      "text/plain": [
       "18"
      ]
     },
     "execution_count": 7,
     "metadata": {},
     "output_type": "execute_result"
    }
   ],
   "source": [
    "len(soup.find_all(\"a\",attrs={'data-place-id':re.compile(r\"\\d*\")}))"
   ]
  },
  {
   "cell_type": "code",
   "execution_count": 8,
   "id": "3bda04c3-fbf7-4ac5-b787-11d9805eba8c",
   "metadata": {},
   "outputs": [
    {
     "name": "stdout",
     "output_type": "stream",
     "text": [
      "Sleeping\n",
      "Sleeping\n"
     ]
    },
    {
     "ename": "KeyboardInterrupt",
     "evalue": "",
     "output_type": "error",
     "traceback": [
      "\u001b[0;31m---------------------------------------------------------------------------\u001b[0m",
      "\u001b[0;31mKeyboardInterrupt\u001b[0m                         Traceback (most recent call last)",
      "\u001b[0;32m/tmp/ipykernel_11776/3486523975.py\u001b[0m in \u001b[0;36m<cell line: 3>\u001b[0;34m()\u001b[0m\n\u001b[1;32m      7\u001b[0m         \u001b[0;32mif\u001b[0m \u001b[0mraw\u001b[0m\u001b[0;34m.\u001b[0m\u001b[0mstatus_code\u001b[0m \u001b[0;34m!=\u001b[0m \u001b[0;36m200\u001b[0m\u001b[0;34m:\u001b[0m\u001b[0;34m\u001b[0m\u001b[0;34m\u001b[0m\u001b[0m\n\u001b[1;32m      8\u001b[0m             \u001b[0mprint\u001b[0m\u001b[0;34m(\u001b[0m\u001b[0;34m\"Sleeping\"\u001b[0m\u001b[0;34m)\u001b[0m\u001b[0;34m\u001b[0m\u001b[0;34m\u001b[0m\u001b[0m\n\u001b[0;32m----> 9\u001b[0;31m             \u001b[0mtime\u001b[0m\u001b[0;34m.\u001b[0m\u001b[0msleep\u001b[0m\u001b[0;34m(\u001b[0m\u001b[0;36m120\u001b[0m\u001b[0;34m)\u001b[0m\u001b[0;34m\u001b[0m\u001b[0;34m\u001b[0m\u001b[0m\n\u001b[0m\u001b[1;32m     10\u001b[0m             \u001b[0mraw\u001b[0m \u001b[0;34m=\u001b[0m \u001b[0mrq\u001b[0m\u001b[0;34m.\u001b[0m\u001b[0mget\u001b[0m\u001b[0;34m(\u001b[0m\u001b[0murl\u001b[0m\u001b[0;34m,\u001b[0m\u001b[0mheaders\u001b[0m\u001b[0;34m=\u001b[0m\u001b[0mheaders\u001b[0m\u001b[0;34m)\u001b[0m\u001b[0;34m\u001b[0m\u001b[0;34m\u001b[0m\u001b[0m\n\u001b[1;32m     11\u001b[0m \u001b[0;34m\u001b[0m\u001b[0m\n",
      "\u001b[0;31mKeyboardInterrupt\u001b[0m: "
     ]
    }
   ],
   "source": [
    "cities_url = []\n",
    "headers = {'User-Agent': 'Mozilla/5.0 (Macintosh; Intel Mac OS X 10_10_1) AppleWebKit/537.36 (KHTML, like Gecko) Chrome/39.0.2171.95 Safari/537.36'}\n",
    "for page in range(1,401):\n",
    "    try:\n",
    "        url = f\"https://www.atlasobscura.com/places?page={page}&sort=likes_count\"\n",
    "        raw = rq.get(url,headers=headers)\n",
    "        if raw.status_code != 200:\n",
    "            print(\"Sleeping\")\n",
    "            time.sleep(120)\n",
    "            raw = rq.get(url,headers=headers)\n",
    "        \n",
    "        soup = bs.BeautifulSoup(raw.content)\n",
    "        \n",
    "        for d in soup.find_all(\"a\",attrs={'data-place-id':re.compile(r\"\\d+\")}):\n",
    "            \n",
    "            cities_url.append(d[\"href\"])\n",
    "            \n",
    "    except Exception as e:\n",
    "        print(page)\n",
    "        print(e)\n",
    "        print(raw.status_code)"
   ]
  },
  {
   "cell_type": "code",
   "execution_count": null,
   "id": "2cbbb0be-7253-43dc-8a8d-fdb0b022ceb7",
   "metadata": {},
   "outputs": [],
   "source": [
    "len(cities_url)"
   ]
  },
  {
   "cell_type": "code",
   "execution_count": null,
   "id": "83f13001-db39-4d13-899c-b67d48a682d9",
   "metadata": {},
   "outputs": [],
   "source": [
    "with open(\"links.txt\",\"w\") as f:\n",
    "    for link in cities_url:\n",
    "        complete_url = \"https://www.atlasobscura.com\"+link+\"\\n\"\n",
    "        f.write(complete_url)"
   ]
  },
  {
   "cell_type": "code",
   "execution_count": 2,
   "id": "13360fac-1393-44e8-ad43-83a0cda81551",
   "metadata": {},
   "outputs": [],
   "source": [
    "url = f\"https://www.atlasobscura.com/places?page=2&sort=likes_count\""
   ]
  },
  {
   "cell_type": "code",
   "execution_count": 3,
   "id": "f4b5eb35-e772-46d1-9822-2ed2e57b09c1",
   "metadata": {},
   "outputs": [],
   "source": [
    "raw = rq.get(url)\n",
    "soup = bs.BeautifulSoup(raw.content)"
   ]
  },
  {
   "cell_type": "code",
   "execution_count": null,
   "id": "8aa8f06e-e443-4251-ad7e-e523367c8ef4",
   "metadata": {},
   "outputs": [],
   "source": [
    "with open(\"pretty.txt\",\"w\") as f:\n",
    "    f.write(soup.prettify())"
   ]
  },
  {
   "cell_type": "code",
   "execution_count": null,
   "id": "3faa4e87-d675-4887-a5de-1c08fa18d287",
   "metadata": {},
   "outputs": [],
   "source": [
    "result = "
   ]
  },
  {
   "cell_type": "code",
   "execution_count": 12,
   "id": "23fe0c75-dccf-4e2c-b685-745ed2c8fc37",
   "metadata": {},
   "outputs": [],
   "source": [
    "cities_url = []\n",
    "c=1\n",
    "headers = {'User-Agent': 'Mozilla/5.0 (Macintosh; Intel Mac OS X 10_10_1) AppleWebKit/537.36 (KHTML, like Gecko) Chrome/39.0.2171.95 Safari/537.36'}\n",
    "dir_path= \"/home/ec2-user/SageMaker/\"\n",
    "\n",
    "big_dir_name=\"List_of_places\"\n",
    "path1=os.path.join(dir_path, big_dir_name)\n",
    "os.mkdir(path1)\n",
    "x=0\n",
    "\n",
    "for page in range(1,6):\n",
    "    dir_name= \"Page_\"+str(page)\n",
    "    path = os.path.join(path1, dir_name)\n",
    "    os.mkdir(path)\n",
    "    \n",
    "    save_path = path1+'/'+dir_name\n",
    "    url = f\"https://www.atlasobscura.com/places?page={page}&sort=likes_count\"\n",
    "    raw = rq.get(url, headers=headers)\n",
    "    soup = bs.BeautifulSoup(raw.content)\n",
    "    \n",
    "    for d in soup.find_all(\"a\",attrs={'data-place-id':re.compile(r\"\\+*\")}):\n",
    "        complete_url = \"https://www.atlasobscura.com\"+d[\"href\"]\n",
    "        cities_url.append(complete_url)\n",
    "    \n",
    "    \n",
    "    for i in range(x, len(cities_url)):\n",
    "        \n",
    "        raw= rq.get(cities_url[i])\n",
    "        completeName = os.path.join(save_path, str(c)+\".txt\")\n",
    "        file1 = open(completeName, \"w\")\n",
    "        file1.write(raw.text)\n",
    "        file1.close()\n",
    "        c+=1\n",
    "        \n",
    "    x+=18\n"
   ]
  },
  {
   "cell_type": "code",
   "execution_count": 10,
   "id": "b49c1487-1ecf-40b8-b9a0-13078499cc02",
   "metadata": {},
   "outputs": [
    {
     "data": {
      "text/plain": [
       "'/home/ec2-user/SageMaker/List_of_placesPage_1'"
      ]
     },
     "execution_count": 10,
     "metadata": {},
     "output_type": "execute_result"
    }
   ],
   "source": [
    "save_path"
   ]
  },
  {
   "cell_type": "code",
   "execution_count": null,
   "id": "d8c52677-43c4-448a-8aac-f90a8c338c85",
   "metadata": {},
   "outputs": [],
   "source": [
    "with open(\"links.txt\",\"w\") as f:\n",
    "    for link in cities_url:\n",
    "        complete_url = \"https://www.atlasobscura.com\"+link+\"\\n\"\n",
    "        f.write(complete_url)"
   ]
  },
  {
   "cell_type": "code",
   "execution_count": 15,
   "id": "c790afd1-daf9-481b-be14-7e6938466153",
   "metadata": {},
   "outputs": [],
   "source": [
    "dir_path = \"/home/ec2-user/SageMaker/\"\n",
    "directory_name= \"Prova\"\n",
    "path = os.path.join(dir_path, directory_name)\n",
    "os.mkdir(path)\n",
    "\n",
    "save_path = dir_path+directory_name\n",
    "c=1\n",
    "for url in range(cities_url:\n",
    "    raw = rq.get(url,headers=headers)\n",
    "    completeName = os.path.join(save_path, str(c)+\".txt\")\n",
    "    file1 = open(completeName, \"w\")\n",
    "    file1.write(raw.text)\n",
    "    file1.close()\n",
    "    c+=1\n"
   ]
  },
  {
   "cell_type": "code",
   "execution_count": 13,
   "id": "276cdcae-275c-4c13-9444-be0bb3ce72e3",
   "metadata": {},
   "outputs": [
    {
     "name": "stdout",
     "output_type": "stream",
     "text": [
      "<class 'requests.models.Response'>\n"
     ]
    }
   ],
   "source": [
    "print(type(raw))\n"
   ]
  },
  {
   "cell_type": "code",
   "execution_count": 14,
   "id": "387a5093-2d58-4dff-91f0-92d8448970b8",
   "metadata": {},
   "outputs": [
    {
     "data": {
      "text/plain": [
       "<Response [200]>"
      ]
     },
     "execution_count": 14,
     "metadata": {},
     "output_type": "execute_result"
    }
   ],
   "source": [
    "raw"
   ]
  },
  {
   "cell_type": "code",
   "execution_count": 53,
   "id": "d4685330-749f-4f8b-bd95-c435b35d3464",
   "metadata": {},
   "outputs": [],
   "source": [
    "def extract_single_place(url):\n",
    "    \n",
    "    result = rq.get(url)\n",
    "    soup = bs.BeautifulSoup(result.text)\n",
    "    \n",
    "    placeName = soup.find_all('h1', {'class':'DDPage__header-title'})[0].contents[0]\n",
    "    \n",
    "    placeTags = list()\n",
    "    for tags in soup.find_all('a', {'class':'itemTags__link js-item-tags-link'}):\n",
    "        wordlen=len(tags.text)-2\n",
    "        tag = tags.text[1:wordlen]\n",
    "        placeTags.append(str(tag))\n",
    "    \n",
    "    been = soup.find_all('div', {'class':'col-xs-4X js-submit-wrap js-been-to-top-wrap action-btn-col hidden-print'})[0]\n",
    "    num_been = been.get_text().split()\n",
    "    numPeopleVisited = int(num_been[2])\n",
    "    if numPeopleVisited==0:\n",
    "        numPeopleVisited = ''\n",
    "    \n",
    "    want = soup.find_all('div', {'class':'col-xs-4X js-submit-wrap js-like-top-wrap action-btn-col hidden-print'})[0]\n",
    "    num_want = want.get_text().split()\n",
    "    numPeopleWant = int(num_want[3])\n",
    "    if numPeopleWant==0:\n",
    "        numPeopleWant = ''\n",
    "    \n",
    "    description = soup.find('div', class_='DDP__body-copy')\n",
    "    allowlist = ['p', 'span', 'a', 'i']\n",
    "    text_elements = [t for t in description.find_all(text=True) if t.parent.name in allowlist]\n",
    "    placeDesc = str(' '.join(text_elements))\n",
    "    placeDesc = placeDesc.replace(u'\\xa0',u' ')\n",
    "    \n",
    "    \n",
    "    placeShortDesc = soup.find_all('h3', {'class':'DDPage__header-dek'})[0].contents[0]\n",
    "    placeShortDesc = placeShortDesc.replace(u'\\xa0',u' ')\n",
    "    placeShortDesc = str(placeShortDesc)\n",
    "    \n",
    "    placeNearby=list()\n",
    "    for places in soup.find_all('div', {'class':'DDPageSiderailRecirc__item-title'}):\n",
    "        placeNearby.append(str(places.text))\n",
    "    if len(placeNearby) == 0:\n",
    "        placeNearby = ''\n",
    "    \n",
    "    \n",
    "    placeRaw= soup.find_all('address', class_='DDPageSiderail__address')[0]\n",
    "    place = placeRaw.find_all('div')[0].contents[0:5:2]\n",
    "    place = \" \".join(place)\n",
    "    placeAddress = place.replace('\\n', '')\n",
    "    \n",
    "    \n",
    "    coordinates = soup.find_all('div', class_='DDPageSiderail__coordinates')[0]\n",
    "    coordinates = coordinates.get_text().split()\n",
    "    Alt = coordinates[0]\n",
    "    Altlen = len(Alt)\n",
    "    placeAlt = float(Alt[0:Altlen-1])\n",
    "    placeLong = float(coordinates[1])\n",
    "    \n",
    "\n",
    "    editors = soup.find_all('li', {'class':'DDPContributorsList__item'})\n",
    "    if len(editors)==0:\n",
    "        placeEditors = soup.find_all('div', {'class':'DDPContributorsList'})[1].get_text().split()\n",
    "    else:\n",
    "        placeEditors = list()\n",
    "        for place in editors:\n",
    "            names = place.find('span').getText()\n",
    "            placeEditors.append(names)\n",
    "    \n",
    "    \n",
    "    date_time = soup.find_all('div', {'class':'DDPContributor__name'})[0].get_text()\n",
    "    placePubDate = datetime.strptime(date_time, '%B %d, %Y')\n",
    "    \n",
    "    \n",
    "    titles = soup.find_all('h3', class_='Card__heading --content-card-v2-title js-title-content')  \n",
    "    placeRelatedPlaces = list()\n",
    "    for title in titles:\n",
    "        big_check = title.parent.parent.parent.parent.parent.parent\n",
    "        check = big_check.find('div', class_=\"CardRecircSection__title\").get_text()\n",
    "        if check == 'Related Places':\n",
    "            placeRelatedPlaces.append(str(title.get_text().strip()))\n",
    "    \n",
    "    placeRelatedLists = list()\n",
    "    for title in titles:\n",
    "        big_check = title.parent.parent.parent.parent.parent.parent\n",
    "        check = big_check.find('div', class_=\"CardRecircSection__title\").get_text()\n",
    "        if search(\"Appears in\", check):\n",
    "            placeRelatedLists.append(str(title.get_text().strip()))\n",
    "    if len(placeRelatedLists)==0:\n",
    "        placeRelatedLists.append('')\n",
    "    \n",
    "    find_url = soup.find('link', {\"rel\": \"canonical\"})\n",
    "    placeURL = find_url['href']\n",
    "    \n",
    "    print(\"placeName: \"+str(len(placeName)))\n",
    "    print(\"placetags \"+str(len(placeTags)))\n",
    "    print(\"address \"+str(len(placeAddress)))\n",
    "    print(\"editors \"+str(len(placeEditors)))\n",
    "    print(\"relatedplaces \"+str(len(placeRelatedPlaces)))\n",
    "    print(\"relatedlists \"+str(len(placeRelatedLists)))\n",
    "\n",
    "    \n",
    "    return {'placeName': placeName,\n",
    "            #'placeTags': placeTags,\n",
    "            'numPeopleVisited': numPeopleVisited,\n",
    "            'numPeopleWant': numPeopleWant,\n",
    "            'placeDesc': placeDesc,\n",
    "            'placeShortDesc':placeShortDesc,\n",
    "            #'placeNearby':placeNearby,\n",
    "            'placeAddress': placeAddress,\n",
    "            'placeAlt': placeAlt,\n",
    "            'placeLong': placeLong,\n",
    "            #'placeEditors': placeEditors,\n",
    "            'placePubDate': placePubDate,\n",
    "            #'placeRelatedPlaces': placeRelatedPlaces,\n",
    "            #'placeRelatedLists': placeRelatedLists,\n",
    "            'placeURL': placeURL}\n",
    "    "
   ]
  },
  {
   "cell_type": "code",
   "execution_count": 149,
   "id": "edb68de3-723e-416e-8098-a2311eeaa7c6",
   "metadata": {},
   "outputs": [
    {
     "data": {
      "text/plain": [
       "str"
      ]
     },
     "execution_count": 149,
     "metadata": {},
     "output_type": "execute_result"
    }
   ],
   "source": [
    "input_tag = soup.find('link', {\"rel\": \"canonical\"})\n",
    "output = input_tag['href']\n",
    "type(output)    "
   ]
  },
  {
   "cell_type": "code",
   "execution_count": 49,
   "id": "8819fb0c-27a5-4305-bd87-a52fe9c48b6d",
   "metadata": {},
   "outputs": [],
   "source": [
    "#url = \"https://www.atlasobscura.com/places/wanamaker-building\"\n",
    "url = \"https://www.atlasobscura.com/places/campo-de-fiori\""
   ]
  },
  {
   "cell_type": "code",
   "execution_count": 41,
   "id": "45e96086-3826-4e78-aaf7-cc1ffb72e7f4",
   "metadata": {},
   "outputs": [],
   "source": [
    "result = rq.get(url)\n",
    "soup = bs.BeautifulSoup(result.text)\n",
    "\n",
    "editors = soup.find_all('li', {'class':'DDPContributorsList__item'})\n",
    "if len(editors)==0:\n",
    "    placeEditors = soup.find_all('div', {'class':'DDPContributorsList'})[1].get_text().split()\n",
    "else:\n",
    "    placeEditors = list()\n",
    "    for place in editors:\n",
    "        names = place.find('span').getText()\n",
    "        placeEditors.append(names)"
   ]
  },
  {
   "cell_type": "code",
   "execution_count": 46,
   "id": "4cfdec69-e1c5-43b0-8ff0-50fa6c505546",
   "metadata": {},
   "outputs": [
    {
     "data": {
      "text/plain": [
       "['Matthew H Ward', 'MattJCasey', 'cait7911', 'Collector of Experiences']"
      ]
     },
     "execution_count": 46,
     "metadata": {},
     "output_type": "execute_result"
    }
   ],
   "source": [
    "placeEditors[0:4]"
   ]
  },
  {
   "cell_type": "code",
   "execution_count": 54,
   "id": "81d09ae4-18a2-4dd4-9472-faaf02a9d14b",
   "metadata": {},
   "outputs": [
    {
     "name": "stdout",
     "output_type": "stream",
     "text": [
      "placeName: 14\n",
      "placetags 1\n",
      "address 32\n",
      "editors 2\n",
      "relatedplaces 4\n",
      "relatedlists 1\n"
     ]
    },
    {
     "data": {
      "text/plain": [
       "{'placeName': 'Campo de Fiori',\n",
       " 'numPeopleVisited': 1800,\n",
       " 'numPeopleWant': 1019,\n",
       " 'placeDesc': 'Flower stalls, cafes, and throngs  of tourists now mill about Italy’s Campo de Fiori, but in the center of the square is a tall plinth topped with the grim brass statue of Giordano Bruno, a 16th century friar and philosopher who was burned at the stake for his forward-thinking. Bruno was a Dominican friar during in the 1500s whose big ideas about the nature of the universe led to his public execution. Despite his training as a member of the Catholic order, Bruno came to believe that the universe was infinite and that there were multiple important worlds, all of which were equally overseen by an aspect of God. Of course the ruling church of the time branded Bruno a heretic and held a trial that took seven years to complete.      Finally on February 17, 1600 Bruno, who never recanted on his beliefs, was led into the Campo de’ Fiori with a spike thrust through his tongue. At the request of Cardinal Bellarmine he was burned at the stake and his ashes were cast into the nearby river Tiber, creating a controversial proto-martyr for the scientific revolution. Witnesses wrote that before the fire was lit he refused to kiss a crucifix preferring to die a martyr in the hopes that the flames carry his soul into heaven.  In 1889 the current monument to the philosopher was erected, with the robed figure of Bruno facing the Vatican. Church officials rankled at the clear offense, but could not get the statue removed. While the Vatican has issued apologies for its misguided persecution of early scientific searchers such as Galileo, to this day they have refused to remove Bruno’s label of heretic despite a small amount of public outcry. However the statue that stands tall among the oblivious tourists milling about the Campo de Fiori ensures that Bruno’s tragedy is not forgotten.  ',\n",
       " 'placeShortDesc': 'This ritzy Italian market is built around a statue of an unforgiven heretic who was burned for his belief in an endless universe. ',\n",
       " 'placeAddress': 'Campo de Fiori Rome, 00186 Italy',\n",
       " 'placeAlt': 41.8956,\n",
       " 'placeLong': 12.4722,\n",
       " 'placePubDate': datetime.datetime(2014, 3, 10, 0, 0),\n",
       " 'placeURL': 'https://www.atlasobscura.com/places/campo-de-fiori'}"
      ]
     },
     "execution_count": 54,
     "metadata": {},
     "output_type": "execute_result"
    }
   ],
   "source": [
    "dataframe = extract_single_place(url)\n",
    "dataframe"
   ]
  },
  {
   "cell_type": "code",
   "execution_count": 58,
   "id": "cb36eada-b02b-4a5c-979d-02366cb24dc0",
   "metadata": {},
   "outputs": [
    {
     "ename": "ValueError",
     "evalue": "If using all scalar values, you must pass an index",
     "output_type": "error",
     "traceback": [
      "\u001b[0;31m---------------------------------------------------------------------------\u001b[0m",
      "\u001b[0;31mValueError\u001b[0m                                Traceback (most recent call last)",
      "\u001b[0;32m/tmp/ipykernel_7013/1011393691.py\u001b[0m in \u001b[0;36m<cell line: 1>\u001b[0;34m()\u001b[0m\n\u001b[0;32m----> 1\u001b[0;31m \u001b[0mdf\u001b[0m \u001b[0;34m=\u001b[0m \u001b[0mpd\u001b[0m\u001b[0;34m.\u001b[0m\u001b[0mDataFrame\u001b[0m\u001b[0;34m.\u001b[0m\u001b[0mfrom_dict\u001b[0m\u001b[0;34m(\u001b[0m\u001b[0mdataframe\u001b[0m\u001b[0;34m)\u001b[0m\u001b[0;34m\u001b[0m\u001b[0;34m\u001b[0m\u001b[0m\n\u001b[0m\u001b[1;32m      2\u001b[0m \u001b[0mdf\u001b[0m\u001b[0;34m.\u001b[0m\u001b[0mto_csv\u001b[0m\u001b[0;34m(\u001b[0m\u001b[0;34mr'test8.csv'\u001b[0m\u001b[0;34m,\u001b[0m \u001b[0msep\u001b[0m\u001b[0;34m=\u001b[0m\u001b[0;34m'\\t'\u001b[0m\u001b[0;34m,\u001b[0m \u001b[0mna_rep\u001b[0m\u001b[0;34m=\u001b[0m\u001b[0;34m''\u001b[0m\u001b[0;34m,\u001b[0m \u001b[0mindex\u001b[0m \u001b[0;34m=\u001b[0m \u001b[0;32mTrue\u001b[0m\u001b[0;34m,\u001b[0m \u001b[0mheader\u001b[0m\u001b[0;34m=\u001b[0m\u001b[0;32mTrue\u001b[0m\u001b[0;34m)\u001b[0m\u001b[0;34m\u001b[0m\u001b[0;34m\u001b[0m\u001b[0m\n\u001b[1;32m      3\u001b[0m \u001b[0;34m\u001b[0m\u001b[0m\n\u001b[1;32m      4\u001b[0m \u001b[0;31m#df = get_data_for_one_place(html_file)\u001b[0m\u001b[0;34m\u001b[0m\u001b[0;34m\u001b[0m\u001b[0;34m\u001b[0m\u001b[0m\n\u001b[1;32m      5\u001b[0m \u001b[0;31m#df.to_csv(os.getcwd()+'/Locations/page_'+str(page+1)+'/location_'+str(18*page+loc+1)+'.tsv', sep='\\t', index=False, header=None)\u001b[0m\u001b[0;34m\u001b[0m\u001b[0;34m\u001b[0m\u001b[0;34m\u001b[0m\u001b[0m\n",
      "\u001b[0;32m~/anaconda3/envs/python3/lib/python3.8/site-packages/pandas/core/frame.py\u001b[0m in \u001b[0;36mfrom_dict\u001b[0;34m(cls, data, orient, dtype, columns)\u001b[0m\n\u001b[1;32m   1591\u001b[0m             \u001b[0;32mraise\u001b[0m \u001b[0mValueError\u001b[0m\u001b[0;34m(\u001b[0m\u001b[0;34m\"only recognize index or columns for orient\"\u001b[0m\u001b[0;34m)\u001b[0m\u001b[0;34m\u001b[0m\u001b[0;34m\u001b[0m\u001b[0m\n\u001b[1;32m   1592\u001b[0m \u001b[0;34m\u001b[0m\u001b[0m\n\u001b[0;32m-> 1593\u001b[0;31m         \u001b[0;32mreturn\u001b[0m \u001b[0mcls\u001b[0m\u001b[0;34m(\u001b[0m\u001b[0mdata\u001b[0m\u001b[0;34m,\u001b[0m \u001b[0mindex\u001b[0m\u001b[0;34m=\u001b[0m\u001b[0mindex\u001b[0m\u001b[0;34m,\u001b[0m \u001b[0mcolumns\u001b[0m\u001b[0;34m=\u001b[0m\u001b[0mcolumns\u001b[0m\u001b[0;34m,\u001b[0m \u001b[0mdtype\u001b[0m\u001b[0;34m=\u001b[0m\u001b[0mdtype\u001b[0m\u001b[0;34m)\u001b[0m\u001b[0;34m\u001b[0m\u001b[0;34m\u001b[0m\u001b[0m\n\u001b[0m\u001b[1;32m   1594\u001b[0m \u001b[0;34m\u001b[0m\u001b[0m\n\u001b[1;32m   1595\u001b[0m     def to_numpy(\n",
      "\u001b[0;32m~/anaconda3/envs/python3/lib/python3.8/site-packages/pandas/core/frame.py\u001b[0m in \u001b[0;36m__init__\u001b[0;34m(self, data, index, columns, dtype, copy)\u001b[0m\n\u001b[1;32m    612\u001b[0m         \u001b[0;32melif\u001b[0m \u001b[0misinstance\u001b[0m\u001b[0;34m(\u001b[0m\u001b[0mdata\u001b[0m\u001b[0;34m,\u001b[0m \u001b[0mdict\u001b[0m\u001b[0;34m)\u001b[0m\u001b[0;34m:\u001b[0m\u001b[0;34m\u001b[0m\u001b[0;34m\u001b[0m\u001b[0m\n\u001b[1;32m    613\u001b[0m             \u001b[0;31m# GH#38939 de facto copy defaults to False only in non-dict cases\u001b[0m\u001b[0;34m\u001b[0m\u001b[0;34m\u001b[0m\u001b[0;34m\u001b[0m\u001b[0m\n\u001b[0;32m--> 614\u001b[0;31m             \u001b[0mmgr\u001b[0m \u001b[0;34m=\u001b[0m \u001b[0mdict_to_mgr\u001b[0m\u001b[0;34m(\u001b[0m\u001b[0mdata\u001b[0m\u001b[0;34m,\u001b[0m \u001b[0mindex\u001b[0m\u001b[0;34m,\u001b[0m \u001b[0mcolumns\u001b[0m\u001b[0;34m,\u001b[0m \u001b[0mdtype\u001b[0m\u001b[0;34m=\u001b[0m\u001b[0mdtype\u001b[0m\u001b[0;34m,\u001b[0m \u001b[0mcopy\u001b[0m\u001b[0;34m=\u001b[0m\u001b[0mcopy\u001b[0m\u001b[0;34m,\u001b[0m \u001b[0mtyp\u001b[0m\u001b[0;34m=\u001b[0m\u001b[0mmanager\u001b[0m\u001b[0;34m)\u001b[0m\u001b[0;34m\u001b[0m\u001b[0;34m\u001b[0m\u001b[0m\n\u001b[0m\u001b[1;32m    615\u001b[0m         \u001b[0;32melif\u001b[0m \u001b[0misinstance\u001b[0m\u001b[0;34m(\u001b[0m\u001b[0mdata\u001b[0m\u001b[0;34m,\u001b[0m \u001b[0mma\u001b[0m\u001b[0;34m.\u001b[0m\u001b[0mMaskedArray\u001b[0m\u001b[0;34m)\u001b[0m\u001b[0;34m:\u001b[0m\u001b[0;34m\u001b[0m\u001b[0;34m\u001b[0m\u001b[0m\n\u001b[1;32m    616\u001b[0m             \u001b[0;32mimport\u001b[0m \u001b[0mnumpy\u001b[0m\u001b[0;34m.\u001b[0m\u001b[0mma\u001b[0m\u001b[0;34m.\u001b[0m\u001b[0mmrecords\u001b[0m \u001b[0;32mas\u001b[0m \u001b[0mmrecords\u001b[0m\u001b[0;34m\u001b[0m\u001b[0;34m\u001b[0m\u001b[0m\n",
      "\u001b[0;32m~/anaconda3/envs/python3/lib/python3.8/site-packages/pandas/core/internals/construction.py\u001b[0m in \u001b[0;36mdict_to_mgr\u001b[0;34m(data, index, columns, dtype, typ, copy)\u001b[0m\n\u001b[1;32m    462\u001b[0m         \u001b[0;31m# TODO: can we get rid of the dt64tz special case above?\u001b[0m\u001b[0;34m\u001b[0m\u001b[0;34m\u001b[0m\u001b[0;34m\u001b[0m\u001b[0m\n\u001b[1;32m    463\u001b[0m \u001b[0;34m\u001b[0m\u001b[0m\n\u001b[0;32m--> 464\u001b[0;31m     return arrays_to_mgr(\n\u001b[0m\u001b[1;32m    465\u001b[0m         \u001b[0marrays\u001b[0m\u001b[0;34m,\u001b[0m \u001b[0mdata_names\u001b[0m\u001b[0;34m,\u001b[0m \u001b[0mindex\u001b[0m\u001b[0;34m,\u001b[0m \u001b[0mcolumns\u001b[0m\u001b[0;34m,\u001b[0m \u001b[0mdtype\u001b[0m\u001b[0;34m=\u001b[0m\u001b[0mdtype\u001b[0m\u001b[0;34m,\u001b[0m \u001b[0mtyp\u001b[0m\u001b[0;34m=\u001b[0m\u001b[0mtyp\u001b[0m\u001b[0;34m,\u001b[0m \u001b[0mconsolidate\u001b[0m\u001b[0;34m=\u001b[0m\u001b[0mcopy\u001b[0m\u001b[0;34m\u001b[0m\u001b[0;34m\u001b[0m\u001b[0m\n\u001b[1;32m    466\u001b[0m     )\n",
      "\u001b[0;32m~/anaconda3/envs/python3/lib/python3.8/site-packages/pandas/core/internals/construction.py\u001b[0m in \u001b[0;36marrays_to_mgr\u001b[0;34m(arrays, arr_names, index, columns, dtype, verify_integrity, typ, consolidate)\u001b[0m\n\u001b[1;32m    117\u001b[0m         \u001b[0;31m# figure out the index, if necessary\u001b[0m\u001b[0;34m\u001b[0m\u001b[0;34m\u001b[0m\u001b[0;34m\u001b[0m\u001b[0m\n\u001b[1;32m    118\u001b[0m         \u001b[0;32mif\u001b[0m \u001b[0mindex\u001b[0m \u001b[0;32mis\u001b[0m \u001b[0;32mNone\u001b[0m\u001b[0;34m:\u001b[0m\u001b[0;34m\u001b[0m\u001b[0;34m\u001b[0m\u001b[0m\n\u001b[0;32m--> 119\u001b[0;31m             \u001b[0mindex\u001b[0m \u001b[0;34m=\u001b[0m \u001b[0m_extract_index\u001b[0m\u001b[0;34m(\u001b[0m\u001b[0marrays\u001b[0m\u001b[0;34m)\u001b[0m\u001b[0;34m\u001b[0m\u001b[0;34m\u001b[0m\u001b[0m\n\u001b[0m\u001b[1;32m    120\u001b[0m         \u001b[0;32melse\u001b[0m\u001b[0;34m:\u001b[0m\u001b[0;34m\u001b[0m\u001b[0;34m\u001b[0m\u001b[0m\n\u001b[1;32m    121\u001b[0m             \u001b[0mindex\u001b[0m \u001b[0;34m=\u001b[0m \u001b[0mensure_index\u001b[0m\u001b[0;34m(\u001b[0m\u001b[0mindex\u001b[0m\u001b[0;34m)\u001b[0m\u001b[0;34m\u001b[0m\u001b[0;34m\u001b[0m\u001b[0m\n",
      "\u001b[0;32m~/anaconda3/envs/python3/lib/python3.8/site-packages/pandas/core/internals/construction.py\u001b[0m in \u001b[0;36m_extract_index\u001b[0;34m(data)\u001b[0m\n\u001b[1;32m    623\u001b[0m \u001b[0;34m\u001b[0m\u001b[0m\n\u001b[1;32m    624\u001b[0m         \u001b[0;32mif\u001b[0m \u001b[0;32mnot\u001b[0m \u001b[0mindexes\u001b[0m \u001b[0;32mand\u001b[0m \u001b[0;32mnot\u001b[0m \u001b[0mraw_lengths\u001b[0m\u001b[0;34m:\u001b[0m\u001b[0;34m\u001b[0m\u001b[0;34m\u001b[0m\u001b[0m\n\u001b[0;32m--> 625\u001b[0;31m             \u001b[0;32mraise\u001b[0m \u001b[0mValueError\u001b[0m\u001b[0;34m(\u001b[0m\u001b[0;34m\"If using all scalar values, you must pass an index\"\u001b[0m\u001b[0;34m)\u001b[0m\u001b[0;34m\u001b[0m\u001b[0;34m\u001b[0m\u001b[0m\n\u001b[0m\u001b[1;32m    626\u001b[0m \u001b[0;34m\u001b[0m\u001b[0m\n\u001b[1;32m    627\u001b[0m         \u001b[0;32mif\u001b[0m \u001b[0mhave_series\u001b[0m\u001b[0;34m:\u001b[0m\u001b[0;34m\u001b[0m\u001b[0;34m\u001b[0m\u001b[0m\n",
      "\u001b[0;31mValueError\u001b[0m: If using all scalar values, you must pass an index"
     ]
    }
   ],
   "source": [
    "df = pd.DataFrame.from_dict(dataframe) \n",
    "df.to_csv(r'test8.csv', sep='\\t', na_rep='', index = True, header=True)\n",
    "\n",
    "#df = get_data_for_one_place(html_file)\n",
    "#df.to_csv(os.getcwd()+'/Locations/page_'+str(page+1)+'/location_'+str(18*page+loc+1)+'.tsv', sep='\\t', index=False, header=None)\n",
    "\n",
    "#with open ('prova.tsv', 'w') as f:\n",
    "#    writer = csv.writer(f, delimiter='\\t')\n",
    "#    writer.writerow(info)"
   ]
  },
  {
   "cell_type": "code",
   "execution_count": null,
   "id": "a7af0f06-78c1-4d08-be4e-412fc00ddffa",
   "metadata": {},
   "outputs": [],
   "source": []
  }
 ],
 "metadata": {
  "kernelspec": {
   "display_name": "conda_python3",
   "language": "python",
   "name": "conda_python3"
  },
  "language_info": {
   "codemirror_mode": {
    "name": "ipython",
    "version": 3
   },
   "file_extension": ".py",
   "mimetype": "text/x-python",
   "name": "python",
   "nbconvert_exporter": "python",
   "pygments_lexer": "ipython3",
   "version": "3.8.12"
  }
 },
 "nbformat": 4,
 "nbformat_minor": 5
}
