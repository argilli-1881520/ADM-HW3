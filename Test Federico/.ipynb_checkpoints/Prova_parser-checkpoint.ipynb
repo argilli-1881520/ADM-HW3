{
 "cells": [
  {
   "cell_type": "code",
   "execution_count": 5,
   "id": "31be67a6-630c-482e-a80f-082b3d46fd38",
   "metadata": {},
   "outputs": [],
   "source": [
    "import requests as rq\n",
    "import bs4 as bs\n",
    "import re\n",
    "import time"
   ]
  },
  {
   "cell_type": "code",
   "execution_count": 6,
   "id": "668e21c6-b808-4f68-a141-5331c74503c7",
   "metadata": {},
   "outputs": [],
   "source": [
    "import pandas as pd\n",
    "from datetime import datetime\n",
    "from re import search\n",
    "import os\n",
    "import numpy as np\n",
    "from multiprocessing import  Pool, cpu_count"
   ]
  },
  {
   "cell_type": "code",
   "execution_count": 3,
   "id": "3796eebd-c09c-400f-97d7-f00de8ac9853",
   "metadata": {},
   "outputs": [],
   "source": [
    "def extract_single_place(page):\n",
    "    \"\"\"\n",
    "    Extract the requested features from a local html page\n",
    "    \"\"\"\n",
    "    \n",
    "    # Read local files\n",
    "    with open(page,encoding=\"utf-8\") as f:\n",
    "        soup = bs.BeautifulSoup(f)\n",
    "    \n",
    "    placeName = soup.find_all('h1', {'class':'DDPage__header-title'})[0].contents[0]\n",
    "    \n",
    "    placeTags = list()\n",
    "    for tags in soup.find_all('a', {'class':'itemTags__link js-item-tags-link'}):\n",
    "        wordlen=len(tags.text)-2\n",
    "        tag = tags.text[1:wordlen]\n",
    "        placeTags.append(str(tag))\n",
    "    \n",
    "    been = soup.find_all('div', {'class':'col-xs-4X js-submit-wrap js-been-to-top-wrap action-btn-col hidden-print'})[0]\n",
    "    num_been = been.get_text().split()\n",
    "    numPeopleVisited = int(num_been[2])\n",
    "    if numPeopleVisited==0:\n",
    "        numPeopleVisited = ''\n",
    "    \n",
    "    want = soup.find_all('div', {'class':'col-xs-4X js-submit-wrap js-like-top-wrap action-btn-col hidden-print'})[0]\n",
    "    num_want = want.get_text().split()\n",
    "    numPeopleWant = int(num_want[3])\n",
    "    if numPeopleWant==0:\n",
    "        numPeopleWant = ''\n",
    "    \n",
    "    description = soup.find('div', class_='DDP__body-copy')\n",
    "    allowlist = ['p', 'span', 'a', 'i']\n",
    "    text_elements = [t for t in description.find_all(text=True) if t.parent.name in allowlist]\n",
    "    placeDesc = str(' '.join(text_elements))\n",
    "    placeDesc = placeDesc.replace(u'\\xa0',u' ')\n",
    "    \n",
    "    \n",
    "    placeShortDesc = soup.find_all('h3', {'class':'DDPage__header-dek'})[0].contents[0]\n",
    "    placeShortDesc = placeShortDesc.replace(u'\\xa0',u' ')\n",
    "    placeShortDesc = str(placeShortDesc)\n",
    "    \n",
    "    placeNearby=list()\n",
    "    for places in soup.find_all('div', {'class':'DDPageSiderailRecirc__item-title'}):\n",
    "        placeNearby.append(str(places.text))\n",
    "    if len(placeNearby) == 0:\n",
    "        placeNearby = ''\n",
    "    \n",
    "    \n",
    "    placeRaw= soup.find_all('address', class_='DDPageSiderail__address')[0]\n",
    "    place = placeRaw.find_all('div')[0].contents[0:5:2]\n",
    "    place = \" \".join(place)\n",
    "    placeAddress = place.replace('\\n', '')\n",
    "    \n",
    "    \n",
    "    coordinates = soup.find_all('div', class_='DDPageSiderail__coordinates')[0]\n",
    "    coordinates = coordinates.get_text().split()\n",
    "    Alt = coordinates[0]\n",
    "    Altlen = len(Alt)\n",
    "    placeAlt = float(Alt[0:Altlen-1])\n",
    "    placeLong = float(coordinates[1])\n",
    "    \n",
    "\n",
    "    editors = soup.find_all('li', {'class':'DDPContributorsList__item'})\n",
    "    if len(editors)==0:\n",
    "        #placeEditors = soup.find_all('div', {'class':'DDPContributorsList'})[1].get_text().split()\n",
    "        #TODO: check the line below\n",
    "        listEditor = soup.find_all('div', {'class':'DDPContributorsList'})\n",
    "        if len(listEditor) == 0:\n",
    "            placeEditors=[\"\"]\n",
    "        else:\n",
    "            placeEditors = listEditor[0].get_text().split()\n",
    "    else:\n",
    "        placeEditors = list()\n",
    "        for place in editors:\n",
    "            names = place.find('span').getText()\n",
    "            placeEditors.append(names)\n",
    "    \n",
    "    \n",
    "    date_time = soup.find_all('div', {'class':'DDPContributor__name'})\n",
    "    if len(date_time) >0:\n",
    "        time = date_time[0].get_text()\n",
    "        placePubDate = datetime.strptime(time, '%B %d, %Y')\n",
    "    else:\n",
    "        placePubDate = \"\"\n",
    "    \n",
    "    \n",
    "    titles = soup.find_all('h3', class_='Card__heading --content-card-v2-title js-title-content')  \n",
    "    placeRelatedPlaces = list()\n",
    "    for title in titles:\n",
    "        big_check = title.parent.parent.parent.parent.parent.parent\n",
    "        check = big_check.find('div', class_=\"CardRecircSection__title\").get_text()\n",
    "        if check == 'Related Places':\n",
    "            placeRelatedPlaces.append(str(title.get_text().strip()))\n",
    "    \n",
    "    placeRelatedLists = list()\n",
    "    for title in titles:\n",
    "        big_check = title.parent.parent.parent.parent.parent.parent\n",
    "        check = big_check.find('div', class_=\"CardRecircSection__title\").get_text()\n",
    "        if search(\"Appears in\", check):\n",
    "            placeRelatedLists.append(str(title.get_text().strip()))\n",
    "    if len(placeRelatedLists)==0:\n",
    "        placeRelatedLists.append('')\n",
    "    \n",
    "    find_url = soup.find('link', {\"rel\": \"canonical\"})\n",
    "    placeURL = find_url['href']\n",
    "    \n",
    "    #print(\"placeName: \"+str(len(placeName)))\n",
    "    #print(\"placetags \"+str(len(placeTags)))\n",
    "    #print(\"address \"+str(len(placeAddress)))\n",
    "    #print(\"editors \"+str(len(placeEditors)))\n",
    "    #print(\"relatedplaces \"+str(len(placeRelatedPlaces)))\n",
    "    #print(\"relatedlists \"+str(len(placeRelatedLists)))\n",
    "\n",
    "    \n",
    "    return {'placeName': placeName,\n",
    "            'placeTags': str(placeTags),\n",
    "            'numPeopleVisited': numPeopleVisited,\n",
    "            'numPeopleWant': numPeopleWant,\n",
    "            'placeDesc': placeDesc,\n",
    "            'placeShortDesc':placeShortDesc,\n",
    "            'placeNearby':str(placeNearby),\n",
    "            'placeAddress': placeAddress,\n",
    "            'placeAlt': placeAlt,\n",
    "            'placeLong': placeLong,\n",
    "            'placeEditors': str(placeEditors),\n",
    "            'placePubDate': placePubDate,\n",
    "            'placeRelatedPlaces': str(placeRelatedPlaces),\n",
    "            'placeRelatedLists': str(placeRelatedLists),\n",
    "            'placeURL': placeURL}\n",
    "    "
   ]
  },
  {
   "cell_type": "code",
   "execution_count": null,
   "id": "ed3a5152-46b8-43b2-b40d-620ea707face",
   "metadata": {},
   "outputs": [],
   "source": [
    "dir=\"../../downloads/\"\n",
    "    \n",
    "res = [] \n",
    "files = os.listdir(dir)\n",
    "files.remove(\".ipynb_checkpoints\")   # remove this junk\n",
    "\n",
    "# create first row of the file (with the index)\n",
    "pd.DataFrame(extract_single_place(f\"{dir}/{files[0]}\"),index=[0]).to_csv(\"res.tsv\",index=None,sep=\"\\t\")\n",
    "\n",
    "for file in files[1:]:\n",
    "    df = pd.DataFrame(extract_single_place(f\"{dir}/{file}\"),index=[0])  # append every row to the file creted before\n",
    "    if len(df)>1:\n",
    "         \n",
    "    df.to_csv(\"res.tsv\",index=None,mode=\"a\",sep=\"\\t\",header=None,encoding='utf-8')"
   ]
  },
  {
   "cell_type": "markdown",
   "id": "54b2f0ab-53ba-4469-9f45-a2783b4abd26",
   "metadata": {
    "jp-MarkdownHeadingCollapsed": true,
    "tags": []
   },
   "source": [
    "### END OF QUESTION 1\n",
    "---"
   ]
  },
  {
   "cell_type": "markdown",
   "id": "88878e73-f876-4351-8975-c4768dfa0d2e",
   "metadata": {},
   "source": [
    "reference:\\\n",
    "https://towardsdatascience.com/make-your-own-super-pandas-using-multiproc-1c04f41944a1"
   ]
  },
  {
   "cell_type": "code",
   "execution_count": 1,
   "id": "aba0ce34-0d42-4c6c-9ee2-e335cd7234cb",
   "metadata": {},
   "outputs": [],
   "source": [
    "def table_maker(pages:list ,dir=\"../../downloads/\"):\n",
    "    raws = []\n",
    "    \n",
    "    for page in pages:\n",
    "        d = extract_single_place(f\"{dir}/{page}\")\n",
    "        raws.append(d)\n",
    "    return raws\n",
    "\n",
    "def parallel_table(dir=\"downloads\"):\n",
    "    files = os.listdir(dir)\n",
    "    files.remove(\".ipynb_checkpoints\")   # remove this junk\n",
    "    chunks = np.split(np.array(files), n_cores)\n",
    "    \n",
    "    with Pool() as p:\n",
    "        l = p.map(table_maker, files)\n",
    "\n",
    "    return l\n",
    "    "
   ]
  },
  {
   "cell_type": "code",
   "execution_count": null,
   "id": "f35e778b-28fa-4874-ba28-934da5be216e",
   "metadata": {},
   "outputs": [],
   "source": [
    "dir=\"../../downloads/\"\n",
    "    \n",
    "res = [] \n",
    "files = os.listdir(dir)\n",
    "files.remove(\".ipynb_checkpoints\")   # remove this junk\n",
    "\n",
    "pd.DataFrame(extract_single_place(f\"{dir}/{files[0]}\"),index=[0]).to_csv(\"res.tsv\",index=None,sep=\"\\t\")\n",
    "for file in files[1:]:\n",
    "    pd.DataFrame(extract_single_place(f\"{dir}/{file}\"),index=[0]).to_csv(\"res.tsv\",index=None,mode=\"a\",sep=\"\\t\",header=None)"
   ]
  },
  {
   "cell_type": "code",
   "execution_count": null,
   "id": "b14c6f04-d689-4cae-ae3b-d9e72968d14f",
   "metadata": {},
   "outputs": [],
   "source": [
    "df_res =pd.DataFrame(res)"
   ]
  },
  {
   "cell_type": "code",
   "execution_count": null,
   "id": "045ce3b3-27dc-46a1-9785-7919ccb082a9",
   "metadata": {},
   "outputs": [],
   "source": [
    "all_pages.to_csv()"
   ]
  },
  {
   "cell_type": "markdown",
   "id": "9111b22c-7c0f-4230-bd16-e344c6b8241c",
   "metadata": {
    "jp-MarkdownHeadingCollapsed": true,
    "tags": []
   },
   "source": [
    "## Only this method below seems to work"
   ]
  },
  {
   "cell_type": "code",
   "execution_count": 5,
   "id": "9ece9c8a-8f78-4779-a850-5663783498b2",
   "metadata": {},
   "outputs": [],
   "source": [
    "def table_maker(pages:list ,dir=\"downloads\"):\n",
    "    index = extract_single_place(f\"{dir}/{pages[0]}\") # create index\n",
    "    with open(\"result.tsv\",\"w\",encoding=\"utf-8\") as f:\n",
    "        f.write(\"\\t\".join(list(map(str,index.keys()))) + \"\\n\")\n",
    "    for page in pages:\n",
    "        cols = extract_single_place(f\"{dir}/{page}\")\n",
    "        with open(\"result.tsv\",\"a\",encoding=\"utf-8\") as f:\n",
    "            f.write(\"\\t\".join(list(map(str,cols.values()))) + \"\\n\")\n",
    "    print(\"done\")"
   ]
  },
  {
   "cell_type": "code",
   "execution_count": 15,
   "id": "f63bc530-b8a1-497c-9c18-a21420f09636",
   "metadata": {},
   "outputs": [
    {
     "name": "stdout",
     "output_type": "stream",
     "text": [
      "done\n"
     ]
    }
   ],
   "source": [
    "files = os.listdir(\"../../downloads/\")\n",
    "files.remove(\".ipynb_checkpoints\")\n",
    "\n",
    "table_maker(files,\"../../downloads\")"
   ]
  },
  {
   "cell_type": "code",
   "execution_count": null,
   "id": "677e6569-103b-45de-8e9d-ed670c2196be",
   "metadata": {},
   "outputs": [],
   "source": [
    "files = os.listdir(\"../../downloads/\")\n",
    "files.remove(\".ipynb_checkpoints\")\n",
    "\n",
    "res = table_maker(files,\"../../downloads\")"
   ]
  },
  {
   "cell_type": "markdown",
   "id": "0df744d8-4a21-4fa3-ac04-8a2816eed204",
   "metadata": {},
   "source": [
    "#### Done with pandas to reduce compatibility errors"
   ]
  },
  {
   "cell_type": "code",
   "execution_count": null,
   "id": "e4bb6e34-fb3d-4bd8-829e-2bee721cce0e",
   "metadata": {},
   "outputs": [],
   "source": [
    "dir=\"../../downloads/\"\n",
    "    \n",
    "res = [] \n",
    "files = os.listdir(dir)\n",
    "files.remove(\".ipynb_checkpoints\")   # remove this junk\n",
    "\n",
    "pd.DataFrame(extract_single_place(f\"{dir}/{files[0]}\"),index=[0]).to_csv(\"res.tsv\",index=None,sep=\"\\t\")\n",
    "for file in files[1:]:\n",
    "    df = pd.DataFrame(extract_single_place(f\"{dir}/{file}\"),index=[0])\n",
    "    if len(df)>1:\n",
    "         \n",
    "    df.to_csv(\"res.tsv\",index=None,mode=\"a\",sep=\"\\t\",header=None,encoding='utf-8')"
   ]
  },
  {
   "cell_type": "markdown",
   "id": "8c42bf37-a9f4-44ac-8962-3c1f28c81cc7",
   "metadata": {},
   "source": [
    "### Debugging di extract_single_pages"
   ]
  },
  {
   "cell_type": "code",
   "execution_count": null,
   "id": "5b91f813-5629-449e-9169-e3dcfa54c47b",
   "metadata": {},
   "outputs": [],
   "source": [
    "import traceback\n",
    "\n",
    "files = os.listdir(\"downloads/\")\n",
    "files.remove(\".ipynb_checkpoints\")   # remove this junk\n",
    "for file in files:\n",
    "    try:\n",
    "        extract_single_place(f\"downloads/{file}\")\n",
    "    except Exception as e:\n",
    "        print(file,\"-->\" ,traceback.format_exc())"
   ]
  },
  {
   "cell_type": "markdown",
   "id": "565930d4-7518-4ba5-a734-9ef5bf3b384b",
   "metadata": {
    "tags": []
   },
   "source": [
    "# 2"
   ]
  },
  {
   "cell_type": "code",
   "execution_count": 3,
   "id": "3e1808c8-196f-4051-9463-881b7f33ff4a",
   "metadata": {},
   "outputs": [],
   "source": [
    "import nltk\n",
    "import string\n",
    "\n",
    "import json"
   ]
  },
  {
   "cell_type": "code",
   "execution_count": 4,
   "id": "a6d36eae-d823-4dd6-af52-e4c8e816645e",
   "metadata": {},
   "outputs": [
    {
     "name": "stderr",
     "output_type": "stream",
     "text": [
      "[nltk_data] Downloading package stopwords to\n",
      "[nltk_data]     /home/ec2-user/nltk_data...\n",
      "[nltk_data]   Unzipping corpora/stopwords.zip.\n",
      "[nltk_data] Downloading package punkt to /home/ec2-user/nltk_data...\n",
      "[nltk_data]   Unzipping tokenizers/punkt.zip.\n"
     ]
    },
    {
     "data": {
      "text/plain": [
       "True"
      ]
     },
     "execution_count": 4,
     "metadata": {},
     "output_type": "execute_result"
    }
   ],
   "source": [
    "from nltk.tokenize import word_tokenize\n",
    "from nltk.tokenize import RegexpTokenizer\n",
    "from nltk.corpus import stopwords\n",
    "from nltk.stem.snowball import SnowballStemmer\n",
    "nltk.download('stopwords')\n",
    "nltk.download('punkt')"
   ]
  },
  {
   "cell_type": "code",
   "execution_count": 8,
   "id": "88f5f995-916f-481e-b026-f9ca1e6ee007",
   "metadata": {},
   "outputs": [],
   "source": [
    "def text_cleaner_2(description):\n",
    "    \"\"\"\n",
    "    stemming function\n",
    "    \"\"\"\n",
    "    if type(description) != str:\n",
    "        return None\n",
    "    \n",
    "    stop_words = set(stopwords.words('english'))\n",
    "    snow_stemmer = SnowballStemmer(language='english')\n",
    "    punct =  set(string.punctuation)\n",
    "    punct.add(\"“\")\n",
    "    punct.add(\"”\")\n",
    "    punct.add(\"’\")\n",
    "\n",
    "    filtered_sentence = []\n",
    "    word_tokens = word_tokenize(description)\n",
    "    for w in word_tokens:\n",
    "        if w not in stop_words :\n",
    "            filtered_sentence.append(w)\n",
    "\n",
    "    stemmed_desc = []\n",
    "    for w in filtered_sentence:\n",
    "        x = snow_stemmer.stem(w)\n",
    "        stemmed_desc.append(x)\n",
    "\n",
    "    filtered_desc = []\n",
    "    for s in stemmed_desc:\n",
    "        if s not in punct:\n",
    "            filtered_desc.append(s)\n",
    "\n",
    "    return filtered_desc"
   ]
  },
  {
   "cell_type": "code",
   "execution_count": 7,
   "id": "a01b879d-6112-4da9-b27d-b52470fc77d8",
   "metadata": {},
   "outputs": [],
   "source": [
    "df_res = pd.read_csv(\"res.tsv\", delimiter = '\\t')"
   ]
  },
  {
   "cell_type": "code",
   "execution_count": 8,
   "id": "d4570501-5dfe-43ad-8dce-aad187b8d3d7",
   "metadata": {},
   "outputs": [],
   "source": [
    "df_res[\"cleanedDesc\"] = df_res.placeDesc.apply(text_cleaner_2)\n",
    "df_res[\"cleanedShortDesc\"] = df_res.placeShortDesc.apply(text_cleaner_2)"
   ]
  },
  {
   "cell_type": "code",
   "execution_count": 9,
   "id": "2523d997-9195-4903-9cd9-647ca4931bed",
   "metadata": {
    "tags": []
   },
   "outputs": [],
   "source": [
    "# create the set of words contained in all the documents\n",
    "s = set()\n",
    "for desc in df_res.cleanedDesc:\n",
    "    if desc is not None:\n",
    "        for word in desc:\n",
    "            s.add(word)"
   ]
  },
  {
   "cell_type": "markdown",
   "id": "4da51d2a-aaf1-41ba-ae02-cde725755e5b",
   "metadata": {},
   "source": [
    "Creating the _vocabulary_ file:"
   ]
  },
  {
   "cell_type": "code",
   "execution_count": 18,
   "id": "41e597f0-e3fa-4247-b7fa-2d08776258f0",
   "metadata": {},
   "outputs": [],
   "source": [
    "# assign a number to each word in the set\n",
    "d, i = {}, 0\n",
    "for w in s:\n",
    "    d[w] = i\n",
    "    i += 1\n",
    "with open(\"vocabulary.json\", \"w\") as f:\n",
    "    f.write(json.dumps(d))"
   ]
  },
  {
   "cell_type": "code",
   "execution_count": 15,
   "id": "1a46f6c9-30dd-4706-a759-a9c399ce6aac",
   "metadata": {},
   "outputs": [],
   "source": [
    "with open(\"vocabulary.json\", \"r\") as f:\n",
    "    vocabulary = json.load(f)\n",
    "\n",
    "reverse_index = {}\n",
    "for w in s:\n",
    "    filtered = df_res.cleanedDesc.apply(lambda x: x != None and w in x)   # filter the documents that cointain the word\n",
    "    docs = df_res[filtered].index.tolist()                                # save the index of the filtered files\n",
    "    reverse_index[vocabulary[w]] = docs\n",
    "\n",
    "with open(\"reverse_index.json\", \"w\") as f:                                # save the index in a json file\n",
    "    f.write(json.dumps(reverse_index))"
   ]
  },
  {
   "cell_type": "markdown",
   "id": "6bee75de-1be0-426c-af9c-8ec43a87141e",
   "metadata": {
    "tags": []
   },
   "source": [
    "### execute query"
   ]
  },
  {
   "cell_type": "code",
   "execution_count": 10,
   "id": "f7fa8132-776b-49ca-8cb8-e7ce1b615af0",
   "metadata": {},
   "outputs": [],
   "source": [
    "def query_function(query, voc=\"vocabulary.json\", reverse_index=\"reverse_index.json\", df_name=\"res.tsv\"):\n",
    "    df = pd.read_csv(df_name, delimiter = '\\t')\n",
    "    with open(reverse_index, \"r\") as f:\n",
    "        reverse_index = json.load(f)\n",
    "    with open(voc, \"r\") as f:\n",
    "        vocabulary = json.load(f)\n",
    "    \n",
    "    idx = vocabulary[query.split()[-1]]                       # find the id of the first word\n",
    "    s = set(reverse_index[str(idx)])\n",
    "    for w in query.split()[:-1]:\n",
    "        idx = vocabulary[w]                                  # find the id for the remainig words\n",
    "        s.intersection(set(reverse_index[str(idx)]))  # perform the intersection on the sets of documents\n",
    "    return df.iloc[list(s)][[\"placeName\",\"placeDesc\",\"placeURL\"]]"
   ]
  },
  {
   "cell_type": "code",
   "execution_count": 13,
   "id": "07725021-0bb0-46ed-9c8b-9a61fa5b8f93",
   "metadata": {},
   "outputs": [],
   "source": [
    "query = \"system\"\n",
    "\n",
    "result = query_function(query)"
   ]
  },
  {
   "cell_type": "code",
   "execution_count": 14,
   "id": "1c6c83ff-6446-499d-91a7-742d1ee6021e",
   "metadata": {},
   "outputs": [
    {
     "data": {
      "text/html": [
       "<div>\n",
       "<style scoped>\n",
       "    .dataframe tbody tr th:only-of-type {\n",
       "        vertical-align: middle;\n",
       "    }\n",
       "\n",
       "    .dataframe tbody tr th {\n",
       "        vertical-align: top;\n",
       "    }\n",
       "\n",
       "    .dataframe thead th {\n",
       "        text-align: right;\n",
       "    }\n",
       "</style>\n",
       "<table border=\"1\" class=\"dataframe\">\n",
       "  <thead>\n",
       "    <tr style=\"text-align: right;\">\n",
       "      <th></th>\n",
       "      <th>placeName</th>\n",
       "      <th>placeDesc</th>\n",
       "      <th>placeURL</th>\n",
       "    </tr>\n",
       "  </thead>\n",
       "  <tbody>\n",
       "    <tr>\n",
       "      <th>1</th>\n",
       "      <td>The Snow Hole</td>\n",
       "      <td>In a rare geophysical phenomenon, snow  and ic...</td>\n",
       "      <td>https://www.atlasobscura.com/places/the-snow-h...</td>\n",
       "    </tr>\n",
       "    <tr>\n",
       "      <th>2049</th>\n",
       "      <td>Webster Place</td>\n",
       "      <td>Brooklyn has an abundance of  spectacular arch...</td>\n",
       "      <td>https://www.atlasobscura.com/places/webster-place</td>\n",
       "    </tr>\n",
       "    <tr>\n",
       "      <th>8</th>\n",
       "      <td>Eisbachwelle</td>\n",
       "      <td>When you think of wave  surfing you probably h...</td>\n",
       "      <td>https://www.atlasobscura.com/places/eisbachwelle</td>\n",
       "    </tr>\n",
       "    <tr>\n",
       "      <th>4108</th>\n",
       "      <td>Rothschild Patent Model Collection</td>\n",
       "      <td>From 1790 to 1880 the  United States  required...</td>\n",
       "      <td>https://www.atlasobscura.com/places/rothschild...</td>\n",
       "    </tr>\n",
       "    <tr>\n",
       "      <th>2062</th>\n",
       "      <td>Atlantic Avenue Tunnel</td>\n",
       "      <td>UPDATE: Currently closed by New  York departme...</td>\n",
       "      <td>https://www.atlasobscura.com/places/atlantic-a...</td>\n",
       "    </tr>\n",
       "  </tbody>\n",
       "</table>\n",
       "</div>"
      ],
      "text/plain": [
       "                               placeName  \\\n",
       "1                          The Snow Hole   \n",
       "2049                      Webster Place    \n",
       "8                           Eisbachwelle   \n",
       "4108  Rothschild Patent Model Collection   \n",
       "2062              Atlantic Avenue Tunnel   \n",
       "\n",
       "                                              placeDesc  \\\n",
       "1     In a rare geophysical phenomenon, snow  and ic...   \n",
       "2049  Brooklyn has an abundance of  spectacular arch...   \n",
       "8     When you think of wave  surfing you probably h...   \n",
       "4108  From 1790 to 1880 the  United States  required...   \n",
       "2062  UPDATE: Currently closed by New  York departme...   \n",
       "\n",
       "                                               placeURL  \n",
       "1     https://www.atlasobscura.com/places/the-snow-h...  \n",
       "2049  https://www.atlasobscura.com/places/webster-place  \n",
       "8      https://www.atlasobscura.com/places/eisbachwelle  \n",
       "4108  https://www.atlasobscura.com/places/rothschild...  \n",
       "2062  https://www.atlasobscura.com/places/atlantic-a...  "
      ]
     },
     "execution_count": 14,
     "metadata": {},
     "output_type": "execute_result"
    }
   ],
   "source": [
    "result.head()"
   ]
  },
  {
   "cell_type": "markdown",
   "id": "31de6398-4808-4d92-a58a-2835a817523a",
   "metadata": {},
   "source": [
    "# 2.2"
   ]
  },
  {
   "cell_type": "code",
   "execution_count": 13,
   "id": "be1f1f53-60f2-44de-9c8d-7b9b3791e26e",
   "metadata": {
    "tags": []
   },
   "outputs": [],
   "source": [
    "with open(\"vocabulary.json\", \"r\") as f:\n",
    "    vocabulary = json.load(f)\n",
    "\n",
    "reverse_index_v2 = {}\n",
    "\n",
    "for w in s:\n",
    "    filtered = df_res.cleanedDesc.apply(lambda x: x != None and w in x)     # filter the documents that cointain the word\n",
    "    docs = df_res[filtered].cleanedDesc.apply(lambda x: x.count(w)/len(x) * np.log(len(df_res)/len(df_res[filtered])))  # compute the idf only for the files that contains the word\n",
    "    tfidf= list(zip(docs.index.tolist(), docs.values.tolist()))\n",
    "\n",
    "    #tfidf.append(list(zip(df_res[-filtered].index.tolist(), [0 for i in range(len(df_res[-filtered].index.tolist()))])))    # 0 for all the files that do not contain the word\n",
    "    \n",
    "    reverse_index_v2[vocabulary[w]] = tfidf\n",
    "    \n",
    "with open(\"reverse_index_v2.json\", \"w\") as f:\n",
    "    f.write(json.dumps(reverse_index_v2))"
   ]
  },
  {
   "cell_type": "code",
   "execution_count": 48,
   "id": "df17e115-dec9-4d6d-bbde-9ade130ab6ce",
   "metadata": {},
   "outputs": [],
   "source": [
    "with open(\"reverse_index_v2.json\", \"r\") as f:\n",
    "        reverse_index = json.load(f)"
   ]
  },
  {
   "cell_type": "code",
   "execution_count": 53,
   "id": "04c9ec46-60ab-4aef-9e63-814aed9b4bd7",
   "metadata": {},
   "outputs": [
    {
     "data": {
      "text/plain": [
       "[[635, 0.02577226495475509],\n",
       " [821, 0.0231643571914763],\n",
       " [2799, 0.026206141469144906]]"
      ]
     },
     "execution_count": 53,
     "metadata": {},
     "output_type": "execute_result"
    }
   ],
   "source": [
    "reverse_index[list(reverse_index.keys())[1]]"
   ]
  },
  {
   "cell_type": "code",
   "execution_count": 56,
   "id": "0e3e3e91-14de-47a2-874e-08314c711b14",
   "metadata": {},
   "outputs": [],
   "source": [
    "def cosine_similarity(v1,v2):\n",
    "    return np.dot(v1,v2)/(np.linalg.norm(v1)*np.linalg.norm(v2))\n",
    "\n",
    "def query_function_v2(query, voc=\"vocabulary.json\", reverse_index=\"reverse_index_v2.json\", df_name=\"res.tsv\"):\n",
    "    df = pd.read_csv(df_name, delimiter = '\\t')\n",
    "    with open(reverse_index, \"r\") as f:\n",
    "        reverse_index = json.load(f)\n",
    "    with open(voc, \"r\") as f:\n",
    "        vocabulary = json.load(f)\n",
    "    stemmed_query = text_cleaner_2(query)\n",
    "    token_query = list(map(lambda w: vocabulary[w],stemmed_query ))\n",
    "    \n",
    "    filtered_dict = { token: reverse_index[str(token)] for token in token_query }\n",
    "\n",
    "    tfidf_vec = list(map(lambda w: token_query.count(w)/len(token_query) * np.log(len(df)/len(filtered_dict[w])), token_query))\n",
    "    \n",
    "    \n",
    "    docs = set([tup[0] for l in filtered_dict.values() for tup in l ])\n",
    "    \n",
    "    tfidf_docs = {}\n",
    "    for doc in docs:\n",
    "        v=[]\n",
    "        for word in token_query:\n",
    "            for t in reverse_index[str(word)]:\n",
    "                if t[0]==doc:\n",
    "                    v.append(t[1])\n",
    "                    break\n",
    "            else:\n",
    "                v.append(0)\n",
    "        tfidf_docs[doc] = v\n",
    "    return tfidf_docs\n",
    "    return df.iloc[list(s)][[\"placeName\",\"placeDesc\",\"placeURL\"]]"
   ]
  },
  {
   "cell_type": "code",
   "execution_count": 57,
   "id": "c0e5da35-fdf6-4bfe-b471-23d1eb435094",
   "metadata": {},
   "outputs": [
    {
     "name": "stdout",
     "output_type": "stream",
     "text": [
      "{11: [0, 0.03427637232523833], 13: [0.036678501864075515, 0], 14: [0, 0.010051510027865248], 15: [0.01591199713220923, 0], 19: [0, 0.003960445347637679], 24: [0, 0.008020901941427825], 25: [0.0066997882661933615, 0.009833675445218014], 26: [0.00890547987646278, 0], 39: [0, 0.011851780480617233], 52: [0.010403998124906036, 0], 53: [0.01703961897622406, 0], 58: [0.01545736864271754, 0.011343847031447923], 61: [0, 0.04812541164856694], 67: [0, 0.023241052454673793], 69: [0, 0.009988292983664838], 73: [0, 0.010803663839474212], 75: [0, 0.04740712192246893], 77: [0.012581579127793346, 0], 78: [0, 0.013017529380350076], 82: [0, 0.029140157511976315], 88: [0, 0.012807569229054105], 90: [0.011097597999899771, 0], 95: [0, 0.04046212953892253], 96: [0, 0.12216450649251609], 97: [0, 0.014179808789309903], 99: [0.017593752926670373, 0], 108: [0.011510806436066253, 0], 114: [0.020037329722041253, 0.014704986892617677], 117: [0, 0.04263459286987139], 119: [0.017641562037884147, 0.008631187958710375], 123: [0, 0.012756133208053888], 124: [0, 0.0052587370344460566], 126: [0.00819708943174415, 0], 131: [0.02487392655149949, 0], 134: [0.011955975745748372, 0], 140: [0.013961494257938422, 0.02049211076648657], 142: [0.016519325267026378, 0], 144: [0, 0.021558442322208722], 151: [0.025762281071195898, 0], 152: [0, 0.06710444722828349], 157: [0.02417912413385984, 0.03548913037771417], 159: [0.015568572733672343, 0.01142545744174611], 160: [0.007869205854474384, 0], 169: [0.010018664861020626, 0], 172: [0.026390629390005554, 0.0484188592805704], 174: [0.016149489626719818, 0], 178: [0, 0.02625022453558197], 179: [0, 0.00912723324369373], 180: [0.036268686200789754, 0.026616847783285626], 182: [0, 0.02406270582428347], 183: [0.009130935063208672, 0], 184: [0, 0.005733352290262488], 191: [0, 0.008402849652924387], 193: [0, 0.006096501283695621], 194: [0.01101288351135092, 0], 195: [0, 0.01250502822364338], 196: [0.013610261697990287, 0], 198: [0, 0.018683983345914226], 201: [0, 0.05123027691621642], 205: [0.008725933911211514, 0], 207: [0.005724951349154644, 0], 208: [0, 0.035032468773589176], 212: [0, 0.013125112267790985], 214: [0, 0.019851732305033867], 219: [0, 0.009075077625158337], 223: [0.031062654688714674, 0], 230: [0.014721303469254798, 0], 233: [0.014721303469254798, 0], 235: [0, 0.01142545744174611], 236: [0, 0.049941464918324185], 237: [0.011040977601941098, 0], 243: [0, 0.006084822162462487], 249: [0.01849599666649962, 0], 250: [0.014721303469254798, 0], 251: [0, 0.08877793328959244], 253: [0, 0.023703560961234466], 263: [0.021010015630878207, 0.015418821207793292], 265: [0, 0.011592252440895687], 268: [0.02022459448579865, 0], 269: [0, 0.007285039377994079], 270: [0.01745186782242303, 0], 271: [0, 0.008631187958710375], 273: [0.016775438837057795, 0], 274: [0, 0.008061617179709183], 284: [0.036678501864075515, 0], 289: [0, 0.010587590562684728], 300: [0.01591199713220923, 0], 302: [0.012729597705767386, 0], 305: [0.008104987303297586, 0], 308: [0.02022459448579865, 0.03710604169165208], 311: [0.013358219814694169, 0], 333: [0.016270914360755305, 0], 334: [0.01160338664868877, 0], 335: [0, 0.013345702389938732], 337: [0, 0.010115532384730633], 338: [0, 0.009743181499403123], 343: [0, 0.04179312064217656], 344: [0, 0.10004022578914704], 345: [0, 0.0355553414418517], 349: [0.01433133516543348, 0], 352: [0.0327883577269766, 0.012031352912141736], 355: [0.019495780270094194, 0], 356: [0.0163941788634883, 0], 359: [0, 0.00625251411182169], 366: [0.03182399426441846, 0], 372: [0.03970700201799001, 0.07285039377994079], 378: [0, 0.025893563876131127], 380: [0, 0.02481466538129233], 383: [0.017737964016233242, 0], 384: [0.012295634147616225, 0], 386: [0, 0.009023514684106303], 389: [0, 0.014982439475497256], 391: [0, 0.007186147440736241], 392: [0.005880520679294716, 0.004315593979355188], 394: [0, 0.030154530083595744], 400: [0.030336891728697975, 0], 405: [0, 0.01323448820335591], 414: [0, 0.012964396607369056], 415: [0.0073857734129025784, 0.005420268206152591], 420: [0, 0.06214455330271471], 422: [0.037310889827249234, 0], 424: [0, 0.01430755481443882], 429: [0.00700333854362607, 0], 433: [0.02487392655149949, 0.05476339946216238], 434: [0, 0.006429710868027162], 440: [0.01208956206692992, 0], 442: [0, 0.04924460726830106], 443: [0, 0.019019623765301908], 445: [0, 0.03134484048163241], 446: [0, 0.026917603125469647], 449: [0.019321710803396924, 0], 450: [0, 0.07562564687631948], 451: [0.012655155613920792, 0], 452: [0.048629923819785516, 0], 453: [0.03182399426441846, 0], 454: [0.007310917601285323, 0.005365333055414558], 455: [0, 0.012807569229054105], 456: [0.03576911752033811, 0.013125112267790985], 462: [0, 0.016895091323433076], 466: [0, 0.04371023626796448], 467: [0.037635332347486186, 0], 472: [0, 0.04812541164856694], 474: [0.018185139579667692, 0], 480: [0, 0.02443290129850322], 483: [0, 0.05936966670664333], 484: [0, 0.00923336386280645], 486: [0, 0.012964396607369056], 489: [0, 0.01245598889727615], 495: [0, 0.007251774358003238], 498: [0, 0.019134199812080834], 499: [0.05848734081028258, 0], 503: [0.016029863777633005, 0], 509: [0, 0.009864214809954714], 510: [0, 0.006672851194969366], 517: [0.01015977281680965, 0], 522: [0, 0.11343847031447922], 527: [0, 0.02075998149546025], 531: [0, 0.024558844088701688], 535: [0, 0.009023514684106303], 536: [0.012581579127793346, 0], 538: [0.01898273342088119, 0], 539: [0, 0.026691404779877463], 543: [0, 0.013573834054724012], 546: [0, 0.022057480338926516], 547: [0, 0.006455847904076054], 552: [0.02242519803088555, 0.008228697328511447], 558: [0.009368102207707599, 0], 560: [0, 0.007285039377994079], 562: [0.012804920769115121, 0], 568: [0.016149489626719818, 0.0355553414418517], 573: [0.012157480954946379, 0.01784425375733381], 579: [0.01591199713220923, 0.011677489591196391], 582: [0.016149489626719818, 0], 583: [0.023144723101395245, 0], 584: [0, 0.069049503669683], 592: [0, 0.0069655201070294255], 598: [0.011270997968648205, 0], 601: [0.03329279399969932, 0], 604: [0, 0.02443290129850322], 605: [0, 0.05429533621889605], 606: [0, 0.05476339946216238], 612: [0, 0.04537538812579169], 613: [0, 0.05015174477061187], 621: [0.020807996249812073, 0], 622: [0, 0.009743181499403123], 627: [0, 0.06508764690175037], 628: [0.015568572733672343, 0], 630: [0, 0.028359617578619805], 633: [0.019762845753246168, 0], 635: [0.00716566758271674, 0], 637: [0.03182399426441846, 0.023354979182392783], 640: [0, 0.009864214809954714], 646: [0, 0.033434496513741245], 648: [0.008979384273777823, 0.02635914662909061], 652: [0.00905452556477178, 0], 653: [0.013525197562377848, 0], 657: [0.01766556416310576, 0], 658: [0, 0.013992410435266162], 659: [0, 0.01055241584320737], 661: [0, 0.030738166149729858], 662: [0, 0.005592037269023624], 672: [0, 0.007186147440736241], 673: [0, 0.0445272500299825], 682: [0, 0.018683983345914226], 685: [0, 0.013809900733936602], 686: [0, 0.019851732305033867], 689: [0, 0.03529196854228243], 690: [0, 0.010051510027865248], 692: [0.024452334576050345, 0], 697: [0.005317030982752962, 0], 698: [0.012365894914174032, 0], 699: [0, 0.030250258750527795], 707: [0.010929452575658867, 0], 714: [0.014721303469254798, 0], 718: [0.012958273113655423, 0], 724: [0.009368102207707599, 0], 735: [0.01810905112954356, 0], 736: [0.010065263302234676, 0], 737: [0, 0.034153517944144285], 738: [0, 0.017076758972072142], 739: [0, 0.016123234359418367], 743: [0.010403998124906036, 0], 752: [0, 0.027984820870532324], 753: [0.014924355930899693, 0], 757: [0, 0.003772300675540877], 760: [0.005548798999949886, 0], 768: [0.009926750504497503, 0], 773: [0, 0.0052587370344460566], 777: [0.010065263302234676, 0.014773382180490317], 780: [0.013961494257938422, 0], 781: [0.00905452556477178, 0], 782: [0, 0.0415199629909205], 785: [0.009881422876623084, 0], 786: [0, 0.027147668109448023], 788: [0, 0.005692252990690714], 792: [0, 0.05605195003774267], 799: [0, 0.035032468773589176], 807: [0, 0.04135777563548722], 809: [0, 0.010658648217467847], 811: [0, 0.011592252440895687], 812: [0.006027943203288177, 0], 814: [0, 0.014570078755988158], 820: [0, 0.042922664443316466], 825: [0, 0.04331287048371025], 830: [0.009747890135047097, 0.021461332221658233], 831: [0.033464406339903954, 0.024558844088701688], 832: [0, 0.04179312064217656], 836: [0, 0.010658648217467847], 842: [0, 0.04263459286987139], 868: [0, 0.008358624128435311], 876: [0, 0.05235621706822118], 877: [0, 0.015961191803042302], 879: [0, 0.006179527565769297], 886: [0.013871997499874715, 0], 893: [0, 0.011105864226592372], 895: [0.008868982008116621, 0.006508764690175038], 900: [0, 0.009864214809954714], 902: [0, 0.015724144400026823], 906: [0, 0.011592252440895687], 908: [0, 0.014982439475497256], 912: [0.016270914360755305, 0.047763566448201775], 913: [0.05071949085891693, 0], 916: [0.011040977601941098, 0], 917: [0.01664639699984966, 0], 925: [0, 0.008228697328511447], 926: [0.033038650534052756, 0.012123195300784038], 928: [0, 0.06672851194969366], 930: [0, 0.07329870389550966], 935: [0.025459195411534772, 0], 938: [0.01915072221221642, 0], 939: [0, 0.013125112267790985], 944: [0, 0.01726237591742075], 949: [0, 0.04020604011146099], 950: [0.01433133516543348, 0.04206989627556845], 955: [0.05437265351709687, 0.007980595901521151], 957: [0, 0.07444399614387699], 959: [0.013525197562377848, 0], 960: [0, 0.011985951580397804], 966: [0, 0.020231064769461266], 967: [0, 0.018757542335465067], 969: [0.023607617563423153, 0], 970: [0.014621835202570646, 0], 973: [0, 0.00630213723969329], 975: [0, 0.005438830768502429], 976: [0, 0.09925866152516932], 977: [0, 0.017945068750313098], 982: [0, 0.008102747879605658], 984: [0.03970700201799001, 0], 987: [0, 0.02089656032108828], 1000: [0, 0.0056719235157239615], 1002: [0, 0.010517474068892113], 1005: [0.01369640259481301, 0.07036057019505673], 1027: [0, 0.03241099151842263], 1031: [0.023021612872132505, 0.03379018264686615], 1040: [0, 0.009743181499403123], 1043: [0.011097597999899771, 0.01628860086566881], 1044: [0.010354218229571556, 0.007598749207668465], 1060: [0.00883278208155288, 0.006482198303684528], 1061: [0.011097597999899771, 0.07329870389550966], 1062: [0.011040977601941098, 0], 1063: [0, 0.07623065205133005], 1065: [0, 0.013690849865540596], 1071: [0.012436963275749745, 0.04563616621846865], 1072: [0, 0.006227994448638075], 1074: [0.02060982485695672, 0], 1076: [0.017312252879843646, 0], 1078: [0, 0.008538379486036071], 1079: [0.009791998235205683, 0], 1081: [0.015681388478119243, 0], 1085: [0, 0.015418821207793292], 1087: [0, 0.019134199812080834], 1090: [0, 0.0064037846145270525], 1097: [0.008942279380084527, 0], 1099: [0, 0.0072188117472850415], 1100: [0.033038650534052756, 0], 1103: [0.011825309344155495, 0.017356705840466766], 1104: [0.011040977601941098, 0.008102747879605658], 1105: [0, 0.010115532384730633], 1106: [0.021785553120608613, 0], 1108: [0, 0.012311151817075264], 1110: [0, 0.05476339946216238], 1112: [0, 0.06227994448638075], 1115: [0, 0.016457394657022895], 1117: [0, 0.04037640468820447], 1118: [0, 0.022211728453184743], 1125: [0, 0.026691404779877463], 1126: [0, 0.06482198303684526], 1128: [0, 0.05189995373865063], 1132: [0.013441190124102208, 0], 1134: [0, 0.004093140681450281], 1138: [0, 0.044423456906369486], 1139: [0, 0.041429702201809804], 1143: [0, 0.010877661537004858], 1156: [0.011825309344155495, 0.052070117521400304], 1160: [0.014523702080405742, 0.021317296434935695], 1167: [0, 0.0465388596161966], 1170: [0, 0.0715377740721941], 1171: [0, 0.011677489591196391], 1175: [0, 0.027862080428117702], 1176: [0, 0.009509811882650954], 1178: [0, 0.011940891612050444], 1192: [0, 0.04098422153297314], 1193: [0, 0.021461332221658233], 1195: [0, 0.011508250611613835], 1196: [0, 0.038735087424456326], 1198: [0, 0.012705108675221673], 1201: [0.01591199713220923, 0], 1202: [0, 0.021755323074009715], 1205: [0, 0.008774246322666901], 1209: [0.00934786872561752, 0], 1210: [0, 0.037221998071938496], 1222: [0.01545736864271754, 0], 1225: [0.025459195411534772, 0], 1226: [0.017593752926670373, 0], 1227: [0.010984932030357641, 0], 1235: [0.01849599666649962, 0.013573834054724012], 1238: [0.019495780270094194, 0], 1243: [0, 0.005293795281342364], 1247: [0.01369640259481301, 0], 1248: [0.03005599458306188, 0], 1251: [0, 0.02406270582428347], 1253: [0, 0.012807569229054105], 1255: [0.03462450575968729, 0.038115326025665024], 1260: [0, 0.006644931315492506], 1263: [0.012581579127793346, 0], 1265: [0, 0.07666875924702733], 1273: [0, 0.02635914662909061], 1275: [0.012581579127793346, 0.06463354703964515], 1279: [0.014426877399869704, 0], 1280: [0, 0.010587590562684728], 1281: [0.014924355930899693, 0], 1286: [0.007048962898959139, 0.005173089851474623], 1291: [0.02978025151349251, 0], 1307: [0.024314961909892758, 0], 1308: [0, 0.015569986121595188], 1314: [0.010713027772180472, 0.031448288800053646], 1318: [0.009617918266579803, 0.03529196854228243], 1322: [0, 0.009925866152516933], 1325: [0, 0.04643680071352951], 1333: [0.010607998088139487, 0], 1337: [0, 0.005970445806025222], 1339: [0, 0.05365333055414558], 1342: [0, 0.014570078755988158], 1344: [0.011154802113301316, 0], 1346: [0.01208956206692992, 0.008872282594428543], 1353: [0, 0.02301650122322767], 1359: [0.010929452575658867, 0.04010450970713912], 1361: [0.012295634147616225, 0], 1367: [0, 0.012911695808152109], 1370: [0.007436534742200878, 0], 1371: [0.008690889999921507, 0], 1375: [0, 0.06562556133895493], 1376: [0.01690649695297231, 0], 1381: [0, 0.011263394215622051], 1384: [0, 0.0184667277256129], 1385: [0.012729597705767386, 0], 1391: [0.007619829612607238, 0], 1393: [0.014237050065660891, 0.01044828016054414], 1401: [0, 0.041429702201809804], 1403: [0, 0.069049503669683], 1406: [0, 0.016717248256870623], 1410: [0, 0.010803663839474212], 1411: [0, 0.042922664443316466], 1414: [0, 0.010803663839474212], 1415: [0, 0.06672851194969366], 1419: [0, 0.020360751082086015], 1420: [0, 0.014570078755988158], 1426: [0, 0.09421161093914376], 1427: [0.02924367040514129, 0], 1429: [0, 0.05881994757047071], 1431: [0.017174854047463932, 0.00630213723969329], 1436: [0.06459795850687927, 0.08296246336432063], 1437: [0, 0.023184504881791374], 1443: [0, 0.04603300244645534], 1446: [0, 0.010803663839474212], 1448: [0.013036334999882262, 0], 1450: [0, 0.013017529380350076], 1451: [0.015568572733672343, 0], 1452: [0, 0.008492719702688284], 1453: [0, 0.035032468773589176], 1458: [0.02326915709656404, 0], 1464: [0.0060787404774731895, 0], 1467: [0, 0.031448288800053646], 1468: [0, 0.028359617578619805], 1472: [0, 0.11520176259916023], 1480: [0.015133088181681508, 0], 1483: [0.011040977601941098, 0], 1485: [0, 0.026804026740973992], 1487: [0.018817666173743093, 0], 1490: [0, 0.01221645064925161], 1494: [0.01076632641781321, 0], 1495: [0.0203195456336193, 0], 1496: [0.014721303469254798, 0], 1500: [0, 0.013345702389938732], 1501: [0, 0.06352554337610837], 1503: [0.03606719349967426, 0.05293795281342364], 1506: [0, 0.022160073270735478], 1511: [0, 0.03781282343815974], 1513: [0.02365061868831099, 0], 1514: [0.044619208453205265, 0.049117688177403376], 1518: [0.0163941788634883, 0], 1523: [0.030695483829510005, 0], 1525: [0, 0.04636900976358275], 1527: [0, 0.027862080428117702], 1534: [0.01433133516543348, 0], 1538: [0, 0.008102747879605658], 1540: [0, 0.019250164659426777], 1551: [0, 0.034650296386968205], 1553: [0.008228257072169032, 0], 1554: [0, 0.029964878950994513], 1556: [0, 0.03781282343815974], 1563: [0.007462177965449846, 0], 1567: [0, 0.009743181499403123], 1570: [0.013115343090790639, 0.04812541164856694], 1576: [0.0315917023354811, 0], 1578: [0.05111885692867218, 0.037515084670930135], 1591: [0.02254199593729641, 0.033086220508389774], 1595: [0, 0.017645984271141214], 1596: [0.012881140535597949, 0.009453205859539935], 1597: [0, 0.027740411954632473], 1606: [0, 0.010605266006028109], 1611: [0, 0.014054323755776187], 1627: [0, 0.023527979028188286], 1638: [0.012881140535597949, 0], 1650: [0, 0.033086220508389774], 1657: [0, 0.04206989627556845], 1665: [0, 0.07562564687631948], 1668: [0.023956069483178473, 0], 1671: [0, 0.029546764360980634], 1674: [0.013358219814694169, 0], 1676: [0.008979384273777823, 0], 1677: [0, 0.04812541164856694], 1679: [0.015347741914755002, 0], 1682: [0.03567085071396355, 0.008726036178036864], 1683: [0, 0.011263394215622051], 1687: [0, 0.07940692922013547], 1693: [0.021640316099804557, 0], 1699: [0.0370976847425221, 0.04537538812579169], 1703: [0.010112297242899325, 0], 1711: [0.00883278208155288, 0], 1712: [0, 0.0369334554512258], 1715: [0, 0.006455847904076054], 1716: [0, 0.056316971078110255], 1717: [0, 0.05730396954030394], 1724: [0, 0.04603300244645534], 1732: [0, 0.07747017484891265], 1733: [0, 0.025410217350443347], 1743: [0, 0.04698634865096772], 1745: [0, 0.02501005644728676], 1748: [0, 0.11343847031447922], 1749: [0, 0.04072150216417203], 1752: [0, 0.015828623764811055], 1753: [0, 0.034153517944144285], 1754: [0, 0.0073866910902451585], 1755: [0.009836507318092979, 0], 1758: [0, 0.046709958364785566], 1760: [0.021215996176278975, 0], 1769: [0, 0.011763989514094143], 1778: [0, 0.037221998071938496], 1779: [0.02501770647376249, 0], 1783: [0.04083078509397086, 0], 1784: [0, 0.04494731842649177], 1785: [0, 0.05540018317683869], 1802: [0, 0.03826839962416167], 1803: [0.006130401161417721, 0], 1804: [0.04416391040776439, 0], 1812: [0, 0.023881783224100887], 1814: [0.019853501008995005, 0], 1817: [0, 0.04216297126732856], 1823: [0.021640316099804557, 0], 1825: [0, 0.009988292983664838], 1826: [0.02924367040514129, 0], 1827: [0.02174906140683875, 0.05586417131064806], 1834: [0.021215996176278975, 0.015569986121595188], 1836: [0.01028043520180739, 0], 1838: [0, 0.08726036178036864], 1844: [0.016775438837057795, 0], 1848: [0, 0.04537538812579169], 1852: [0, 0.015569986121595188], 1857: [0, 0.04072150216417203], 1860: [0, 0.009075077625158337], 1861: [0, 0.010877661537004858], 1866: [0, 0.04570182976698444], 1877: [0.010929452575658867, 0.04812541164856694], 1886: [0, 0.0064037846145270525], 1893: [0.009327722456812309, 0], 1895: [0.0038032189982081816, 0], 1899: [0.014924355930899693, 0], 1904: [0, 0.008678352920233383], 1908: [0.01591199713220923, 0], 1909: [0, 0.019728429619909428], 1915: [0, 0.009397269730193544], 1919: [0, 0.011184074538047248], 1920: [0.008656126439921823, 0], 1925: [0.01898273342088119, 0], 1927: [0.027050395124755697, 0], 1928: [0, 0.03529196854228243], 1930: [0, 0.041574308492217514], 1935: [0.03407923795244812, 0], 1938: [0, 0.008020901941427825], 1941: [0.010660254236356925, 0], 1943: [0.01849599666649962, 0], 1947: [0.010207696273492715, 0], 1954: [0.013441190124102208, 0.069049503669683], 1968: [0.00832319849992483, 0], 1973: [0.010607998088139487, 0], 1976: [0.013871997499874715, 0], 1977: [0.019583996470411365, 0], 1982: [0, 0.07329870389550966], 1983: [0, 0.0249119777945523], 1989: [0.006891820413950495, 0], 1994: [0.031362776956238486, 0], 1995: [0, 0.011105864226592372], 1997: [0.022779280105057427, 0], 1998: [0, 0.04537538812579169], 2000: [0, 0.014842416676660832], 2007: [0, 0.011184074538047248], 2017: [0, 0.041429702201809804], 2018: [0.026072669999764524, 0], 2020: [0, 0.04574884811036611], 2031: [0, 0.030837642415586584], 2034: [0.027922988515876844, 0], 2039: [0.011572361550697623, 0], 2042: [0.03151502344631731, 0], 2043: [0, 0.069049503669683], 2051: [0, 0.0069655201070294255], 2057: [0, 0.03664935194775483], 2061: [0, 0.021034948137784226], 2063: [0.009327722456812309, 0.04791797452939209], 2065: [0, 0.04636900976358275], 2067: [0, 0.01250502822364338], 2073: [0.016149489626719818, 0.05925890240308616], 2074: [0, 0.051787127752262255], 2078: [0.01545736864271754, 0], 2082: [0, 0.07027161877888094], 2088: [0, 0.015881385844027093], 2089: [0.017381779999843014, 0], 2090: [0.014822134314934626, 0], 2091: [0, 0.008144300432834406], 2096: [0.018899839388475594, 0], 2117: [0, 0.055724160856235404], 2118: [0.007897925583870275, 0], 2119: [0.00819708943174415, 0], 2120: [0, 0.08358624128435312], 2122: [0, 0.01890641171907987], 2123: [0, 0.035890137500626196], 2126: [0, 0.009075077625158337], 2129: [0, 0.009683771856114081], 2132: [0.013961494257938422, 0.010246055383243285], 2141: [0, 0.004423784357667713], 2144: [0, 0.06672851194969366], 2145: [0, 0.010312588210407203], 2151: [0, 0.015418821207793292], 2152: [0, 0.046709958364785566], 2153: [0, 0.042922664443316466], 2157: [0.005740136896499882, 0], 2158: [0, 0.015270563311564511], 2159: [0, 0.038115326025665024], 2169: [0, 0.06617244101677955], 2171: [0, 0.021755323074009715], 2173: [0.012157480954946379, 0], 2181: [0, 0.008972534375156549], 2185: [0, 0.009567099906040417], 2192: [0, 0.027862080428117702], 2199: [0, 0.015125129375263897], 2201: [0, 0.013345702389938732], 2204: [0.016029863777633005, 0], 2207: [0.012881140535597949, 0.03781282343815974], 2209: [0.018185139579667692, 0.013345702389938732], 2213: [0.013961494257938422, 0.05123027691621642], 2216: [0, 0.008972534375156549], 2223: [0, 0.011851780480617233], 2224: [0, 0.06686899302748249], 2226: [0, 0.03151068619846645], 2233: [0.009747890135047097, 0], 2235: [0.018185139579667692, 0], 2246: [0.009791998235205683, 0.007186147440736241], 2256: [0.0203195456336193, 0.022368149076094496], 2257: [0, 0.015569986121595188], 2258: [0, 0.04179312064217656], 2261: [0.029644268629869252, 0], 2264: [0, 0.010312588210407203], 2271: [0.019673014636185957, 0], 2273: [0, 0.011851780480617233], 2276: [0.009491366710440595, 0.027862080428117702], 2278: [0.025762281071195898, 0], 2282: [0.01664639699984966, 0], 2287: [0, 0.008186281362900562], 2290: [0.012226167288025173, 0], 2292: [0.01745186782242303, 0], 2295: [0.013871997499874715, 0], 2297: [0, 0.05293795281342364], 2298: [0.011270997968648205, 0], 2302: [0, 0.0047266029297699675], 2307: [0.014721303469254798, 0], 2310: [0, 0.033970878810753134], 2312: [0.02988993936437093, 0], 2313: [0.009130935063208672, 0.04020604011146099], 2316: [0.022081955203882196, 0], 2320: [0, 0.023241052454673793], 2322: [0, 0.007421208338330416], 2323: [0, 0.01260427447938658], 2328: [0.015347741914755002, 0.011263394215622051], 2329: [0, 0.005903860908560257], 2331: [0, 0.016543110254194887], 2332: [0, 0.04235036225073891], 2336: [0, 0.012807569229054105], 2340: [0, 0.010115532384730633], 2342: [0.017737964016233242, 0.013017529380350076], 2347: [0.005832969299138694, 0], 2349: [0.015709848348315465, 0], 2356: [0.0055346076981597336, 0.01218520652994406], 2368: [0.010929452575658867, 0], 2372: [0, 0.08092425907784506], 2373: [0.014924355930899693, 0], 2376: [0.019583996470411365, 0.07904762184809865], 2377: [0.009092569789833846, 0], 2379: [0.019583996470411365, 0], 2384: [0.012729597705767386, 0.009341991672957113], 2395: [0.014671400745630206, 0], 2397: [0, 0.017744565188857087], 2399: [0, 0.028875246989140166], 2400: [0.007095185606493297, 0], 2402: [0, 0.04201424826462193], 2404: [0.011270997968648205, 0], 2405: [0, 0.009260283290977896], 2407: [0, 0.011105864226592372], 2409: [0, 0.032018923072635264], 2410: [0.02885375479973941, 0], 2412: [0.013961494257938422, 0.010246055383243285], 2414: [0.010403998124906036, 0.045811689934693534], 2420: [0, 0.0058819947570470715], 2422: [0, 0.04886580259700644], 2429: [0, 0.03970346461006773], 2431: [0.009368102207707599, 0.006875058806938135], 2437: [0.011572361550697623, 0], 2444: [0.011510806436066253, 0.008447545661716538], 2445: [0.01030491242847836, 0], 2449: [0, 0.007352493446308839], 2453: [0, 0.006508764690175038], 2456: [0.026716439629388338, 0], 2457: [0, 0.053835206250939294], 2461: [0.015239659225214476, 0.14539296899461424], 2462: [0, 0.061082253246258045], 2470: [0.014426877399869704, 0.021175181125369456], 2473: [0.01369640259481301, 0], 2475: [0, 0.06855274465047666], 2477: [0.016270914360755305, 0], 2486: [0, 0.0184667277256129], 2489: [0, 0.009743181499403123], 2497: [0, 0.012123195300784038], 2509: [0.02885375479973941, 0], 2510: [0, 0.005754125305806918], 2518: [0.007869205854474384, 0.0057750493978280335], 2523: [0, 0.05123027691621642], 2526: [0, 0.0072188117472850415], 2527: [0, 0.005970445806025222], 2529: [0, 0.011940891612050444], 2531: [0, 0.05851036889904718], 2536: [0.014426877399869704, 0], 2537: [0, 0.010517474068892113], 2538: [0, 0.08989463685298354], 2543: [0, 0.027619801467873205], 2544: [0.011825309344155495, 0], 2545: [0.00829130885049983, 0], 2552: [0.005896543896404511, 0], 2553: [0, 0.014842416676660832], 2560: [0.037055335787336566, 0], 2562: [0, 0.006875058806938135], 2564: [0, 0.03331759267977712], 2566: [0, 0.061082253246258045], 2567: [0.012022397833224754, 0], 2573: [0, 0.0092873601427059], 2575: [0, 0.02089656032108828], 2580: [0, 0.019687668401686478], 2582: [0.015133088181681508, 0.05552932113296186], 2587: [0.008868982008116621, 0], 2590: [0.011449902698309289, 0], 2592: [0.008725933911211514, 0], 2594: [0, 0.04179312064217656], 2597: [0.007646754805584648, 0.005611797118030774], 2601: [0, 0.05936966670664333], 2607: [0, 0.02703214611749292], 2608: [0, 0.02520854895877316], 2613: [0, 0.016372562725801124], 2614: [0.03462450575968729, 0], 2616: [0, 0.05053168223099529], 2622: [0.01664639699984966, 0], 2625: [0, 0.01784425375733381], 2633: [0.015293509611169296, 0], 2637: [0, 0.010658648217467847], 2638: [0.026716439629388338, 0.00980332459507845], 2649: [0.022309604226602633, 0], 2651: [0, 0.014982439475497256], 2661: [0.011154802113301316, 0], 2662: [0, 0.010517474068892113], 2666: [0, 0.011028740169463258], 2668: [0, 0.017548492645333803], 2673: [0, 0.009625082329713389], 2675: [0.010660254236356925, 0], 2676: [0, 0.008922126878666906], 2681: [0.041615992499624145, 0], 2683: [0, 0.09552713289640355], 2686: [0, 0.015418821207793292], 2688: [0, 0.026691404779877463], 2695: [0, 0.0070271618778880935], 2699: [0.00928768931322084, 0.006816045426621069], 2717: [0.011890283571321185, 0], 2718: [0.01803359674983713, 0], 2724: [0, 0.03257720173133762], 2726: [0, 0.029409973785235355], 2727: [0.012436963275749745, 0], 2737: [0, 0.013345702389938732], 2746: [0.020037329722041253, 0], 2747: [0, 0.024184851539127552], 2748: [0, 0.030250258750527795], 2750: [0, 0.02625022453558197], 2752: [0, 0.049321074049773574], 2753: [0, 0.01245598889727615], 2761: [0.01745186782242303, 0], 2770: [0, 0.006589786657272652], 2774: [0.04704416543435773, 0.069049503669683], 2775: [0.00883278208155288, 0.006482198303684528], 2776: [0, 0.04783549953020208], 2778: [0.01369640259481301, 0], 2781: [0, 0.015270563311564511], 2784: [0, 0.07329870389550966], 2790: [0.01378364082790099, 0], 2794: [0.01591199713220923, 0], 2796: [0, 0.013125112267790985], 2800: [0, 0.06268968096326483], 2808: [0.0421564599346842, 0], 2811: [0.02693815282133347, 0], 2818: [0, 0.054018319197371066], 2822: [0.021640316099804557, 0], 2824: [0, 0.0091799918173567], 2825: [0, 0.00630213723969329], 2828: [0.012436963275749745, 0.06389063270585611], 2829: [0.007189473787310483, 0], 2832: [0, 0.03836083537204611], 2833: [0, 0.012705108675221673], 2834: [0, 0.08439383781850145], 2836: [0, 0.012756133208053888], 2837: [0.013195314695002777, 0], 2841: [0, 0.069049503669683], 2844: [0, 0.008822992135570607], 2847: [0, 0.039334701780872054], 2851: [0, 0.03241099151842263], 2853: [0, 0.012031352912141736], 2854: [0, 0.05913281963201576], 2858: [0.015133088181681508, 0], 2866: [0, 0.08753519756550365], 2882: [0, 0.02049211076648657], 2884: [0, 0.07747017484891265], 2891: [0, 0.06806308218868753], 2893: [0, 0.0058819947570470715], 2895: [0.010354218229571556, 0.05319124445367926], 2900: [0.005945141785660592, 0], 2901: [0.009747890135047097, 0], 2903: [0, 0.030154530083595744], 2905: [0.015239659225214476, 0], 2906: [0, 0.0345247518348415], 2907: [0.011330008429217045, 0], 2910: [0, 0.05476339946216238], 2911: [0, 0.007421208338330416], 2912: [0, 0.016543110254194887], 2914: [0, 0.011028740169463258], 2915: [0, 0.035096985290667605], 2916: [0, 0.004327353091015556], 2918: [0.009327722456812309, 0], 2923: [0.036678501864075515, 0], 2931: [0, 0.069049503669683], 2937: [0, 0.010952679892432477], 2940: [0, 0.011105864226592372], 2941: [0, 0.02520854895877316], 2942: [0, 0.011940891612050444], 2946: [0.011449902698309289, 0], 2947: [0, 0.013458801562734823], 2952: [0.005755403218033126, 0], 2954: [0, 0.006786917027362006], 2959: [0.02750887639805664, 0], 2960: [0, 0.020536274798310893], 2964: [0, 0.04411496067785303], 2967: [0, 0.016205495759211316], 2968: [0.04328063219960911, 0], 2969: [0, 0.0445272500299825], 2971: [0.014523702080405742, 0], 2973: [0.01664639699984966, 0.08551515454476127], 2976: [0, 0.10106336446199057], 2989: [0, 0.03897272599761249], 2993: [0.015347741914755002, 0.030035717908325467], 2995: [0, 0.009925866152516933], 2996: [0.009926750504497503, 0], 3013: [0, 0.08358624128435312], 3016: [0.016149489626719818, 0], 3020: [0, 0.017744565188857087], 3021: [0, 0.013125112267790985], 3024: [0.01369640259481301, 0.010051510027865248], 3027: [0, 0.012031352912141736], 3030: [0, 0.008774246322666901], 3042: [0.023911951491496743, 0], 3046: [0, 0.022057480338926516], 3048: [0, 0.01323448820335591], 3049: [0.01378364082790099, 0], 3056: [0, 0.012807569229054105], 3068: [0.01414399745085265, 0], 3075: [0.009327722456812309, 0], 3077: [0, 0.010587590562684728], 3079: [0, 0.030541126623129022], 3082: [0.016775438837057795, 0.012311151817075264], 3092: [0, 0.030541126623129022], 3093: [0, 0.023354979182392783], 3095: [0, 0.05810263113668448], 3097: [0.01849599666649962, 0], 3102: [0, 0.05820403188910452], 3103: [0, 0.03263298461101457], 3110: [0, 0.035822674836151334], 3112: [0, 0.007251774358003238], 3114: [0, 0.07784993060797595], 3121: [0.01690649695297231, 0.02481466538129233], 3122: [0, 0.050685273970299226], 3125: [0.00883278208155288, 0], 3131: [0.012365894914174032, 0], 3135: [0, 0.05476339946216238], 3136: [0, 0.07218811747285042], 3137: [0.006537859848883551, 0], 3138: [0.02834975908271339, 0], 3140: [0.01690649695297231, 0], 3147: [0, 0.007784993060797594], 3153: [0, 0.08358624128435312], 3158: [0.012804920769115121, 0], 3160: [0.011890283571321185, 0.01745207235607373], 3161: [0, 0.028108647511552374], 3162: [0, 0.01323448820335591], 3164: [0, 0.00464368007135295], 3170: [0, 0.020360751082086015], 3175: [0, 0.005420268206152591], 3179: [0.01915072221221642, 0], 3188: [0, 0.011508250611613835], 3189: [0, 0.02501005644728676], 3190: [0, 0.009925866152516933], 3191: [0, 0.013690849865540596], 3195: [0, 0.03433813155465317], 3198: [0.00924799833324981, 0], 3199: [0, 0.011763989514094143], 3206: [0, 0.007352493446308839], 3207: [0.017312252879843646, 0], 3210: [0.009491366710440595, 0], 3211: [0, 0.005925890240308616], 3220: [0, 0.011184074538047248], 3223: [0, 0.049321074049773574], 3224: [0.009533178898592317, 0.013992410435266162], 3225: [0, 0.004269189743018036], 3228: [0.01898273342088119, 0], 3229: [0, 0.009567099906040417], 3231: [0.01163457854828202, 0.017076758972072142], 3233: [0, 0.007456049692031498], 3240: [0.01573841170894877, 0.05197544458045231], 3246: [0.020099364798580082, 0], 3248: [0.022699632272522263, 0.011105864226592372], 3255: [0.010820158049902278, 0.015881385844027093], 3257: [0, 0.03219199833248735], 3263: [0, 0.0092873601427059], 3281: [0, 0.00923336386280645], 3284: [0, 0.01784425375733381], 3286: [0, 0.06526596922202914], 3289: [0.009092569789833846, 0.006672851194969366], 3290: [0.01378364082790099, 0], 3292: [0.00905452556477178, 0], 3293: [0, 0.0183599836347134], 3295: [0, 0.00630213723969329], 3296: [0.01369640259481301, 0], 3297: [0, 0.038735087424456326], 3298: [0.021215996176278975, 0], 3301: [0, 0.022580169446484017], 3302: [0, 0.05476339946216238], 3303: [0.0327883577269766, 0], 3304: [0.01591199713220923, 0.011677489591196391], 3310: [0, 0.010115532384730633], 3314: [0, 0.02285091488349222], 3315: [0.04243199235255795, 0.031139972243190376], 3316: [0, 0.022933409161049953], 3324: [0, 0.007456049692031498], 3332: [0, 0.008872282594428543], 3338: [0, 0.012807569229054105], 3349: [0, 0.014503548716006476], 3356: [0.024044795666449507, 0], 3358: [0.024731789828348064, 0], 3362: [0.009491366710440595, 0], 3365: [0.016149489626719818, 0], 3372: [0, 0.009925866152516933], 3373: [0.02041539254698543, 0], 3377: [0, 0.04962933076258466], 3384: [0, 0.009683771856114081], 3387: [0, 0.05365333055414558], 3391: [0, 0.00923336386280645], 3393: [0.009208645148853003, 0], 3400: [0.023144723101395245, 0], 3422: [0, 0.008228697328511447], 3427: [0, 0.007672167074409222], 3432: [0, 0.04371023626796448], 3433: [0, 0.08822992135570606], 3435: [0.02326915709656404, 0], 3436: [0, 0.039052588141050226], 3439: [0.01803359674983713, 0], 3440: [0.015681388478119243, 0], 3441: [0, 0.013690849865540596], 3442: [0, 0.007709410603896646], 3448: [0, 0.038735087424456326], 3453: [0.012295634147616225, 0], 3455: [0, 0.03134484048163241], 3465: [0, 0.05235621706822118], 3469: [0, 0.01323448820335591], 3473: [0.02132050847271385, 0.04694005668185347], 3485: [0.010713027772180472, 0], 3486: [0, 0.031762771688054185], 3491: [0, 0.007318610988030918], 3496: [0, 0.0056719235157239615], 3500: [0, 0.02501005644728676], 3501: [0, 0.016372562725801124], 3502: [0.007955998566104615, 0], 3505: [0, 0.011763989514094143], 3508: [0, 0.05925890240308616], 3509: [0.01030491242847836, 0], 3515: [0.019495780270094194, 0], 3516: [0.007048962898959139, 0.015519269554423867], 3517: [0.009016798374918564, 0], 3520: [0.01766556416310576, 0], 3521: [0, 0.009075077625158337], 3523: [0.019437409670483134, 0.004754905941325477], 3524: [0, 0.029964878950994513], 3525: [0.006182947457087016, 0], 3526: [0, 0.021461332221658233], 3530: [0, 0.021607327678948424], 3535: [0.006597657347501389, 0], 3539: [0.006518167499941131, 0.014350649859060625], 3542: [0.011955975745748372, 0], 3543: [0.039828802637677095, 0.058459088996418745], 3545: [0, 0.10433027196806119], 3547: [0.018185139579667692, 0.09341991672957113], 3551: [0, 0.09075077625158338], 3552: [0.01545736864271754, 0], 3553: [0, 0.06535549730052301], 3565: [0.02041539254698543, 0], 3569: [0, 0.039375336803372955], 3571: [0, 0.009509811882650954], 3574: [0.0073857734129025784, 0], 3575: [0.01745186782242303, 0], 3582: [0, 0.05790088588968211], 3585: [0, 0.01726237591742075], 3586: [0.009491366710440595, 0.0069655201070294255], 3588: [0.01781095975292556, 0], 3589: [0.03567085071396355, 0], 3597: [0.023522082717178865, 0.025893563876131127], 3600: [0.01433133516543348, 0.0841397925511369], 3601: [0, 0.008538379486036071], 3604: [0, 0.024308243638816975], 3624: [0.027050395124755697, 0.029777598457550795], 3625: [0.019066357797184633, 0], 3629: [0, 0.06227994448638075], 3630: [0, 0.04962933076258466], 3634: [0.014426877399869704, 0.021175181125369456], 3635: [0.009791998235205683, 0], 3636: [0.045399264545044525, 0], 3637: [0, 0.008631187958710375], 3640: [0, 0.009397269730193544], 3643: [0, 0.012123195300784038], 3647: [0, 0.049941464918324185], 3651: [0.01745186782242303, 0.06403784614527053], 3652: [0, 0.025823391616304217], 3654: [0.011212599015442776, 0], 3655: [0.01545736864271754, 0], 3662: [0.025163158255586692, 0], 3664: [0, 0.011896169171555874], 3668: [0.026390629390005554, 0.009683771856114081], 3670: [0, 0.04020604011146099], 3674: [0.015239659225214476, 0], 3677: [0, 0.06015676456070868], 3679: [0.036370279159335384, 0], 3686: [0, 0.0643839966649747], 3687: [0.06492094829941367, 0.06352554337610837], 3689: [0, 0.019851732305033867], 3693: [0.020512147961900054, 0], 3694: [0, 0.03736796669182845], 3696: [0.008453248476486154, 0], 3700: [0, 0.030250258750527795], 3702: [0.01378364082790099, 0], 3705: [0.01597071298878565, 0.0058602899793457905], 3706: [0, 0.010952679892432477], 3708: [0, 0.023703560961234466], 3712: [0, 0.04315593979355188], 3717: [0, 0.013017529380350076], 3721: [0, 0.03950593493539078], 3725: [0, 0.020231064769461266], 3730: [0.009747890135047097, 0.00715377740721941], 3735: [0, 0.004363018089018432], 3737: [0, 0.024558844088701688], 3738: [0, 0.016123234359418367], 3742: [0, 0.007635281655782256], 3743: [0, 0.019367543712228163], 3745: [0, 0.0320836077657113], 3747: [0, 0.012123195300784038], 3754: [0.022309604226602633, 0.08186281362900562], 3762: [0, 0.010246055383243285], 3765: [0.018339250932037757, 0], 3766: [0, 0.016543110254194887], 3771: [0, 0.005948084585777937], 3772: [0, 0.021755323074009715], 3775: [0, 0.050820434700886694], 3783: [0, 0.00980332459507845], 3785: [0, 0.05605195003774267], 3786: [0.016270914360755305, 0], 3787: [0.012508853236881246, 0], 3794: [0, 0.010877661537004858], 3796: [0, 0.006352554337610837], 3799: [0, 0.052070117521400304], 3801: [0.021215996176278975, 0], 3802: [0, 0.008631187958710375], 3805: [0, 0.006904950366968301], 3806: [0, 0.06030906016719149], 3811: [0.023021612872132505, 0], 3812: [0.013115343090790639, 0], 3816: [0.01076632641781321, 0], 3817: [0.014621835202570646, 0], 3818: [0, 0.07058393708456485], 3822: [0, 0.03736796669182845], 3824: [0.014426877399869704, 0.031762771688054185], 3825: [0, 0.011184074538047248], 3826: [0.007985356494392824, 0.0058602899793457905], 3827: [0.01745186782242303, 0], 3829: [0.017174854047463932, 0.05041709791754632], 3830: [0, 0.01890641171907987], 3833: [0, 0.03970346461006773], 3835: [0.026716439629388338, 0], 3837: [0.014721303469254798, 0], 3839: [0.025864919641200662, 0.006327245356186092], 3844: [0.02739280518962602, 0.11391711364913948], 3845: [0, 0.012911695808152109], 3848: [0, 0.006015676456070868], 3852: [0.051524562142391796, 0], 3853: [0, 0.029409973785235355], 3854: [0.013276267545892366, 0], 3856: [0.022899805396618577, 0], 3860: [0, 0.019976585967329676], 3862: [0.012157480954946379, 0.05353276127200143], 3869: [0, 0.031139972243190376], 3873: [0, 0.008631187958710375], 3877: [0, 0.008447545661716538], 3880: [0, 0.0184667277256129], 3881: [0.04974785310299898, 0], 3883: [0, 0.03529196854228243], 3884: [0, 0.027619801467873205], 3889: [0.010256073980950027, 0.045160338892968034], 3892: [0, 0.015724144400026823], 3894: [0, 0.06245488815066834], 3895: [0, 0.07273917180470424], 3898: [0, 0.005057766192365316], 3901: [0.02254199593729641, 0.033086220508389774], 3903: [0, 0.03257720173133762], 3906: [0, 0.07940692922013547], 3907: [0, 0.038500329318853554], 3908: [0, 0.03219199833248735], 3912: [0, 0.004916837722609007], 3913: [0.011510806436066253, 0], 3918: [0.019495780270094194, 0.02861510962887764], 3919: [0, 0.015270563311564511], 3922: [0.013115343090790639, 0], 3934: [0.019321710803396924, 0], 3936: [0, 0.04556135283122526], 3937: [0, 0.038735087424456326], 3938: [0, 0.02561513845810821], 3941: [0.026390629390005554, 0], 3942: [0.01579585116774055, 0], 3944: [0, 0.046709958364785566], 3945: [0.012022397833224754, 0], 3946: [0.015681388478119243, 0], 3948: [0, 0.010246055383243285], 3949: [0.012655155613920792, 0], 3950: [0, 0.020103020055730496], 3953: [0, 0.004901662297539225], 3954: [0, 0.015881385844027093], 3956: [0.010256073980950027, 0], 3959: [0.010354218229571556, 0], 3964: [0, 0.007635281655782256], 3965: [0, 0.007251774358003238], 3969: [0, 0.01221645064925161], 3983: [0.01015977281680965, 0], 3985: [0, 0.031762771688054185], 3987: [0.007701180106692012, 0], 3988: [0.009368102207707599, 0], 3993: [0.008761261578868241, 0], 3999: [0.026716439629388338, 0.0196066491901569], 4001: [0.011697468162056517, 0], 4007: [0, 0.056316971078110255], 4009: [0, 0.039052588141050226], 4010: [0, 0.01221645064925161], 4017: [0.01664639699984966, 0], 4020: [0.013036334999882262, 0], 4023: [0, 0.028980631102239217], 4029: [0.009972495898527445, 0], 4030: [0, 0.0369334554512258], 4032: [0, 0.05828031502395263], 4036: [0, 0.03513580938944047], 4037: [0.03830144442443284, 0.05621729502310475], 4040: [0, 0.05605195003774267], 4046: [0, 0.007058393708456485], 4050: [0.016149489626719818, 0], 4052: [0, 0.012554455212669636], 4053: [0, 0.010246055383243285], 4057: [0.00851980948811203, 0], 4062: [0, 0.06289657760010729], 4063: [0.01803359674983713, 0], 4064: [0.01745186782242303, 0.02561513845810821], 4070: [0.02060982485695672, 0], 4074: [0, 0.03427637232523833], 4076: [0, 0.009075077625158337], 4077: [0.024044795666449507, 0], 4080: [0.026716439629388338, 0], 4082: [0, 0.010051510027865248], 4084: [0.013961494257938422, 0.05123027691621642], 4085: [0.019673014636185957, 0.014437623494570083], 4090: [0, 0.023703560961234466], 4092: [0.02041539254698543, 0], 4094: [0, 0.030541126623129022], 4095: [0, 0.046128506600908566], 4097: [0, 0.015053446297656013], 4100: [0.025459195411534772, 0], 4104: [0, 0.014054323755776187], 4108: [0, 0.03950593493539078], 4112: [0, 0.005189995373865062], 4113: [0, 0.05429533621889605], 4117: [0, 0.023703560961234466], 4125: [0, 0.004916837722609007], 4126: [0.048089591332899015, 0.023527979028188286], 4128: [0.013961494257938422, 0.010246055383243285], 4132: [0, 0.014704986892617677], 4133: [0, 0.01825446648738746], 4134: [0.010660254236356925, 0], 4137: [0, 0.049941464918324185], 4147: [0, 0.07747017484891265], 4149: [0, 0.07080872669311442], 4150: [0, 0.016805699305848774], 4154: [0, 0.003254382345087519], 4161: [0, 0.06539394171069979], 4163: [0, 0.0050417097917546325], 4164: [0.01579585116774055, 0.011592252440895687], 4182: [0, 0.006729400781367412], 4183: [0.00905452556477178, 0.006644931315492506], 4189: [0, 0.005495289219386537], 4190: [0, 0.01604180388285565], 4201: [0, 0.049117688177403376], 4211: [0, 0.005533583917779475], 4214: [0, 0.07444399614387699], 4215: [0, 0.00715377740721941], 4229: [0, 0.03970346461006773], 4235: [0.02022459448579865, 0.004947472225553611], 4237: [0, 0.026917603125469647], 4238: [0.012804920769115121, 0.009397269730193544], 4244: [0, 0.006508764690175038], 4246: [0.01433133516543348, 0.010517474068892113], 4253: [0.012472804668475248, 0], 4261: [0.04704416543435773, 0], 4272: [0, 0.011508250611613835], 4273: [0, 0.05025755013932624], 4275: [0, 0.02462230363415053], 4280: [0, 0.03995317193465935], 4293: [0, 0.005241381466675608], 4299: [0, 0.06352554337610837], 4304: [0.015347741914755002, 0], 4306: [0, 0.07285039377994079], 4309: [0.012881140535597949, 0], 4312: [0.05548798999949886, 0], 4314: [0.015133088181681508, 0], 4317: [0, 0.055724160856235404], 4321: [0, 0.012031352912141736], 4324: [0.008044727174648533, 0], 4336: [0, 0.05936966670664333], 4338: [0, 0.02561513845810821], 4341: [0.07398398666599848, 0], 4344: [0.0067837981504089515, 0], 4347: [0, 0.008972534375156549], 4351: [0, 0.006589786657272652], 4354: [0, 0.08041208022292198], 4365: [0.00835533440146894, 0], 4366: [0.005577401056650658, 0], 4367: [0.01579585116774055, 0.011592252440895687], 4369: [0, 0.005514370084731629], 4372: [0, 0.038735087424456326], 4373: [0, 0.06352554337610837], 4374: [0, 0.009509811882650954], 4376: [0, 0.039052588141050226], 4377: [0.04108920778443903, 0], 4382: [0, 0.017744565188857087], 4385: [0, 0.019486362998806246], 4387: [0, 0.012123195300784038], 4388: [0, 0.06203666345323083], 4391: [0.015347741914755002, 0.0675803652937323], 4395: [0, 0.019851732305033867], 4396: [0.012295634147616225, 0], 4397: [0.020037329722041253, 0.07352493446308839], 4398: [0.040074659444082505, 0.07352493446308839], 4402: [0, 0.08271555127097444], 4411: [0, 0.016205495759211316], 4413: [0, 0.012407332690646165], 4418: [0, 0.024970732459162093], 4421: [0, 0.011343847031447923], 4422: [0, 0.06030906016719149], 4427: [0, 0.015881385844027093], 4429: [0, 0.023703560961234466], 4432: [0.009704177623230743, 0], 4437: [0.02022459448579865, 0], 4438: [0, 0.015418821207793292], 4445: [0.025916546227310846, 0], 4451: [0, 0.016717248256870623], 4455: [0, 0.017744565188857087], 4467: [0, 0.0405137393980283], 4475: [0, 0.035032468773589176], 4479: [0.032298979253439636, 0], 4480: [0, 0.019134199812080834], 4481: [0, 0.006327245356186092], 4483: [0.00957536110610821, 0], 4495: [0.02487392655149949, 0], 4505: [0.015681388478119243, 0.011508250611613835], 4521: [0.020037329722041253, 0], 4522: [0, 0.008872282594428543], 4534: [0, 0.026691404779877463], 4537: [0, 0.037456098688743146], 4545: [0, 0.0927380195271655], 4547: [0, 0.006875058806938135], 4551: [0, 0.014179808789309903], 4553: [0.018817666173743093, 0], 4557: [0.044390391999599085, 0.008144300432834406], 4558: [0, 0.016895091323433076], 4559: [0, 0.007980595901521151], 4560: [0.013441190124102208, 0.029592644429864146], 4564: [0.009368102207707599, 0], 4573: [0.016775438837057795, 0], 4576: [0, 0.035032468773589176], 4578: [0, 0.010587590562684728], 4583: [0, 0.03794187744306814], 4585: [0, 0.011028740169463258], 4588: [0, 0.05881994757047071], 4593: [0, 0.04812541164856694], 4596: [0, 0.03826839962416167], 4598: [0, 0.004537538812579169], 4603: [0, 0.0675803652937323], 4604: [0.017737964016233242, 0], 4607: [0, 0.017744565188857087], 4611: [0, 0.017744565188857087], 4614: [0, 0.008584532888663293], 4618: [0.025261069377203762, 0], 4621: [0.009449919694237797, 0], 4622: [0, 0.09010715372497641], 4624: [0, 0.039052588141050226], 4632: [0, 0.031762771688054185], 4637: [0, 0.019526294070525113], 4643: [0.014052153311561401, 0], 4651: [0.0163941788634883, 0], 4654: [0.00700333854362607, 0], 4656: [0.009130935063208672, 0], 4657: [0, 0.013931040214058851], 4659: [0, 0.0345247518348415], 4660: [0, 0.05090187770521503], 4662: [0, 0.004423784357667713], 4668: [0, 0.034981026088165404], 4673: [0, 0.016805699305848774], 4677: [0, 0.008872282594428543], 4680: [0, 0.022687694062895846], 4687: [0, 0.00923336386280645], 4688: [0, 0.08144300432834406], 4691: [0, 0.10246055383243284], 4692: [0, 0.01260427447938658], 4693: [0, 0.05002011289457352], 4695: [0, 0.012031352912141736], 4696: [0.039109004999646785, 0], 4699: [0, 0.016205495759211316], 4700: [0, 0.006378066604026944], 4708: [0, 0.010658648217467847], 4710: [0, 0.04436141297214271], 4714: [0.006720595062051104, 0.004932107404977357], 4716: [0.019673014636185957, 0], 4720: [0, 0.015270563311564511], 4721: [0.02924367040514129, 0], 4722: [0.010112297242899325, 0], 4726: [0, 0.023184504881791374], 4727: [0, 0.038115326025665024], 4728: [0.02487392655149949, 0], 4733: [0.028104306623122802, 0.10312588210407202], 4736: [0, 0.014437623494570083], 4737: [0, 0.003077787954268816], 4740: [0, 0.025342636985149613], 4741: [0, 0.04924460726830106], 4742: [0, 0.009988292983664838], 4743: [0, 0.03842270768716232], 4753: [0, 0.009988292983664838], 4759: [0, 0.01250502822364338], 4760: [0, 0.01825446648738746], 4761: [0, 0.06296584695869772], 4762: [0.010556251756002222, 0], 4772: [0, 0.049941464918324185], 4774: [0, 0.051787127752262255], 4778: [0.019853501008995005, 0], 4779: [0.011697468162056517, 0], 4780: [0.01703961897622406, 0.05002011289457352], 4787: [0, 0.05775049397828033], 4790: [0.024778987900539565, 0], 4791: [0.008979384273777823, 0.013179573314545305], 4793: [0.021640316099804557, 0], 4795: [0, 0.008774246322666901], 4797: [0.014523702080405742, 0], 4804: [0, 0.04494731842649177], 4807: [0.010607998088139487, 0], 4816: [0.017312252879843646, 0], 4836: [0.014721303469254798, 0], 4837: [0, 0.008228697328511447], 4840: [0, 0.06526596922202914], 4844: [0, 0.014179808789309903], 4848: [0, 0.007709410603896646], 4849: [0.01745186782242303, 0], 4850: [0, 0.03379018264686615], 4852: [0, 0.023527979028188286], 4853: [0.04121964971391344, 0], 4854: [0.02022459448579865, 0], 4856: [0, 0.0972329745552679], 4858: [0, 0.04125035284162881], 4860: [0, 0.007058393708456485], 4861: [0, 0.06710444722828349], 4862: [0, 0.04020604011146099], 4866: [0, 0.029964878950994513], 4867: [0.06053235272672603, 0.03331759267977712], 4881: [0.02756728165580198, 0], 4885: [0, 0.011508250611613835], 4887: [0, 0.04849278120313615], 4888: [0, 0.017076758972072142], 4891: [0.023144723101395245, 0], 4893: [0, 0.030250258750527795], 4897: [0.011510806436066253, 0], 4906: [0.010984932030357641, 0], 4908: [0, 0.006155575908537632], 4910: [0, 0.008271555127097444], 4911: [0, 0.007186147440736241], 4914: [0.009169625466018879, 0.006729400781367412], 4916: [0, 0.017744565188857087], 4927: [0, 0.008678352920233383], 4932: [0.011389640052528714, 0], 4935: [0, 0.038115326025665024], 4936: [0, 0.027740411954632473], 4942: [0, 0.013931040214058851], 4947: [0, 0.007456049692031498], 4948: [0, 0.05414108810463781], 4953: [0, 0.010952679892432477], 4960: [0, 0.015270563311564511], 4964: [0, 0.11080036635367738], 4969: [0, 0.05015174477061187], 4974: [0, 0.028529435647952857], 4975: [0, 0.07810517628210045], 4977: [0.05111885692867218, 0], 4979: [0.030479318450428953, 0.04473629815218899], 4980: [0, 0.013809900733936602], 4986: [0, 0.011028740169463258], 4994: [0.009660855401698462, 0], 4995: [0, 0.0058819947570470715], 4998: [0, 0.09838026629043331], 4999: [0.007701180106692012, 0.005651738734529213], 5001: [0, 0.00715377740721941], 5003: [0, 0.005189995373865062], 5015: [0, 0.014437623494570083], 5017: [0, 0.05002011289457352], 5020: [0, 0.005457520908600375], 5025: [0, 0.013573834054724012], 5038: [0.011955975745748372, 0], 5048: [0, 0.007980595901521151], 5049: [0.030479318450428953, 0.011184074538047248], 5050: [0, 0.008314861698443504], 5053: [0, 0.007318610988030918], 5056: [0.008942279380084527, 0.013125112267790985], 5059: [0.013115343090790639, 0.038500329318853554], 5064: [0, 0.004179312064217656], 5076: [0, 0.014982439475497256], 5078: [0.0315917023354811, 0], 5081: [0.009169625466018879, 0], 5088: [0.014621835202570646, 0.05365333055414558], 5098: [0, 0.04046212953892253], 5104: [0, 0.0866257409674205], 5109: [0.010660254236356925, 0], 5111: [0, 0.03758907892077418], 5114: [0, 0.01648586765815961], 5115: [0, 0.03625887179001619], 5121: [0.009747890135047097, 0.042922664443316466], 5127: [0.006826598138739607, 0.005009900897169429], 5133: [0, 0.06955351464537413], 5135: [0, 0.04812541164856694], 5138: [0, 0.0445272500299825], 5139: [0, 0.06320949589662524], 5140: [0.019495780270094194, 0], 5143: [0.01803359674983713, 0], 5146: [0, 0.021034948137784226], 5148: [0, 0.008872282594428543], 5155: [0.007360651734627399, 0.010803663839474212], 5157: [0, 0.05760088129958012], 5160: [0.01849599666649962, 0], 5163: [0.010256073980950027, 0], 5165: [0, 0.049117688177403376], 5169: [0, 0.03241099151842263], 5176: [0, 0.04331287048371025], 5178: [0.012226167288025173, 0.07178027500125239], 5183: [0.007071998725426325, 0], 5185: [0.011761041358589432, 0], 5186: [0, 0.01430755481443882], 5189: [0.010607998088139487, 0], 5191: [0, 0.03781282343815974], 5194: [0, 0.008872282594428543], 5199: [0, 0.010051510027865248], 5203: [0, 0.016717248256870623], 5204: [0.008453248476486154, 0], 5205: [0, 0.010952679892432477], 5206: [0, 0.06729400781367412], 5213: [0, 0.04223772830858269], 5217: [0.015681388478119243, 0], 5218: [0.01745186782242303, 0.03842270768716232], 5221: [0, 0.012311151817075264], 5224: [0, 0.021755323074009715], 5231: [0, 0.04849278120313615], 5232: [0, 0.050820434700886694], 5234: [0, 0.013125112267790985], 5238: [0.011154802113301316, 0.049117688177403376], 5239: [0, 0.020103020055730496], 5240: [0, 0.009743181499403123], 5245: [0, 0.01890641171907987], 5250: [0, 0.02301650122322767], 5251: [0.0282879949017053, 0], 5252: [0.008621639880400222, 0.03163622678093046], 5255: [0, 0.020448136279863208], 5256: [0.016029863777633005, 0], 5259: [0.02866267033086696, 0], 5261: [0, 0.033086220508389774], 5266: [0, 0.008447545661716538], 5267: [0, 0.024246390601568076], 5270: [0, 0.008726036178036864], 5276: [0.014822134314934626, 0], 5277: [0, 0.009397269730193544], 5279: [0, 0.03379018264686615], 5280: [0.014924355930899693, 0], 5286: [0.0051280369904750135, 0], 5287: [0.009972495898527445, 0], 5288: [0.011825309344155495, 0], 5289: [0, 0.011184074538047248], 5295: [0, 0.06980828942429491], 5299: [0, 0.014054323755776187], 5305: [0.008135457180377653, 0], 5309: [0.005278125878001111, 0], 5310: [0.029145206868423642, 0.0053472679609518825], 5319: [0.04135092248370297, 0.010115532384730633], 5321: [0, 0.021461332221658233], 5327: [0.018185139579667692, 0], 5332: [0.013525197562377848, 0], 5337: [0, 0.049941464918324185], 5339: [0, 0.04783549953020208], 5340: [0, 0.04125035284162881], 5346: [0, 0.06710444722828349], 5347: [0.030623088820478143, 0], 5356: [0.0034847529951376097, 0], 5359: [0, 0.04643680071352951], 5364: [0, 0.047644157532081274], 5365: [0, 0.024308243638816975], 5367: [0, 0.027147668109448023], 5373: [0, 0.016123234359418367], 5379: [0, 0.025478159108064856], 5380: [0, 0.02406270582428347], 5385: [0, 0.024558844088701688], 5393: [0, 0.015125129375263897], 5394: [0, 0.011592252440895687], 5395: [0, 0.010246055383243285], 5400: [0, 0.008922126878666906], 5413: [0.009016798374918564, 0], 5414: [0.017312252879843646, 0], 5415: [0, 0.021755323074009715], 5417: [0, 0.011763989514094143], 5418: [0, 0.022905844967346767], 5421: [0, 0.006203666345323083], 5426: [0, 0.013573834054724012], 5428: [0, 0.06030906016719149], 5432: [0.00851980948811203, 0], 5433: [0, 0.008678352920233383], 5440: [0.07897925583870274, 0.03477675732268706], 5441: [0, 0.024246390601568076], 5442: [0.00616533222216654, 0], 5446: [0.01502799729153094, 0.022057480338926516], 5450: [0, 0.010952679892432477], 5451: [0, 0.01142545744174611], 5452: [0, 0.009206600489291068], 5457: [0.013195314695002777, 0.02905131556834224], 5462: [0.022309604226602633, 0.0654902509032045], 5466: [0.014190371212986594, 0.002603505876070015], 5469: [0.01745186782242303, 0], 5473: [0.013525197562377848, 0], 5476: [0.010713027772180472, 0], 5478: [0.07889698578053744, 0], 5480: [0, 0.023354979182392783], 5482: [0, 0.08922126878666906], 5483: [0, 0.06203666345323083], 5485: [0, 0.011763989514094143], 5487: [0.01030491242847836, 0.007562564687631949], 5488: [0, 0.005572416085623541], 5494: [0.008553484624428677, 0], 5500: [0, 0.038735087424456326], 5502: [0.01414399745085265, 0.010379990747730125], 5504: [0.014426877399869704, 0], 5505: [0.02242519803088555, 0], 5507: [0, 0.011184074538047248], 5508: [0, 0.010246055383243285], 5511: [0, 0.006203666345323083], 5512: [0, 0.03609405873642521], 5513: [0.016270914360755305, 0.047763566448201775], 5516: [0.020807996249812073, 0], 5518: [0, 0.010379990747730125], 5522: [0, 0.07164534967230267], 5524: [0, 0.016895091323433076], 5531: [0, 0.02561513845810821], 5533: [0, 0.024246390601568076], 5535: [0, 0.006617244101677955], 5538: [0.022081955203882196, 0], 5539: [0.008259662633513189, 0.012123195300784038], 5544: [0, 0.03970346461006773], 5547: [0, 0.025342636985149613], 5550: [0, 0.028359617578619805], 5553: [0, 0.03995317193465935], 5556: [0.00716566758271674, 0.01577621110333817], 5559: [0.006518167499941131, 0], 5560: [0, 0.049016622975392256], 5562: [0.014237050065660891, 0], 5566: [0.03329279399969932, 0], 5570: [0, 0.049054473649504535], 5572: [0, 0.012407332690646165], 5582: [0.011697468162056517, 0.03433813155465317], 5598: [0, 0.03970346461006773], 5600: [0, 0.010312588210407203], 5603: [0.014237050065660891, 0.00522414008027207], 5606: [0, 0.019851732305033867], 5607: [0, 0.017645984271141214], 5610: [0, 0.019134199812080834], 5611: [0, 0.008774246322666901], 5612: [0, 0.01142545744174611], 5613: [0, 0.023703560961234466], 5614: [0, 0.010877661537004858], 5616: [0, 0.04705595805637657], 5619: [0.012365894914174032, 0.009075077625158337], 5623: [0.026716439629388338, 0.00980332459507845], 5629: [0.027050395124755697, 0], 5630: [0, 0.023184504881791374], 5631: [0, 0.06050051750105559], 5638: [0, 0.010803663839474212], 5645: [0, 0.012031352912141736], 5648: [0.012022397833224754, 0.008822992135570607], 5653: [0.026390629390005554, 0], 5658: [0, 0.1287679933299494], 5663: [0.0051038481367463575, 0], 5664: [0, 0.04072150216417203], 5666: [0.011825309344155495, 0], 5667: [0, 0.04962933076258466], 5671: [0, 0.025342636985149613], 5674: [0, 0.014704986892617677], 5675: [0, 0.017645984271141214], 5676: [0, 0.02501005644728676], 5677: [0.03381299390594462, 0], 5679: [0.016270914360755305, 0.011940891612050444], 5682: [0, 0.011105864226592372], 5684: [0, 0.05293795281342364], 5686: [0, 0.03477675732268706], 5687: [0, 0.020231064769461266], 5692: [0, 0.014637221976061836], 5695: [0.01664639699984966, 0.006108225324625805], 5697: [0, 0.06050051750105559], 5702: [0, 0.019367543712228163], 5710: [0, 0.061082253246258045], 5711: [0, 0.023354979182392783], 5716: [0.00957536110610821, 0], 5717: [0.019673014636185957, 0.0866257409674205], 5719: [0.007261851040202871, 0], 5720: [0, 0.02870129971812125], 5721: [0, 0.022796247623005396], 5723: [0, 0.008872282594428543], 5726: [0.009704177623230743, 0], 5730: [0, 0.010246055383243285], 5736: [0, 0.033434496513741245], 5738: [0, 0.047644157532081274], 5743: [0, 0.0065355497300523015], 5746: [0, 0.06187552926244321], 5750: [0, 0.028191809190580636], 5751: [0.017884558760169054, 0], 5753: [0, 0.04321465535789685], 5755: [0, 0.0060385497505806435], 5770: [0.028104306623122802, 0], 5771: [0, 0.09884679985908978], 5775: [0, 0.06187552926244321], 5776: [0.023021612872132505, 0], 5777: [0.006459795850687927, 0.018962848768987572], 5779: [0, 0.03609405873642521], 5783: [0, 0.02530898142474437], 5784: [0, 0.07218811747285042], 5789: [0.018339250932037757, 0.04037640468820447], 5790: [0.010929452575658867, 0], 5796: [0, 0.052687062041796046], 5799: [0, 0.039116713901544566], 5800: [0.021010015630878207, 0], 5802: [0, 0.0184667277256129], 5803: [0, 0.019057663012832512], 5811: [0, 0.025893563876131127], 5814: [0, 0.08075280937640894], 5816: [0.006459795850687927, 0], 5822: [0.03586792723724512, 0.026322738968000702], 5825: [0.011270997968648205, 0], 5827: [0, 0.008702129229603886], 5829: [0, 0.006352554337610837], 5830: [0, 0.027571850423658145], 5831: [0, 0.023184504881791374], 5834: [0, 0.011343847031447923], 5835: [0, 0.045053576862488204], 5837: [0.035187505853340746, 0], 5842: [0, 0.023941787704563455], 5848: [0.013441190124102208, 0], 5852: [0.00928768931322084, 0.034080227133105344], 5853: [0.014052153311561401, 0], 5856: [0, 0.005611797118030774], 5858: [0, 0.010730666110829117], 5862: [0.013961494257938422, 0.02049211076648657], 5871: [0, 0.04511757342053151], 5872: [0, 0.011677489591196391], 5874: [0.017884558760169054, 0], 5879: [0, 0.007862072200013412], 5889: [0, 0.009023514684106303], 5892: [0, 0.08020901941427824], 5895: [0.02774399499974943, 0], 5901: [0.028474100131321782, 0.01044828016054414], 5903: [0.036678501864075515, 0.026917603125469647], 5906: [0, 0.016205495759211316], 5907: [0.012022397833224754, 0], 5908: [0.013871997499874715, 0.010180375541043007], 5909: [0, 0.04648210490934759], 5910: [0.028474100131321782, 0], 5912: [0, 0.029409973785235355], 5917: [0.011097597999899771, 0], 5920: [0, 0.007352493446308839], 5922: [0, 0.007562564687631949], 5923: [0, 0.06830703588828857], 5924: [0, 0.011940891612050444], 5925: [0, 0.015569986121595188], 5930: [0, 0.04812541164856694], 5933: [0.005650213080888918, 0], 5936: [0, 0.07444399614387699], 5937: [0, 0.021607327678948424], 5938: [0, 0.004387123161333451], 5943: [0, 0.009625082329713389], 5944: [0, 0.009988292983664838], 5945: [0, 0.02561513845810821], 5947: [0, 0.010952679892432477], 5948: [0, 0.07027161877888094], 5949: [0, 0.01825446648738746], 5950: [0, 0.014570078755988158], 5951: [0.009327722456812309, 0], 5957: [0, 0.029409973785235355], 5967: [0.042101782295339604, 0.01853858269730789], 5969: [0.10969745488380189, 0.014637221976061836], 5970: [0.021640316099804557, 0], 5972: [0.022195195999799543, 0], 5977: [0, 0.0196066491901569], 5981: [0.012508853236881246, 0], 5982: [0, 0.07006493754717835], 5989: [0.0050561486214496625, 0], 5990: [0.01414399745085265, 0.010379990747730125], 5992: [0.036268686200789754, 0], 5994: [0.005896543896404511, 0], 5999: [0, 0.03892496530398797], 6012: [0.013610261697990287, 0.019976585967329676], 6014: [0, 0.029777598457550795], 6015: [0, 0.03636958590235212], 6020: [0, 0.006644931315492506], 6021: [0.004852088811615371, 0.003560848843952263], 6023: [0, 0.030541126623129022], 6029: [0, 0.01221645064925161], 6030: [0.010112297242899325, 0], 6038: [0.012804920769115121, 0], 6041: [0.01745186782242303, 0.07684541537432464], 6045: [0, 0.029964878950994513], 6046: [0, 0.0359307372036812], 6047: [0, 0.01260427447938658], 6049: [0, 0.04411496067785303], 6051: [0.019914401318838548, 0.03897272599761249], 6052: [0, 0.07562564687631948], 6059: [0, 0.005401831919737106], 6063: [0, 0.010587590562684728], 6064: [0, 0.01825446648738746], 6065: [0, 0.020103020055730496], 6068: [0, 0.0355553414418517], 6069: [0, 0.0065625561338954926], 6072: [0.008621639880400222, 0.03163622678093046], 6073: [0, 0.03379018264686615], 6074: [0.01502799729153094, 0], 6084: [0.013115343090790639, 0], 6086: [0, 0.05414108810463781], 6087: [0.013036334999882262, 0.019134199812080834], 6088: [0.010505007815439104, 0], 6092: [0.013195314695002777, 0.08715394670502673], 6094: [0, 0.010952679892432477], 6097: [0, 0.04625646362337988], 6102: [0, 0.012705108675221673], 6106: [0.008656126439921823, 0], 6113: [0, 0.07285039377994079], 6118: [0, 0.03379018264686615], 6125: [0, 0.008584532888663293], 6145: [0, 0.05293795281342364], 6146: [0.015239659225214476, 0], 6147: [0, 0.013345702389938732], 6151: [0, 0.021269713183964853], 6153: [0, 0.013125112267790985], 6155: [0, 0.04371023626796448], 6159: [0, 0.017945068750313098], 6164: [0, 0.02738169973108119], 6165: [0, 0.010517474068892113], 6166: [0.015347741914755002, 0], 6175: [0.008553484624428677, 0], 6176: [0, 0.07421208338330416], 6177: [0.020037329722041253, 0], 6179: [0, 0.04812541164856694], 6180: [0, 0.014842416676660832], 6181: [0, 0.06786917027362005], 6191: [0, 0.08432594253465713], 6192: [0, 0.02075998149546025], 6195: [0, 0.05123027691621642], 6199: [0, 0.021755323074009715], 6200: [0, 0.019851732305033867], 6203: [0, 0.01323448820335591], 6207: [0, 0.018831682819004457], 6212: [0, 0.013345702389938732], 6213: [0.010354218229571556, 0.01519749841533693], 6215: [0.01163457854828202, 0.042691897430180356], 6216: [0, 0.022057480338926516], 6220: [0, 0.061082253246258045], 6224: [0, 0.03892496530398797], 6225: [0.02655253509178473, 0], 6228: [0, 0.014054323755776187], 6231: [0, 0.010952679892432477], 6234: [0.030266176363363016, 0.05552932113296186], 6235: [0, 0.08822992135570606], 6236: [0, 0.09341991672957113], 6238: [0, 0.002957427531476181], 6241: [0, 0.008872282594428543], 6246: [0, 0.02571884347210865], 6248: [0.006537859848883551, 0.023990008827835488], 6250: [0, 0.06508764690175037], 6256: [0.016775438837057795, 0], 6258: [0.010505007815439104, 0], 6260: [0, 0.012964396607369056], 6267: [0, 0.027539975452070098], 6269: [0, 0.008402849652924387], 6271: [0.011955975745748372, 0], 6273: [0, 0.014503548716006476], 6274: [0, 0.015418821207793292], 6281: [0, 0.02861510962887764], 6290: [0.01703961897622406, 0.1250502822364338], 6292: [0, 0.011343847031447923], 6294: [0.0327883577269766, 0], 6296: [0.01369640259481301, 0], 6297: [0, 0.011028740169463258], 6304: [0, 0.028359617578619805], 6308: [0, 0.04351064614801943], 6311: [0, 0.007089904394654951], 6314: [0, 0.04197723130579848], 6317: [0.026882380248204416, 0], 6322: [0, 0.061082253246258045], 6326: [0, 0.08538379486036071], 6333: [0, 0.022211728453184743], 6338: [0, 0.009567099906040417], 6340: [0, 0.04072150216417203], 6348: [0, 0.022057480338926516], 6351: [0.012436963275749745, 0.030424110812312433], 6352: [0.04604322574426501, 0], 6355: [0.008942279380084527, 0], 6357: [0, 0.020360751082086015], 6358: [0, 0.061082253246258045], 6359: [0.027050395124755697, 0], 6361: [0, 0.008228697328511447], 6363: [0, 0.07562564687631948], 6364: [0.013115343090790639, 0], 6371: [0, 0.03379018264686615], 6372: [0, 0.047172433200080466], 6375: [0.015239659225214476, 0], 6376: [0.009972495898527445, 0], 6380: [0, 0.01323448820335591], 6400: [0.013195314695002777, 0], 6402: [0.016209974606595172, 0.005948084585777937], 6405: [0, 0.045053576862488204], 6406: [0.006557671545395319, 0.004812541164856694], 6410: [0, 0.007421208338330416], 6412: [0, 0.005592037269023624], 6417: [0, 0.025075872385305936], 6422: [0, 0.03291478931404579], 6424: [0, 0.03781282343815974], 6429: [0, 0.020188202344102235], 6430: [0, 0.00923336386280645], 6441: [0, 0.03263298461101457], 6442: [0, 0.038735087424456326], 6448: [0.008868982008116621, 0], 6450: [0, 0.021755323074009715], 6458: [0, 0.007784993060797594], 6460: [0, 0.0445272500299825], 6461: [0, 0.039052588141050226], 6462: [0, 0.069049503669683], 6464: [0, 0.017169065777326586], 6467: [0, 0.009925866152516933], 6474: [0.01015977281680965, 0], 6481: [0, 0.028108647511552374], 6486: [0, 0.006227994448638075], 6488: [0, 0.04812541164856694], 6490: [0.01163457854828202, 0.017076758972072142], 6491: [0.008979384273777823, 0.05271829325818122], 6493: [0, 0.009341991672957113], 6497: [0.0203195456336193, 0.014912099384062997], 6498: [0.013961494257938422, 0.02049211076648657], 6503: [0, 0.014503548716006476], 6504: [0.03606719349967426, 0], 6508: [0.009791998235205683, 0], 6509: [0, 0.010877661537004858], 6511: [0, 0.033552223614141743], 6528: [0, 0.09075077625158338], 6530: [0.011212599015442776, 0], 6531: [0, 0.01604180388285565], 6532: [0, 0.013289862630985012], 6534: [0.013358219814694169, 0], 6536: [0.04508399187459282, 0], 6541: [0, 0.006277227606334818], 6542: [0, 0.011223594236061549], 6550: [0.012581579127793346, 0], 6551: [0, 0.009075077625158337], 6555: [0.013610261697990287, 0], 6561: [0, 0.06078999366134772], 6564: [0.013961494257938422, 0], 6565: [0, 0.047172433200080466], 6566: [0, 0.011940891612050444], 6567: [0.030623088820478143, 0], 6573: [0.013358219814694169, 0], 6574: [0, 0.014704986892617677], 6575: [0, 0.006482198303684528], 6583: [0, 0.03285803967729743], 6592: [0, 0.010246055383243285], 6596: [0.016029863777633005, 0], 6601: [0, 0.050820434700886694], 6602: [0, 0.009341991672957113], 6603: [0.012365894914174032, 0], 6612: [0.009422488867839428, 0], 6615: [0, 0.008922126878666906], 6618: [0, 0.08214509919324357], 6624: [0.013036334999882262, 0], 6632: [0.007237563912978112, 0], 6634: [0.005177109114785778, 0], 6644: [0.014426877399869704, 0.031762771688054185], 6649: [0.022309604226602633, 0], 6655: [0, 0.010115532384730633], 6656: [0.04188448277381527, 0.010246055383243285], 6666: [0, 0.02905131556834224], 6667: [0.007360651734627399, 0], 6679: [0, 0.009567099906040417], 6680: [0, 0.01260427447938658], 6685: [0, 0.09140365953396888], 6688: [0, 0.021905359784864954], 6706: [0, 0.013017529380350076], 6708: [0, 0.04072150216417203], 6709: [0, 0.020625176420814406], 6715: [0, 0.04783549953020208], 6716: [0, 0.007940692922013546], 6718: [0, 0.02575359866598988], 6721: [0, 0.04216297126732856], 6723: [0.06720595062051105, 0], 6725: [0.010713027772180472, 0.031448288800053646], 6733: [0, 0.0738669109024516], 6736: [0, 0.0073866910902451585], 6737: [0.012508853236881246, 0], 6741: [0.044390391999599085, 0.01628860086566881], 6742: [0, 0.009743181499403123], 6743: [0, 0.08186281362900562], 6746: [0.017884558760169054, 0], 6747: [0.01579585116774055, 0], 6748: [0, 0.0057750493978280335], 6751: [0, 0.0400371071698162], 6752: [0, 0.01250502822364338], 6755: [0, 0.021607327678948424], 6757: [0, 0.013931040214058851], 6759: [0.03182399426441846, 0], 6762: [0, 0.06571607935459486], 6763: [0, 0.08092425907784506], 6775: [0.018817666173743093, 0], 6776: [0, 0.006508764690175038], 6782: [0, 0.011940891612050444], 6784: [0, 0.03892496530398797], 6786: [0.008228257072169032, 0], 6788: [0, 0.011343847031447923], 6789: [0, 0.011343847031447923], 6793: [0, 0.05452836341296855], 6802: [0.009491366710440595, 0], 6805: [0, 0.026035058760700152], 6807: [0, 0.008358624128435311], 6810: [0, 0.014704986892617677], 6812: [0, 0.053835206250939294], 6816: [0, 0.05828031502395263], 6820: [0, 0.05123027691621642], 6825: [0.015402360213384024, 0.005651738734529213], 6826: [0.014721303469254798, 0], 6829: [0, 0.008402849652924387], 6830: [0.00957536110610821, 0], 6836: [0, 0.012407332690646165], 6837: [0, 0.010952679892432477], 6839: [0, 0.015125129375263897], 6841: [0, 0.055079950904140196], 6842: [0.011890283571321185, 0], 6843: [0, 0.012031352912141736], 6844: [0.015133088181681508, 0.01665879633988856], 6851: [0.021215996176278975, 0], 6853: [0, 0.06455847904076054], 6856: [0.01502799729153094, 0], 6859: [0, 0.05671923515723961], 6860: [0, 0.027740411954632473], 6862: [0.044619208453205265, 0.0654902509032045], 6863: [0, 0.03241099151842263], 6867: [0.014426877399869704, 0], 6868: [0, 0.05365333055414558], 6871: [0.014721303469254798, 0], 6872: [0, 0.01818479295117606], 6873: [0, 0.044862671875782745], 6874: [0.011330008429217045, 0], 6875: [0, 0.02625022453558197], 6877: [0, 0.012911695808152109], 6879: [0, 0.009567099906040417], 6880: [0, 0.025410217350443347], 6881: [0, 0.007709410603896646], 6883: [0, 0.004994146491832419], 6888: [0, 0.021755323074009715], 6889: [0.023522082717178865, 0.01726237591742075], 6892: [0.02326915709656404, 0], 6894: [0.012022397833224754, 0], 6895: [0, 0.0320836077657113], 6898: [0.005786180775348811, 0], 6901: [0, 0.055079950904140196], 6903: [0.009533178898592317, 0], 6908: [0, 0.02157796989677594], 6911: [0.006720595062051104, 0.014796322214932073], 6923: [0, 0.052241400802720696], 6925: [0, 0.008972534375156549], 6932: [0.01378364082790099, 0], 6939: [0, 0.06463354703964515], 6944: [0, 0.012311151817075264], 6947: [0.016775438837057795, 0], 6951: [0, 0.05671923515723961], 6954: [0, 0.11343847031447922], 6955: [0, 0.069049503669683], 6961: [0, 0.011263394215622051], 6963: [0, 0.010379990747730125], 6966: [0, 0.0183599836347134], 6972: [0, 0.012031352912141736], 6975: [0.010660254236356925, 0], 6976: [0, 0.008447545661716538], 6980: [0.015681388478119243, 0], 6982: [0.012958273113655423, 0.009509811882650954], 6983: [0.011510806436066253, 0], 6984: [0.0071185250328304455, 0], 6986: [0.03462450575968729, 0], 6988: [0.008656126439921823, 0], 6991: [0.010256073980950027, 0.007526723148828006], 6998: [0, 0.011763989514094143], 7001: [0, 0.014888799228775397], 7002: [0.032298979253439636, 0], 7005: [0, 0.014054323755776187], 7006: [0.05252503907719552, 0], 7009: [0.012881140535597949, 0], 7013: [0.01015977281680965, 0], 7018: [0, 0.011105864226592372], 7019: [0.014621835202570646, 0.010730666110829117], 7027: [0.009368102207707599, 0], 7032: [0.011097597999899771, 0.04072150216417203], 7038: [0.017381779999843014, 0], 7040: [0.016149489626719818, 0], 7051: [0, 0.041429702201809804], 7056: [0, 0.007421208338330416], 7059: [0.01898273342088119, 0], 7063: [0, 0.03379018264686615], 7067: [0, 0.0345247518348415], 7069: [0.00883278208155288, 0], 7070: [0, 0.023881783224100887], 7077: [0, 0.0196066491901569], 7078: [0, 0.04020604011146099], 7081: [0.010874530703419375, 0], 7084: [0.009881422876623084, 0.007251774358003238], 7088: [0, 0.038735087424456326], 7089: [0, 0.03609405873642521], 7091: [0.016519325267026378, 0], 7095: [0, 0.010115532384730633], 7103: [0.01920738115367268, 0], 7107: [0.006537859848883551, 0.014394005296701293], 7112: [0, 0.06830703588828857], 7115: [0, 0.013125112267790985], 7119: [0, 0.03781282343815974], 7122: [0, 0.007901186987078155], 7126: [0.007095185606493297, 0], 7130: [0, 0.013992410435266162], 7135: [0.011154802113301316, 0], 7143: [0, 0.012311151817075264], 7147: [0.005252503907719552, 0], 7148: [0.00924799833324981, 0.05429533621889605], 7152: [0, 0.107468024508454], 7155: [0, 0.00912723324369373], 7160: [0, 0.046709958364785566], 7169: [0, 0.010877661537004858], 7170: [0, 0.05329324108733923], 7172: [0, 0.04331287048371025], 7177: [0, 0.01260427447938658], 7179: [0, 0.05235621706822118], 7195: [0, 0.016895091323433076], 7198: [0.012436963275749745, 0.01825446648738746]}\n"
     ]
    }
   ],
   "source": [
    "print(query_function_v2(\"american museum\"))"
   ]
  }
 ],
 "metadata": {
  "kernelspec": {
   "display_name": "conda_python3",
   "language": "python",
   "name": "conda_python3"
  },
  "language_info": {
   "codemirror_mode": {
    "name": "ipython",
    "version": 3
   },
   "file_extension": ".py",
   "mimetype": "text/x-python",
   "name": "python",
   "nbconvert_exporter": "python",
   "pygments_lexer": "ipython3",
   "version": "3.8.12"
  }
 },
 "nbformat": 4,
 "nbformat_minor": 5
}
